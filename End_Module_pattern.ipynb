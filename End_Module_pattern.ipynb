{
 "cells": [
  {
   "cell_type": "markdown",
   "id": "4f95596a",
   "metadata": {},
   "source": [
    "Q1: A student will not be allowed to sit in exam if his/her attendence is less than 75%.  \n",
    "Take following input from user Number of classes held Number of classes attended. And print percentage of class attended  \n",
    "Is student is allowed to sit in exam or not."
   ]
  },
  {
   "cell_type": "code",
   "execution_count": 5,
   "id": "5c709559",
   "metadata": {},
   "outputs": [
    {
     "data": {
      "text/plain": [
       "\"can't attend\""
      ]
     },
     "execution_count": 5,
     "metadata": {},
     "output_type": "execute_result"
    }
   ],
   "source": [
    "def check(attend,Tclasses):\n",
    "#attended=int(input(\"class attnd: \"))\n",
    "#classes=int(input(\"total classes: \"))\n",
    "    perc=int((attend/Tclasses)*100)\n",
    "\n",
    "    if(perc>75):\n",
    "        return (\"can attend classes\")\n",
    "    else:\n",
    "        return (\"can't attend\")\n",
    "\n",
    "check(45,100)\n",
    "\n",
    "\n"
   ]
  },
  {
   "cell_type": "markdown",
   "id": "360d1041",
   "metadata": {},
   "source": [
    "Q2:accept amount from user and find the minimum number notes required to get the amount amount =512  \n",
    "Notes: 2000,500,100,50,10,5,2,1  \n",
    "\n",
    "500-1 note  \n",
    "10  - 1 note  \n",
    "2-  1 coin  "
   ]
  },
  {
   "cell_type": "code",
   "execution_count": 20,
   "id": "a4ad2bc1",
   "metadata": {},
   "outputs": [
    {
     "name": "stdout",
     "output_type": "stream",
     "text": [
      "2k: 18\n",
      "500: 3\n"
     ]
    }
   ],
   "source": [
    "amt=37500\n",
    "\n",
    "req_notes_2k=amt//2000\n",
    "if req_notes_2k>0:\n",
    "    print(\"2k:\",req_notes_2k)\n",
    "rem_amt=amt%2000\n",
    "\n",
    "note_500=rem_amt//500\n",
    "if rem_amt>0:\n",
    "    \n",
    "    print(\"500:\",note_500)\n",
    "\n",
    "rem_amt=rem_amt%500\n",
    "\n",
    "    \n",
    "\n",
    "    "
   ]
  },
  {
   "cell_type": "code",
   "execution_count": 21,
   "id": "47da9be2",
   "metadata": {},
   "outputs": [
    {
     "data": {
      "text/plain": [
       "0"
      ]
     },
     "execution_count": 21,
     "metadata": {},
     "output_type": "execute_result"
    }
   ],
   "source": [
    "rem_amt"
   ]
  },
  {
   "cell_type": "code",
   "execution_count": 1,
   "id": "e287beb8",
   "metadata": {},
   "outputs": [
    {
     "name": "stdout",
     "output_type": "stream",
     "text": [
      "2\n",
      "2000\n"
     ]
    }
   ],
   "source": [
    "amt=4050\n",
    "\n",
    "money=[2000]\n",
    "\n",
    "\n",
    "for i in money:\n",
    "    if amt>i:\n",
    "        notes_2k=amt//i\n",
    "        print(notes_2k)\n",
    "        \n",
    "        rem_amt=amt%i\n",
    "    print(i)\n",
    "        \n",
    "        "
   ]
  },
  {
   "cell_type": "code",
   "execution_count": null,
   "id": "b615be0c",
   "metadata": {},
   "outputs": [],
   "source": []
  },
  {
   "cell_type": "markdown",
   "id": "767d1c98",
   "metadata": {},
   "source": [
    "Modify the above question Q1 to allow student to sit if he/she has medical cause. Ask user if he/she has medical cause or not ( 'Y' or 'N' ) and print accordingly.  \n",
    "4.\tA school has following rules for grading system:  \n",
    "a.\tBelow 25 - F  \n",
    "b.\t25 to 45 - E  \n",
    "c.\t45 to 50 - D  \n",
    "d.\t50 to 60 - C  \n",
    "e.\t60 to 80 - B  \n",
    "f.\tAbove 80 - A  \n",
    "Ask user to enter marks and print the corresponding grade.  \n",
    "  "
   ]
  },
  {
   "cell_type": "code",
   "execution_count": 7,
   "id": "d4ae5c8c",
   "metadata": {},
   "outputs": [],
   "source": [
    "def check(attend,Tclasses):\n",
    "\n",
    "    perc=int((attend/Tclasses)*100)\n",
    "    if(perc<25):\n",
    "        med=input(\"any medical issues: \")\n",
    "        if med=='y'or med=='Y':\n",
    "            return (\"can attend and grade F\")\n",
    "        else:\n",
    "            return(\"cant attend\")\n",
    "            \n",
    "    elif (25<perc<45):\n",
    "        med=input(\"any medical issues: \")\n",
    "        \n",
    "        if med=='y'or med=='Y':\n",
    "            \n",
    "            return (\"can attend and grade E\")\n",
    "        else:\n",
    "            return(\"cant attend\")\n",
    "        \n",
    "       \n",
    "    \n",
    "            \n",
    "            \n",
    "            \n",
    "        \n",
    "\n",
    "\n"
   ]
  },
  {
   "cell_type": "code",
   "execution_count": 9,
   "id": "8b9eb0d7",
   "metadata": {},
   "outputs": [
    {
     "name": "stdout",
     "output_type": "stream",
     "text": [
      "any medical issues: n\n"
     ]
    },
    {
     "data": {
      "text/plain": [
       "'cant attend'"
      ]
     },
     "execution_count": 9,
     "metadata": {},
     "output_type": "execute_result"
    }
   ],
   "source": [
    "check(43,100)"
   ]
  },
  {
   "cell_type": "markdown",
   "id": "e1d695e0",
   "metadata": {},
   "source": [
    "Write a program to calculate the electricity bill (accept number of unit from user) according to the following criteria :  \n",
    "             Unit                                    Price    \n",
    "First 100 units                                       no charge  \n",
    "Next 100 units                                        Rs 5 per unit  \n",
    "After 200 units                                       Rs 10 per unit  \n",
    "(For example if input unit is 350 than total bill amount is Rs2000)  "
   ]
  },
  {
   "cell_type": "code",
   "execution_count": 16,
   "id": "2dc4a8ff",
   "metadata": {},
   "outputs": [],
   "source": [
    "def chk_bill(units):\n",
    "    if(units<100):\n",
    "        return (\"no charge\")\n",
    "    elif(100<units<200):\n",
    "        amt=(units%100)*5\n",
    "        return (\"the amount is:\",amt)\n",
    "    elif(200<units<300):\n",
    "        amt=(units%200)*10\n",
    "        return (\"the amount is:\",500+amt)\n",
    "    "
   ]
  },
  {
   "cell_type": "code",
   "execution_count": 20,
   "id": "3e1bd81a",
   "metadata": {},
   "outputs": [
    {
     "data": {
      "text/plain": [
       "('the amount is:', 1000)"
      ]
     },
     "execution_count": 20,
     "metadata": {},
     "output_type": "execute_result"
    }
   ],
   "source": [
    "chk_bill(250)"
   ]
  },
  {
   "cell_type": "code",
   "execution_count": null,
   "id": "d92b2d5a",
   "metadata": {},
   "outputs": [],
   "source": []
  },
  {
   "cell_type": "markdown",
   "id": "c0fb76e5",
   "metadata": {},
   "source": [
    "Q: Chk_leapYear"
   ]
  },
  {
   "cell_type": "code",
   "execution_count": 12,
   "id": "f8667630",
   "metadata": {},
   "outputs": [],
   "source": [
    "def chk_leap(leap):\n",
    "    \"checking leap year\"\n",
    "    \n",
    "    if(leap%400==0):\n",
    "        return (\"leap year\")\n",
    "    \n",
    "    elif(leap%4==0):\n",
    "        return (\"leap year\")\n",
    "    \n",
    "    \n",
    "    elif(leap%100==0):\n",
    "        \n",
    "        return (\"non leap year\")\n",
    "#     elif(leap%4==0):\n",
    "#         return (\"leap year\")\n",
    "    \n",
    "    else:\n",
    "        return(\"non leap yr\")\n",
    "    \n",
    "    "
   ]
  },
  {
   "cell_type": "code",
   "execution_count": 13,
   "id": "d782b4ba",
   "metadata": {},
   "outputs": [
    {
     "data": {
      "text/plain": [
       "'leap year'"
      ]
     },
     "execution_count": 13,
     "metadata": {},
     "output_type": "execute_result"
    }
   ],
   "source": [
    "chk_leap(2000)"
   ]
  },
  {
   "cell_type": "code",
   "execution_count": null,
   "id": "9732a905",
   "metadata": {},
   "outputs": [],
   "source": []
  },
  {
   "cell_type": "markdown",
   "id": "7597a60b",
   "metadata": {},
   "source": [
    "Write a program to accept the price of a bike and display the road tax and insurance to be paid according to the following criteria . also display total amount to be paid.  \n",
    "      \n",
    "        Cost price (in Rs)           Tax                Inssurance  \n",
    "        > 100000                     15 %                   20%  \n",
    "        > 50000 and <= 100000        10%                    8%  \n",
    "        <= 50000                     5%                     5%   \n"
   ]
  },
  {
   "cell_type": "code",
   "execution_count": 5,
   "id": "bd31bd17",
   "metadata": {},
   "outputs": [],
   "source": [
    "def tax(amt):\n",
    "#     print(\"d\")\n",
    "    if(amt>100000):\n",
    "#         print(\"c\")\n",
    "        tax=amt+0.15*amt\n",
    "        insurance=amt+amt*0.20\n",
    "        total=tax+insurance\n",
    "        \n",
    "        print(tax,insurance,total)\n",
    "        "
   ]
  },
  {
   "cell_type": "code",
   "execution_count": 7,
   "id": "176d9649",
   "metadata": {},
   "outputs": [
    {
     "name": "stdout",
     "output_type": "stream",
     "text": [
      "d\n",
      "c\n",
      "115524.4 120547.2 236071.59999999998\n"
     ]
    }
   ],
   "source": [
    "tax(100456)"
   ]
  },
  {
   "cell_type": "code",
   "execution_count": null,
   "id": "9e7026cc",
   "metadata": {},
   "outputs": [],
   "source": []
  },
  {
   "cell_type": "code",
   "execution_count": 10,
   "id": "9b3950e4",
   "metadata": {},
   "outputs": [
    {
     "name": "stdout",
     "output_type": "stream",
     "text": [
      "****\n"
     ]
    }
   ],
   "source": [
    "print(\"*\"*4)"
   ]
  },
  {
   "cell_type": "code",
   "execution_count": 11,
   "id": "15267f28",
   "metadata": {},
   "outputs": [
    {
     "name": "stdout",
     "output_type": "stream",
     "text": [
      "*****\n",
      "*****\n",
      "*****\n",
      "*****\n"
     ]
    }
   ],
   "source": [
    "for i in range(4):\n",
    "    print(\"*\"*5)"
   ]
  },
  {
   "cell_type": "code",
   "execution_count": 91,
   "id": "283eee9c",
   "metadata": {},
   "outputs": [],
   "source": [
    "def patt1(n):\n",
    "    for i in range(n):\n",
    "        \n",
    "        for j in range(i+1):\n",
    "                \n",
    "            print(\"*\",end=' ')\n",
    "            \n",
    "        print()\n",
    "                \n",
    "        \n",
    "        \n",
    "    "
   ]
  },
  {
   "cell_type": "code",
   "execution_count": 92,
   "id": "f127444d",
   "metadata": {},
   "outputs": [
    {
     "name": "stdout",
     "output_type": "stream",
     "text": [
      "* \n",
      "* * \n",
      "* * * \n",
      "* * * * \n",
      "* * * * * \n",
      "* * * * * * \n"
     ]
    }
   ],
   "source": [
    "patt1(6)"
   ]
  },
  {
   "cell_type": "code",
   "execution_count": 74,
   "id": "c650337b",
   "metadata": {},
   "outputs": [],
   "source": [
    "def patt2(n):\n",
    "    \n",
    "    for i in range(n):\n",
    "        for j in range (i,n):\n",
    "            print(\"*\",end=' ')\n",
    "        print()"
   ]
  },
  {
   "cell_type": "code",
   "execution_count": 75,
   "id": "2f3d8973",
   "metadata": {},
   "outputs": [
    {
     "name": "stdout",
     "output_type": "stream",
     "text": [
      "* * * * * \n",
      "* * * * \n",
      "* * * \n",
      "* * \n",
      "* \n"
     ]
    }
   ],
   "source": [
    "patt2(5)"
   ]
  },
  {
   "cell_type": "code",
   "execution_count": 105,
   "id": "89f552ac",
   "metadata": {},
   "outputs": [],
   "source": [
    "def patt3(n):\n",
    "    for i in range(n):\n",
    "        for j in range(i,n):\n",
    "            \n",
    "            print(\"-\",end=\" \")\n",
    "            \n",
    "        for j in range(i+1):\n",
    "            print(\"*\",end=\" \")\n",
    "        \n",
    "        \n",
    "        print()"
   ]
  },
  {
   "cell_type": "code",
   "execution_count": 106,
   "id": "463b25ef",
   "metadata": {},
   "outputs": [
    {
     "name": "stdout",
     "output_type": "stream",
     "text": [
      "- - - - - * \n",
      "- - - - * * \n",
      "- - - * * * \n",
      "- - * * * * \n",
      "- * * * * * \n"
     ]
    }
   ],
   "source": [
    "patt3(5)"
   ]
  },
  {
   "cell_type": "code",
   "execution_count": 103,
   "id": "0ce4c5ea",
   "metadata": {},
   "outputs": [],
   "source": [
    "def patt4(n):\n",
    "    for i in range(n):\n",
    "        for j in range(i+1):\n",
    "            print(\"-\",end=' ')\n",
    "            \n",
    "        for j in range(i,n):\n",
    "            print(\"*\",end=' ')\n",
    "        print()"
   ]
  },
  {
   "cell_type": "code",
   "execution_count": 104,
   "id": "53c86337",
   "metadata": {},
   "outputs": [
    {
     "name": "stdout",
     "output_type": "stream",
     "text": [
      "- * * * * * * \n",
      "- - * * * * * \n",
      "- - - * * * * \n",
      "- - - - * * * \n",
      "- - - - - * * \n",
      "- - - - - - * \n"
     ]
    }
   ],
   "source": [
    "patt4(6)"
   ]
  },
  {
   "cell_type": "code",
   "execution_count": 117,
   "id": "f4ebbee3",
   "metadata": {},
   "outputs": [],
   "source": [
    "def patt5(n):\n",
    "    for i in range(5):\n",
    "        for j in range(i,n):\n",
    "            print(\"-\",end=' ')\n",
    "        \n",
    "        for j in range(i+1):\n",
    "            print(\"*\",end=\" \")\n",
    "            \n",
    "        for j in range(i+1):\n",
    "            print(\"*\",end=\" \")\n",
    "            \n",
    "        print()\n",
    "        "
   ]
  },
  {
   "cell_type": "code",
   "execution_count": 118,
   "id": "cb8809b6",
   "metadata": {},
   "outputs": [
    {
     "name": "stdout",
     "output_type": "stream",
     "text": [
      "- - - - - * * \n",
      "- - - - * * * * \n",
      "- - - * * * * * * \n",
      "- - * * * * * * * * \n",
      "- * * * * * * * * * * \n"
     ]
    }
   ],
   "source": [
    "patt5(5) # here is a small catch loop knows only to print cplumn but here we print one column less..."
   ]
  },
  {
   "cell_type": "code",
   "execution_count": 122,
   "id": "75bf6ab7",
   "metadata": {},
   "outputs": [],
   "source": [
    "def patt5(n):\n",
    "    for i in range(5):\n",
    "        for j in range(i,n):\n",
    "            print(\"-\",end=' ')\n",
    "        \n",
    "        for j in range(i):\n",
    "            print(\"*\",end=\" \")\n",
    "            \n",
    "        for j in range(i+1):\n",
    "            print(\"*\",end=\" \")\n",
    "            \n",
    "        print()"
   ]
  },
  {
   "cell_type": "code",
   "execution_count": 123,
   "id": "56c104e6",
   "metadata": {},
   "outputs": [
    {
     "name": "stdout",
     "output_type": "stream",
     "text": [
      "- - - - - - * \n",
      "- - - - - * * * \n",
      "- - - - * * * * * \n",
      "- - - * * * * * * * \n",
      "- - * * * * * * * * * \n"
     ]
    }
   ],
   "source": [
    "patt5(6)"
   ]
  },
  {
   "cell_type": "code",
   "execution_count": null,
   "id": "d5e7b005",
   "metadata": {},
   "outputs": [],
   "source": []
  },
  {
   "cell_type": "code",
   "execution_count": 131,
   "id": "2a967c16",
   "metadata": {},
   "outputs": [],
   "source": [
    "def patt6(n):\n",
    "    for i in range(n):\n",
    "        for j in range(i+1):\n",
    "            print(\"-\",end=' ')\n",
    "            \n",
    "        for j in range(i,n-1):\n",
    "            print(\"*\",end=' ')\n",
    "            \n",
    "        for j in range(i,n):\n",
    "            print(\"*\",end=\" \")\n",
    "            \n",
    "            \n",
    "        print()\n",
    "        \n",
    "        "
   ]
  },
  {
   "cell_type": "code",
   "execution_count": 132,
   "id": "f8b01fa7",
   "metadata": {},
   "outputs": [
    {
     "name": "stdout",
     "output_type": "stream",
     "text": [
      "- * * * * * * * * * \n",
      "- - * * * * * * * \n",
      "- - - * * * * * \n",
      "- - - - * * * \n",
      "- - - - - * \n"
     ]
    }
   ],
   "source": [
    "patt6(5) #same catch as above here also we have to print one column less"
   ]
  },
  {
   "cell_type": "code",
   "execution_count": 169,
   "id": "dfa856bf",
   "metadata": {},
   "outputs": [],
   "source": [
    "def patt7(n):\n",
    "    for i in range(n):\n",
    "        for j in range(i,n):\n",
    "            print(\"-\",end=' ')\n",
    "            \n",
    "        for j in range(i):\n",
    "            print(\"*\",end=' ')\n",
    "            \n",
    "#         for i in range(n):\n",
    "#             print(\" \",end=' ')\n",
    "            \n",
    "            \n",
    "#         for j in range(i,n):\n",
    "#             print(\"*\",end=\" \")\n",
    "            \n",
    "        print()\n",
    "        \n",
    "        \n",
    "        \n",
    "    for i in range(n):\n",
    "        \n",
    "        for j in range(i):\n",
    "            print(\"-\",end=\" \")\n",
    "            \n",
    "        for j in range(i,n):\n",
    "            \n",
    "            print(\"*\",end=' ')\n",
    "     \n",
    "        \n",
    "        print()"
   ]
  },
  {
   "cell_type": "code",
   "execution_count": 170,
   "id": "684a941b",
   "metadata": {},
   "outputs": [
    {
     "name": "stdout",
     "output_type": "stream",
     "text": [
      "- - - - - \n",
      "- - - - * \n",
      "- - - * * \n",
      "- - * * * \n",
      "- * * * * \n",
      "* * * * * \n",
      "- * * * * \n",
      "- - * * * \n",
      "- - - * * \n",
      "- - - - * \n"
     ]
    }
   ],
   "source": [
    "patt7(5)"
   ]
  },
  {
   "cell_type": "code",
   "execution_count": null,
   "id": "137367cc",
   "metadata": {},
   "outputs": [],
   "source": []
  },
  {
   "cell_type": "markdown",
   "id": "21a0e8e7",
   "metadata": {},
   "source": [
    "A 3x3 Matrix "
   ]
  },
  {
   "cell_type": "code",
   "execution_count": 52,
   "id": "e3dc5505",
   "metadata": {},
   "outputs": [],
   "source": [
    "l=[]\n",
    "\n",
    "for i in range(1,4):\n",
    "    a=[]\n",
    "    for j in range(1,4):\n",
    "        a.append(i*j)\n",
    "    l.append(a)"
   ]
  },
  {
   "cell_type": "code",
   "execution_count": 54,
   "id": "2bcf6986",
   "metadata": {},
   "outputs": [
    {
     "data": {
      "text/plain": [
       "[[1, 2, 3], [2, 4, 6], [3, 6, 9]]"
      ]
     },
     "execution_count": 54,
     "metadata": {},
     "output_type": "execute_result"
    }
   ],
   "source": [
    "l"
   ]
  },
  {
   "cell_type": "code",
   "execution_count": null,
   "id": "c10a0694",
   "metadata": {},
   "outputs": [],
   "source": []
  },
  {
   "cell_type": "code",
   "execution_count": 23,
   "id": "44249a8e",
   "metadata": {},
   "outputs": [],
   "source": [
    "l=[[i*j for i in range (1,4)]for j in range(1,4)]"
   ]
  },
  {
   "cell_type": "code",
   "execution_count": 24,
   "id": "97b6cc83",
   "metadata": {},
   "outputs": [
    {
     "data": {
      "text/plain": [
       "[[1, 2, 3], [2, 4, 6], [3, 6, 9]]"
      ]
     },
     "execution_count": 24,
     "metadata": {},
     "output_type": "execute_result"
    }
   ],
   "source": [
    "l"
   ]
  },
  {
   "cell_type": "code",
   "execution_count": 31,
   "id": "0142f246",
   "metadata": {},
   "outputs": [],
   "source": [
    "l1=[1,2,3,4]\n",
    "l2=[5,6,7,8]\n",
    "l3=[]\n",
    "for i in l1:\n",
    "    for j in l2:\n",
    "        l3.append(i*j)\n",
    "\n",
    "        "
   ]
  },
  {
   "cell_type": "code",
   "execution_count": 32,
   "id": "2c513793",
   "metadata": {},
   "outputs": [
    {
     "data": {
      "text/plain": [
       "[5, 6, 7, 8, 10, 12, 14, 16, 15, 18, 21, 24, 20, 24, 28, 32]"
      ]
     },
     "execution_count": 32,
     "metadata": {},
     "output_type": "execute_result"
    }
   ],
   "source": [
    "l3"
   ]
  },
  {
   "cell_type": "code",
   "execution_count": 34,
   "id": "cc97aabc",
   "metadata": {},
   "outputs": [],
   "source": [
    "l=[i*j for i in l1 for j in l2]"
   ]
  },
  {
   "cell_type": "code",
   "execution_count": 35,
   "id": "1357153c",
   "metadata": {},
   "outputs": [
    {
     "data": {
      "text/plain": [
       "[5, 6, 7, 8, 10, 12, 14, 16, 15, 18, 21, 24, 20, 24, 28, 32]"
      ]
     },
     "execution_count": 35,
     "metadata": {},
     "output_type": "execute_result"
    }
   ],
   "source": [
    "l"
   ]
  },
  {
   "cell_type": "code",
   "execution_count": null,
   "id": "b7f048dc",
   "metadata": {},
   "outputs": [],
   "source": []
  },
  {
   "cell_type": "code",
   "execution_count": 93,
   "id": "0766770d",
   "metadata": {},
   "outputs": [
    {
     "name": "stdout",
     "output_type": "stream",
     "text": [
      "[6, 6, 6, 6]\n"
     ]
    }
   ],
   "source": [
    "l1=[1,2,3,4]\n",
    "l2=[5,6,7,8]\n",
    "l3=[]\n",
    "for i in range (0,len(l1)):\n",
    "    for i in range (0,len(l2)):\n",
    "        l3.append(l1[i]+l2[i])\n",
    "        \n",
    "        break\n",
    "print(l3)\n",
    "        "
   ]
  },
  {
   "cell_type": "markdown",
   "id": "7f20fc26",
   "metadata": {},
   "source": [
    "# zip"
   ]
  },
  {
   "cell_type": "code",
   "execution_count": 82,
   "id": "23958a8c",
   "metadata": {},
   "outputs": [
    {
     "name": "stdout",
     "output_type": "stream",
     "text": [
      "15\n",
      "18\n",
      "21\n"
     ]
    }
   ],
   "source": [
    "l1=[1,2,3,4]\n",
    "l2=[5,6,7,8]\n",
    "l3=[9,10,11]\n",
    "for i,j,k in zip(l1,l2,l3):\n",
    "    \n",
    "    print(i+j+k)"
   ]
  },
  {
   "cell_type": "code",
   "execution_count": null,
   "id": "b3c8c52e",
   "metadata": {},
   "outputs": [],
   "source": []
  },
  {
   "cell_type": "code",
   "execution_count": 9,
   "id": "6b9c6292",
   "metadata": {},
   "outputs": [
    {
     "name": "stdout",
     "output_type": "stream",
     "text": [
      "1\n",
      "121\n",
      "12321\n",
      "1234321\n",
      "123454321\n",
      "12345654321\n"
     ]
    }
   ],
   "source": [
    "n=6\n",
    "for i in range(n):\n",
    "    for j in range(i+1):\n",
    "        print(j+1,end='')\n",
    "    for k in range (i,0,-1):\n",
    "        print(k,end='')\n",
    "    print()\n",
    "        "
   ]
  },
  {
   "cell_type": "code",
   "execution_count": 1,
   "id": "17fb080d",
   "metadata": {},
   "outputs": [
    {
     "ename": "NameError",
     "evalue": "name 'OOPS' is not defined",
     "output_type": "error",
     "traceback": [
      "\u001b[1;31m---------------------------------------------------------------------------\u001b[0m",
      "\u001b[1;31mNameError\u001b[0m                                 Traceback (most recent call last)",
      "Cell \u001b[1;32mIn[1], line 1\u001b[0m\n\u001b[1;32m----> 1\u001b[0m OOPS\n",
      "\u001b[1;31mNameError\u001b[0m: name 'OOPS' is not defined"
     ]
    }
   ],
   "source": [
    "#OOPS"
   ]
  },
  {
   "cell_type": "code",
   "execution_count": 15,
   "id": "36d8d580",
   "metadata": {},
   "outputs": [],
   "source": [
    "class student:\n",
    "    institute=\"iacsd\" #class variable\n",
    "    def __init__(self,name,roll,marks,course): #constructor\n",
    "        \n",
    "        self.nam=name\n",
    "        self.roll=roll\n",
    "        self.marks=marks\n",
    "        self.course=course\n",
    "    \n",
    "    def display(self):\n",
    "        \n",
    "        print(self.nam,self.roll,self.marks,self.course,student.institute)\n",
    "        "
   ]
  },
  {
   "cell_type": "code",
   "execution_count": 16,
   "id": "67d906bc",
   "metadata": {},
   "outputs": [],
   "source": [
    "c1=student(\"purven\",12,23,\"dbda\")"
   ]
  },
  {
   "cell_type": "code",
   "execution_count": 17,
   "id": "0a0c7c62",
   "metadata": {},
   "outputs": [
    {
     "name": "stdout",
     "output_type": "stream",
     "text": [
      "purven 12 23 dbda iacsd\n"
     ]
    }
   ],
   "source": [
    "c1.display()"
   ]
  },
  {
   "cell_type": "code",
   "execution_count": 13,
   "id": "461b57ac",
   "metadata": {},
   "outputs": [],
   "source": [
    "c2=student(\"tejas\",21,32,\"ditiss\")"
   ]
  },
  {
   "cell_type": "code",
   "execution_count": 14,
   "id": "ee31d863",
   "metadata": {},
   "outputs": [
    {
     "name": "stdout",
     "output_type": "stream",
     "text": [
      "tejas 21 32 ditiss iacsd\n"
     ]
    }
   ],
   "source": [
    "c2.display()"
   ]
  },
  {
   "cell_type": "code",
   "execution_count": 18,
   "id": "93870ef1",
   "metadata": {},
   "outputs": [],
   "source": [
    "class car:\n",
    "    brand=\"TATA\"\n",
    "    def __init__(self,color,price,avg,type_fuel):\n",
    "        self.color=color\n",
    "        self.price=price\n",
    "        self.avg=avg\n",
    "        self.type_fuel=type_fuel\n",
    "    def display(self):\n",
    "        print(self.color,self.price,self.avg,self.type_fuel,car.brand)\n",
    "        \n",
    "    \n",
    "    "
   ]
  },
  {
   "cell_type": "code",
   "execution_count": 19,
   "id": "2ff956e9",
   "metadata": {},
   "outputs": [],
   "source": [
    "c1=car(\"red\",125896,35,\"petrol\")"
   ]
  },
  {
   "cell_type": "code",
   "execution_count": 20,
   "id": "452a1643",
   "metadata": {},
   "outputs": [
    {
     "name": "stdout",
     "output_type": "stream",
     "text": [
      "red 125896 35 petrol\n"
     ]
    }
   ],
   "source": [
    "c1.display()"
   ]
  },
  {
   "cell_type": "code",
   "execution_count": 22,
   "id": "8bfb8b22",
   "metadata": {},
   "outputs": [
    {
     "name": "stdout",
     "output_type": "stream",
     "text": [
      "125896 35\n"
     ]
    }
   ],
   "source": [
    "print(c1.price,c1.avg)"
   ]
  },
  {
   "cell_type": "code",
   "execution_count": 23,
   "id": "507ae4d9",
   "metadata": {},
   "outputs": [],
   "source": [
    "c2=car(\"blue\",125696,32,\"diesel\")"
   ]
  },
  {
   "cell_type": "code",
   "execution_count": 24,
   "id": "51313878",
   "metadata": {},
   "outputs": [
    {
     "name": "stdout",
     "output_type": "stream",
     "text": [
      "blue 125696 32 diesel\n"
     ]
    }
   ],
   "source": [
    "c2.display()"
   ]
  },
  {
   "cell_type": "code",
   "execution_count": 26,
   "id": "aae1f8df",
   "metadata": {},
   "outputs": [
    {
     "name": "stdout",
     "output_type": "stream",
     "text": [
      "251592\n"
     ]
    }
   ],
   "source": [
    "tot=c1.price+c2.price\n",
    "print(tot)"
   ]
  },
  {
   "cell_type": "code",
   "execution_count": 31,
   "id": "bfd7f263",
   "metadata": {},
   "outputs": [],
   "source": [
    "class car:\n",
    "    brand=\"TATA\"\n",
    "    count=0\n",
    "    def __init__(self,color,price,avg,type_fuel):\n",
    "        self.color=color\n",
    "        self.price=price\n",
    "        self.avg=avg\n",
    "        self.type_fuel=type_fuel\n",
    "        car.count+=1\n",
    "    def display(self):\n",
    "        print(self.color,self.price,self.avg,self.type_fuel,car.brand)\n",
    "        print(\"count is: \",car.count)"
   ]
  },
  {
   "cell_type": "code",
   "execution_count": 32,
   "id": "13fd85ee",
   "metadata": {},
   "outputs": [],
   "source": [
    "c1=car(\"white\",123,12,\"diesel\")"
   ]
  },
  {
   "cell_type": "markdown",
   "id": "4b2c13bb",
   "metadata": {},
   "source": [
    "c1.display()"
   ]
  },
  {
   "cell_type": "code",
   "execution_count": 33,
   "id": "708d7893",
   "metadata": {},
   "outputs": [
    {
     "name": "stdout",
     "output_type": "stream",
     "text": [
      "white 123 12 diesel TATA\n",
      "count is:  1\n"
     ]
    }
   ],
   "source": [
    "c1.display()"
   ]
  },
  {
   "cell_type": "code",
   "execution_count": 34,
   "id": "0bb29cb3",
   "metadata": {},
   "outputs": [],
   "source": [
    "c1=car(\"navy\",123123,1212312,\"petrol\")"
   ]
  },
  {
   "cell_type": "code",
   "execution_count": 35,
   "id": "883f4395",
   "metadata": {},
   "outputs": [
    {
     "name": "stdout",
     "output_type": "stream",
     "text": [
      "navy 123123 1212312 petrol TATA\n",
      "count is:  2\n"
     ]
    }
   ],
   "source": [
    "c1.display()"
   ]
  },
  {
   "cell_type": "code",
   "execution_count": 47,
   "id": "28ead6fe",
   "metadata": {},
   "outputs": [],
   "source": [
    "class Employee:\n",
    "    emp_count=0\n",
    "    def __init__(self,empid,name,deptno,salary,loc,mgr,designation=\"Employee\"):\n",
    "        self.empid=empid\n",
    "        self.salary=salary\n",
    "        Employee.emp_count += 1\n",
    "    def display_id(self):\n",
    "        print(self.empid)\n",
    "    def data_analysis(self):\n",
    "        print(\"Doing data analysis\")\n",
    "    def give_raise(self):\n",
    "        self.salary += 0.2*self.salary\n",
    "    def promotion(self):\n",
    "        self.designation=\"Manager\"\n",
    "    @classmethod  # write decorator @classmethod\n",
    "    def display_total_emp(cls):\n",
    "        print(cls.emp_count, Employee.emp_count)\n",
    "        #print(self.emp_count) # WON't work bcz self is not defined in class method\n",
    "    @staticmethod\n",
    "    def static_display_total_emp():\n",
    "        print(Employee.emp_count)\n",
    "        #print(cls.emp_count)# WON't work bcz cls is not defined in static method\n",
    "        #print(self.emp_count) # WON't work bcz self is not defined in static method"
   ]
  },
  {
   "cell_type": "code",
   "execution_count": 48,
   "id": "8c44acd6",
   "metadata": {},
   "outputs": [],
   "source": [
    "e1 = Employee(1,\"ss\",\"123\",56789,\"xyz\",\"pqr\")"
   ]
  },
  {
   "cell_type": "code",
   "execution_count": 49,
   "id": "2b28fc17",
   "metadata": {},
   "outputs": [
    {
     "name": "stdout",
     "output_type": "stream",
     "text": [
      "1 1\n"
     ]
    }
   ],
   "source": [
    "e1.display_total_emp()"
   ]
  },
  {
   "cell_type": "code",
   "execution_count": null,
   "id": "213e1772",
   "metadata": {},
   "outputs": [],
   "source": []
  },
  {
   "cell_type": "code",
   "execution_count": 1,
   "id": "ccda8add",
   "metadata": {},
   "outputs": [],
   "source": [
    "class A:\n",
    "    ca1=10\n",
    "    def __init__(self):\n",
    "        self.i1=90;\n",
    "        self.name=\"purven,pajjya,tejya\"\n",
    "        \n",
    "    def method1(self):\n",
    "        \n",
    "        print(\"instance of method a\")\n",
    "        \n",
    "class B(A):\n",
    "    def __int__(self):\n",
    "        A.__init__(self)\n",
    "        self.i2=91\n",
    "    def display(self):\n",
    "        print(self.i1,self.name,self.i2,A.ca1)\n",
    "        "
   ]
  },
  {
   "cell_type": "code",
   "execution_count": 2,
   "id": "77b1ca0a",
   "metadata": {},
   "outputs": [],
   "source": [
    "c1=B()"
   ]
  },
  {
   "cell_type": "code",
   "execution_count": 3,
   "id": "0ced174b",
   "metadata": {},
   "outputs": [
    {
     "ename": "AttributeError",
     "evalue": "'B' object has no attribute 'i2'",
     "output_type": "error",
     "traceback": [
      "\u001b[1;31m---------------------------------------------------------------------------\u001b[0m",
      "\u001b[1;31mAttributeError\u001b[0m                            Traceback (most recent call last)",
      "Cell \u001b[1;32mIn[3], line 1\u001b[0m\n\u001b[1;32m----> 1\u001b[0m c1\u001b[38;5;241m.\u001b[39mdisplay()\n",
      "Cell \u001b[1;32mIn[1], line 16\u001b[0m, in \u001b[0;36mB.display\u001b[1;34m(self)\u001b[0m\n\u001b[0;32m     15\u001b[0m \u001b[38;5;28;01mdef\u001b[39;00m \u001b[38;5;21mdisplay\u001b[39m(\u001b[38;5;28mself\u001b[39m):\n\u001b[1;32m---> 16\u001b[0m     \u001b[38;5;28mprint\u001b[39m(\u001b[38;5;28mself\u001b[39m\u001b[38;5;241m.\u001b[39mi1,\u001b[38;5;28mself\u001b[39m\u001b[38;5;241m.\u001b[39mname,\u001b[38;5;28mself\u001b[39m\u001b[38;5;241m.\u001b[39mi2,A\u001b[38;5;241m.\u001b[39mca1)\n",
      "\u001b[1;31mAttributeError\u001b[0m: 'B' object has no attribute 'i2'"
     ]
    }
   ],
   "source": [
    "c1.display()"
   ]
  },
  {
   "cell_type": "code",
   "execution_count": null,
   "id": "6e1ca2a2",
   "metadata": {},
   "outputs": [],
   "source": []
  },
  {
   "cell_type": "code",
   "execution_count": null,
   "id": "1229c7a1",
   "metadata": {},
   "outputs": [],
   "source": []
  },
  {
   "cell_type": "code",
   "execution_count": 8,
   "id": "b9113aaa",
   "metadata": {},
   "outputs": [],
   "source": [
    "class A:\n",
    "    ca1=10\n",
    "    def __init__(self):\n",
    "        self.i1=90\n",
    "        self.name=\"purven\"\n",
    "        \n",
    "    def method1(self):\n",
    "        print(\"instance 1\")\n",
    "class B(A):\n",
    "    \n",
    "    def __init__(self):\n",
    "        A.__init__(self)\n",
    "        self.i2=100;\n",
    "    def display(self):\n",
    "        print(self.i1,self.i2,self.ca1,self.name,A.ca1)\n",
    "        "
   ]
  },
  {
   "cell_type": "code",
   "execution_count": 9,
   "id": "e15a8c62",
   "metadata": {},
   "outputs": [],
   "source": [
    "b=B()"
   ]
  },
  {
   "cell_type": "code",
   "execution_count": 12,
   "id": "e6c0b272",
   "metadata": {},
   "outputs": [
    {
     "name": "stdout",
     "output_type": "stream",
     "text": [
      "90 100 10 purven 10\n",
      "instance 1\n"
     ]
    }
   ],
   "source": [
    "b.display()\n",
    "b.method1()"
   ]
  },
  {
   "cell_type": "code",
   "execution_count": 14,
   "id": "7edc1be6",
   "metadata": {},
   "outputs": [],
   "source": [
    "class A:\n",
    "    ca1=10\n",
    "    def __init__(self):\n",
    "        self.i1=90\n",
    "        self.name=\"purven\"\n",
    "        \n",
    "    def method1(self):\n",
    "        print(\"instance 1\")\n",
    "class B(A):\n",
    "    \n",
    "    def __init__(self):\n",
    "        A.__init__(self)\n",
    "        self.i2=100;\n",
    "    def display(self):\n",
    "        print(self.i1,self.i2,self.ca1,self.name,A.ca1)\n",
    "        \n",
    "        \n",
    "class C(A):\n",
    "    def __init__(self):\n",
    "        A.__init__(self)\n",
    "    def display(self):\n",
    "        print(self.i1)"
   ]
  },
  {
   "cell_type": "code",
   "execution_count": 15,
   "id": "9b3b3bca",
   "metadata": {},
   "outputs": [],
   "source": [
    "b=C()"
   ]
  },
  {
   "cell_type": "code",
   "execution_count": 17,
   "id": "03545c2c",
   "metadata": {},
   "outputs": [
    {
     "name": "stdout",
     "output_type": "stream",
     "text": [
      "90\n"
     ]
    }
   ],
   "source": [
    "b.display()"
   ]
  },
  {
   "cell_type": "code",
   "execution_count": 1,
   "id": "feb6c84d",
   "metadata": {},
   "outputs": [],
   "source": [
    "class Employee:\n",
    "    def __init__(self):\n",
    "        self.empid=input(\"Enter empid\")\n",
    "        self.name=input(\"Enter name\")\n",
    "        self.salary=input(\"Enter salary\")\n",
    "    def display(self):\n",
    "        print(self.empid,self.name,self.salary)"
   ]
  },
  {
   "cell_type": "code",
   "execution_count": 2,
   "id": "e9320fab",
   "metadata": {},
   "outputs": [],
   "source": [
    "class Manager(Employee):\n",
    "    def __init__(self,projectids):\n",
    "#         Employee.__init__(self)\n",
    "        super().__init__()\n",
    "        self.budget=1000000\n",
    "        self.projectids=projectids\n",
    "    def display(self):\n",
    "#         Employee.display(self)\n",
    "        super().display()\n",
    "        print(\"Display of manager\")\n",
    "    def display_project_ids(self):\n",
    "        print(self.empid,self.name,self.projectids)"
   ]
  },
  {
   "cell_type": "code",
   "execution_count": 3,
   "id": "0f8f6108",
   "metadata": {},
   "outputs": [
    {
     "name": "stdout",
     "output_type": "stream",
     "text": [
      "Enter empid12\n",
      "Enter namenin\n",
      "Enter salary23\n",
      "12 nin 23\n"
     ]
    }
   ],
   "source": [
    "d=Employee()\n",
    "d.display()"
   ]
  },
  {
   "cell_type": "code",
   "execution_count": null,
   "id": "94b15df4",
   "metadata": {},
   "outputs": [],
   "source": []
  },
  {
   "cell_type": "code",
   "execution_count": 2,
   "id": "ed910f7b",
   "metadata": {},
   "outputs": [],
   "source": [
    "#ReTest"
   ]
  },
  {
   "cell_type": "code",
   "execution_count": 17,
   "id": "ef5bab27",
   "metadata": {},
   "outputs": [],
   "source": [
    "class student:\n",
    "    \n",
    "    name=\"Poddar\"\n",
    "    def __init__(self,name,roll,classes):\n",
    "        self.name=name\n",
    "        self.roll=roll\n",
    "        self.classes=classes\n",
    "    def display(self):\n",
    "        print(self.name,self.roll,self.classes,student.name)\n",
    "        "
   ]
  },
  {
   "cell_type": "code",
   "execution_count": 18,
   "id": "140821c0",
   "metadata": {},
   "outputs": [],
   "source": [
    "s1=student(\"purven\",12,45)\n"
   ]
  },
  {
   "cell_type": "code",
   "execution_count": 19,
   "id": "308976e2",
   "metadata": {},
   "outputs": [
    {
     "name": "stdout",
     "output_type": "stream",
     "text": [
      "purven 12 45 Poddar\n"
     ]
    }
   ],
   "source": [
    "s1.display()"
   ]
  },
  {
   "cell_type": "code",
   "execution_count": 57,
   "id": "6e15cb3d",
   "metadata": {},
   "outputs": [],
   "source": [
    "class car:\n",
    "    count=0\n",
    "    name=\"TATA\"\n",
    "    def __init__(self,color,price,avg,fuel_type):\n",
    "        \n",
    "        self.color=color\n",
    "        self.price=price\n",
    "        self.avg=avg\n",
    "        self.fuel_type=fuel_type\n",
    "        car.count+=1\n",
    "    @classmethod\n",
    "    def display1(ls):\n",
    "        print(ls.name)\n",
    "        \n",
    "    @staticmethod\n",
    "    def static_display():\n",
    "        print(car.count)\n",
    "    \n",
    "    def display(self):\n",
    "        print(self.color,self.price,self.avg,self.fuel_type,car.count)\n",
    "        \n",
    "        "
   ]
  },
  {
   "cell_type": "code",
   "execution_count": 58,
   "id": "80496839",
   "metadata": {},
   "outputs": [],
   "source": [
    "c1=car(\"red\",45,45,\"petrol\")"
   ]
  },
  {
   "cell_type": "code",
   "execution_count": 59,
   "id": "65c127a6",
   "metadata": {},
   "outputs": [
    {
     "name": "stdout",
     "output_type": "stream",
     "text": [
      "red 45 45 petrol 1\n"
     ]
    }
   ],
   "source": [
    "c1.display()"
   ]
  },
  {
   "cell_type": "code",
   "execution_count": 60,
   "id": "084465bb",
   "metadata": {},
   "outputs": [
    {
     "name": "stdout",
     "output_type": "stream",
     "text": [
      "TATA\n"
     ]
    }
   ],
   "source": [
    "c1.display1()"
   ]
  },
  {
   "cell_type": "code",
   "execution_count": 61,
   "id": "e93ff706",
   "metadata": {},
   "outputs": [
    {
     "name": "stdout",
     "output_type": "stream",
     "text": [
      "TATA\n"
     ]
    }
   ],
   "source": [
    "car.display1()"
   ]
  },
  {
   "cell_type": "code",
   "execution_count": 62,
   "id": "e20daa85",
   "metadata": {},
   "outputs": [
    {
     "name": "stdout",
     "output_type": "stream",
     "text": [
      "1\n"
     ]
    }
   ],
   "source": [
    "car.static_display()"
   ]
  },
  {
   "cell_type": "code",
   "execution_count": null,
   "id": "4aa666be",
   "metadata": {},
   "outputs": [],
   "source": []
  },
  {
   "cell_type": "code",
   "execution_count": 55,
   "id": "a9e53ffb",
   "metadata": {},
   "outputs": [],
   "source": [
    "c2=car(\"blue\",48,6545,\"diesel\")"
   ]
  },
  {
   "cell_type": "code",
   "execution_count": 56,
   "id": "b670c0c3",
   "metadata": {},
   "outputs": [
    {
     "name": "stdout",
     "output_type": "stream",
     "text": [
      "blue 48 6545 diesel 2\n"
     ]
    }
   ],
   "source": [
    "c2.display()"
   ]
  },
  {
   "cell_type": "markdown",
   "id": "edcaee6b",
   "metadata": {},
   "source": [
    "class A: # all classes are child of Object class\n",
    "    ca1=10\n",
    "    def __init__(self): # This method is over-ridden by B\n",
    "        self.i1=90\n",
    "        self.__hidden_treasure=\"KOHINOOR,DIAMONDS,GOLD,PLATINUM\"\n",
    "    def method1(self):\n",
    "        print(\"Instance method in A\")\n",
    "\n",
    "class B(A):\n",
    "    def __init__(self):# This is method oevrridding\n",
    "        A.__init__(self)\n",
    "        self.i2=100\n",
    "    def display(self):\n",
    "        print(self.i1,self.i2,self.ca1,self._A__hidden_treasure)"
   ]
  },
  {
   "cell_type": "code",
   "execution_count": 79,
   "id": "8c0a6d11",
   "metadata": {},
   "outputs": [],
   "source": [
    "class A:\n",
    "    def __init__(self):\n",
    "        self.i1=90\n",
    "        self.__hidden_tresure=\"kohinoor,diaomonds\"\n",
    "    def method1(self):\n",
    "        print(\"instance menthod A\")\n",
    "        \n",
    "class B(A):\n",
    "    def __init__(self):\n",
    "        A.__init__(self)\n",
    "        self.i2=90\n",
    "    def display(self):\n",
    "        print(self.i1+self.i2,self._A__hidden_tresure)"
   ]
  },
  {
   "cell_type": "code",
   "execution_count": 80,
   "id": "6a21446a",
   "metadata": {},
   "outputs": [],
   "source": [
    "b=B()"
   ]
  },
  {
   "cell_type": "code",
   "execution_count": 81,
   "id": "640b74ff",
   "metadata": {},
   "outputs": [
    {
     "name": "stdout",
     "output_type": "stream",
     "text": [
      "180 kohinoor,diaomonds\n"
     ]
    }
   ],
   "source": [
    "b.display()"
   ]
  },
  {
   "cell_type": "code",
   "execution_count": 82,
   "id": "6b7921ba",
   "metadata": {},
   "outputs": [],
   "source": [
    "class A: # all classes are child of Object class\n",
    "    def __init__(self): # This method is over-ridden by B\n",
    "        self.i1=90\n",
    "\n",
    "class B(A):\n",
    "    def __init__(self):# This is method oevrridding\n",
    "#         A.__init__(self)\n",
    "        super().__init__()\n",
    "        print(self.i1)\n",
    "        self.i1=100\n",
    "        self.i2=100\n",
    "    def display(self):\n",
    "        print(self.i1,self.i2)\n",
    "class C(A):\n",
    "    def __init__(self):# This is method oevrridding\n",
    "        A.__init__(self) \n",
    "    def display(self):\n",
    "        print(self.i1)    "
   ]
  },
  {
   "cell_type": "code",
   "execution_count": 94,
   "id": "4776203a",
   "metadata": {},
   "outputs": [],
   "source": [
    "s1=C()"
   ]
  },
  {
   "cell_type": "code",
   "execution_count": 95,
   "id": "63e56458",
   "metadata": {},
   "outputs": [
    {
     "name": "stdout",
     "output_type": "stream",
     "text": [
      "41\n"
     ]
    }
   ],
   "source": [
    "s1.display()"
   ]
  },
  {
   "cell_type": "code",
   "execution_count": null,
   "id": "4d6ec2c1",
   "metadata": {},
   "outputs": [],
   "source": []
  },
  {
   "cell_type": "code",
   "execution_count": 90,
   "id": "b416baa9",
   "metadata": {},
   "outputs": [],
   "source": [
    "class A:\n",
    "    def __init__(self):\n",
    "        self.i1=30\n",
    "    \n",
    "class B(A):\n",
    "    \n",
    "    def __init__(self):\n",
    "        \n",
    "        A.__init__(self)\n",
    "#     self.i1=60\n",
    "        self.i2=10\n",
    "class C(B):\n",
    "    def __init__(self):\n",
    "        B.__init__(self)\n",
    "        self.i3=1\n",
    "        \n",
    "    def display(self):\n",
    "        print(self.i1+self.i2+self.i3)\n",
    "        "
   ]
  },
  {
   "cell_type": "code",
   "execution_count": 91,
   "id": "4d9f4dc5",
   "metadata": {},
   "outputs": [],
   "source": [
    "c1=C()"
   ]
  },
  {
   "cell_type": "code",
   "execution_count": 92,
   "id": "28bac26a",
   "metadata": {},
   "outputs": [
    {
     "name": "stdout",
     "output_type": "stream",
     "text": [
      "41\n"
     ]
    }
   ],
   "source": [
    "c1.display()"
   ]
  },
  {
   "cell_type": "code",
   "execution_count": 98,
   "id": "fdca37f9",
   "metadata": {},
   "outputs": [],
   "source": [
    "class point:\n",
    "    def __init__(self,x,y):\n",
    "        self.x=x\n",
    "        self.y=y\n",
    "    \n",
    "    def __add__(self,other):\n",
    "        print(other)\n",
    "        match other:\n",
    "            case point():\n",
    "                new_x = self.x + other.x\n",
    "                new_y = self.y + other.y\n",
    "                return point(new_x,new_y)\n",
    "            case int()|float():\n",
    "                new_x = self.x + other\n",
    "                new_y = self.y + other\n",
    "                return point(new_x,new_y)\n",
    "\n",
    "        if type(other) == type(1):\n",
    "            print(\"int\")\n",
    "        if type(other) == type(point(0,0)):\n",
    "            print(\"point\")\n",
    "        \n",
    "    def __radd__(self,other):\n",
    "        print(other)\n",
    "        match other:\n",
    "            case point():\n",
    "                new_x = self.x + other.x\n",
    "                new_y = self.y + other.y\n",
    "                return point(new_x,new_y)\n",
    "            case int()|float():\n",
    "                new_x = self.x + other\n",
    "                new_y = self.y + other\n",
    "                return point(new_x,new_y)\n",
    "\n",
    "            \n",
    "    def __sub__(self,other):\n",
    "        print(other)\n",
    "        match other:\n",
    "            case point():\n",
    "                new_x = self.x - other.x\n",
    "                new_y = self.y - other.y\n",
    "                return point(new_x,new_y)\n",
    "            case int()|float():\n",
    "                new_x = self.x - other\n",
    "                new_y = self.y - other\n",
    "                return point(new_x,new_y)\n",
    "    def __rsub__(self,other):\n",
    "        print(other)\n",
    "        match other:\n",
    "            case point():\n",
    "                new_x = self.x - other.x\n",
    "                new_y = self.y - other.y\n",
    "                return point(new_x,new_y)\n",
    "            case int()|float():\n",
    "                new_x = self.x - other\n",
    "                new_y = self.y - other\n",
    "                return point(new_x,new_y)\n",
    "    \n",
    "    def dist(self,other):\n",
    "        x=(self.x  -other.x)**2\n",
    "        y=(self.y  -other.y)**2\n",
    "        return (x+y)**0.5 "
   ]
  },
  {
   "cell_type": "code",
   "execution_count": 102,
   "id": "cc4aa4e6",
   "metadata": {},
   "outputs": [],
   "source": [
    "class point:\n",
    "    def __init__(self,x,y):\n",
    "        self.x=x\n",
    "        self.y=y\n",
    "        \n",
    "    def __add__(self,other):\n",
    "        match other:\n",
    "            case point():\n",
    "                new_x=self.x+other.y\n",
    "                new_y=self.x+other.y\n",
    "                return point(new_x,new_y)\n",
    "            case int()|float():\n",
    "                new_x=self.x+other\n",
    "                new_y=self.y+other\n",
    "                return point(new_x,new_y)\n",
    "                "
   ]
  },
  {
   "cell_type": "code",
   "execution_count": null,
   "id": "1bf59e99",
   "metadata": {},
   "outputs": [],
   "source": []
  },
  {
   "cell_type": "code",
   "execution_count": 107,
   "id": "b8eb5511",
   "metadata": {},
   "outputs": [],
   "source": [
    "p1=point(10,10)\n",
    "p2=point(20,20)"
   ]
  },
  {
   "cell_type": "code",
   "execution_count": null,
   "id": "bf8f4a7d",
   "metadata": {},
   "outputs": [],
   "source": []
  },
  {
   "cell_type": "code",
   "execution_count": null,
   "id": "2ae1d013",
   "metadata": {},
   "outputs": [],
   "source": []
  },
  {
   "cell_type": "code",
   "execution_count": 112,
   "id": "648e02ae",
   "metadata": {},
   "outputs": [
    {
     "data": {
      "text/plain": [
       "(30, 30)"
      ]
     },
     "execution_count": 112,
     "metadata": {},
     "output_type": "execute_result"
    }
   ],
   "source": [
    "p3.x,p3.y"
   ]
  },
  {
   "cell_type": "code",
   "execution_count": 5,
   "id": "8d987a9c",
   "metadata": {},
   "outputs": [
    {
     "ename": "TypeError",
     "evalue": "unsupported operand type(s) for +: 'sample' and 'sample'",
     "output_type": "error",
     "traceback": [
      "\u001b[1;31m---------------------------------------------------------------------------\u001b[0m",
      "\u001b[1;31mTypeError\u001b[0m                                 Traceback (most recent call last)",
      "Cell \u001b[1;32mIn[5], line 10\u001b[0m\n\u001b[0;32m      8\u001b[0m Ob1\u001b[38;5;241m=\u001b[39msample(\u001b[38;5;124m\"\u001b[39m\u001b[38;5;124mCode-\u001b[39m\u001b[38;5;124m\"\u001b[39m) \n\u001b[0;32m      9\u001b[0m Ob2\u001b[38;5;241m=\u001b[39msample(\u001b[38;5;124m\"\u001b[39m\u001b[38;5;124mSpeedy\u001b[39m\u001b[38;5;124m\"\u001b[39m) \n\u001b[1;32m---> 10\u001b[0m Ob3\u001b[38;5;241m=\u001b[39mOb2 \u001b[38;5;241m+\u001b[39mOb1\n\u001b[0;32m     11\u001b[0m \u001b[38;5;28mprint\u001b[39m(Ob3)\n",
      "\u001b[1;31mTypeError\u001b[0m: unsupported operand type(s) for +: 'sample' and 'sample'"
     ]
    }
   ],
   "source": [
    "class sample: \n",
    "    def __init__(self, a): \n",
    "        self.a = a \n",
    "\n",
    "    def __radd__(self, other): \n",
    "        return self.a + other.a \n",
    "\n",
    "Ob1=sample(\"Code-\") \n",
    "Ob2=sample(\"Speedy\") \n",
    "Ob3=Ob2 +Ob1\n",
    "print(Ob3)"
   ]
  },
  {
   "cell_type": "code",
   "execution_count": null,
   "id": "bfd6df24",
   "metadata": {},
   "outputs": [],
   "source": []
  }
 ],
 "metadata": {
  "kernelspec": {
   "display_name": "Python 3 (ipykernel)",
   "language": "python",
   "name": "python3"
  },
  "language_info": {
   "codemirror_mode": {
    "name": "ipython",
    "version": 3
   },
   "file_extension": ".py",
   "mimetype": "text/x-python",
   "name": "python",
   "nbconvert_exporter": "python",
   "pygments_lexer": "ipython3",
   "version": "3.11.4"
  }
 },
 "nbformat": 4,
 "nbformat_minor": 5
}
