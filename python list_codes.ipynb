{
 "cells": [
  {
   "cell_type": "code",
   "execution_count": 5,
   "id": "81f08b60",
   "metadata": {},
   "outputs": [
    {
     "name": "stdout",
     "output_type": "stream",
     "text": [
      "[500, 400, 300, 200, 100]\n"
     ]
    }
   ],
   "source": [
    "l1= [100, 200, 300, 400, 500]\n",
    "a=sorted(l1,reverse=True)\n",
    "\n",
    "print(a)"
   ]
  },
  {
   "cell_type": "code",
   "execution_count": 10,
   "id": "f5aea7ad",
   "metadata": {},
   "outputs": [
    {
     "data": {
      "text/plain": [
       "[500, 400, 300, 200, 100]"
      ]
     },
     "execution_count": 10,
     "metadata": {},
     "output_type": "execute_result"
    }
   ],
   "source": [
    "l1= [100, 200, 300, 400, 500]\n",
    "l1.reverse()\n",
    "l1"
   ]
  },
  {
   "cell_type": "code",
   "execution_count": 7,
   "id": "a55a0c32",
   "metadata": {},
   "outputs": [
    {
     "name": "stdout",
     "output_type": "stream",
     "text": [
      "51\n",
      "[152, 156, 160, 164, 168, 172, 176, 180, 184, 188, 192, 196, 200, 204, 208, 212, 216, 220, 224, 228, 232, 236, 240, 244, 248]\n"
     ]
    }
   ],
   "source": [
    "l1=[]\n",
    "for i in range(150,251,2):\n",
    "    l1.append(i)\n",
    "    \n",
    "print(len(l1))\n",
    "\n",
    "l2=l1.copy()\n",
    "\n",
    "for i in l2:\n",
    "    if i%4!=0:\n",
    "        l2.remove(i)\n",
    "        \n",
    "print(l2)\n",
    "\n",
    "    "
   ]
  },
  {
   "cell_type": "code",
   "execution_count": null,
   "id": "0c180e5e",
   "metadata": {},
   "outputs": [],
   "source": [
    "l1=[]\n",
    "l1.append(56)\n",
    "l1"
   ]
  },
  {
   "cell_type": "code",
   "execution_count": 14,
   "id": "95ddf167",
   "metadata": {},
   "outputs": [
    {
     "name": "stdout",
     "output_type": "stream",
     "text": [
      "1.0\n",
      "2.0\n",
      "3.0\n",
      "4.0\n",
      "5.0\n",
      "6.0\n",
      "7.0\n"
     ]
    }
   ],
   "source": [
    "import math\n",
    "l1=[1, 4, 9, 16, 25, 36, 49]\n",
    "for i in l1:\n",
    "    \n",
    "\n"
   ]
  },
  {
   "cell_type": "code",
   "execution_count": 13,
   "id": "3e393121",
   "metadata": {},
   "outputs": [
    {
     "ename": "NameError",
     "evalue": "name 'sqrt' is not defined",
     "output_type": "error",
     "traceback": [
      "\u001b[1;31m---------------------------------------------------------------------------\u001b[0m",
      "\u001b[1;31mNameError\u001b[0m                                 Traceback (most recent call last)",
      "Cell \u001b[1;32mIn[13], line 2\u001b[0m\n\u001b[0;32m      1\u001b[0m a\u001b[38;5;241m=\u001b[39m\u001b[38;5;241m4\u001b[39m\n\u001b[1;32m----> 2\u001b[0m sqrt(a)\n",
      "\u001b[1;31mNameError\u001b[0m: name 'sqrt' is not defined"
     ]
    }
   ],
   "source": []
  },
  {
   "cell_type": "code",
   "execution_count": 151,
   "id": "6b012f1e",
   "metadata": {},
   "outputs": [],
   "source": [
    "exa=[[34,55,26],[45,66,243],[22,33]]"
   ]
  },
  {
   "cell_type": "code",
   "execution_count": 152,
   "id": "09a80e42",
   "metadata": {},
   "outputs": [
    {
     "name": "stdout",
     "output_type": "stream",
     "text": [
      "sum of  [55, 66, 22, 33] -  176\n"
     ]
    }
   ],
   "source": [
    "li=[]\n",
    "import math\n",
    "count=0\n",
    "for i in exa:\n",
    "    for j in i:\n",
    "        if j%11==0:\n",
    "            li.append(j)\n",
    "            count+=1\n",
    "            \n",
    "for i in range(2,count):\n",
    "    if i*i==count:\n",
    "        print(\"sum of \",li,\"- \",sum(li))\n",
    "    else:\n",
    "        print(\"Average of \",li,\"- \",sum(l1)/count)\n",
    "    break    \n",
    "    \n",
    "    \n"
   ]
  },
  {
   "cell_type": "code",
   "execution_count": 160,
   "id": "f7b0635f",
   "metadata": {},
   "outputs": [],
   "source": [
    "exa=[[34,55,26,77],[45,66,243],[22,33,33,11,88,99]]"
   ]
  },
  {
   "cell_type": "code",
   "execution_count": null,
   "id": "a0b5f598",
   "metadata": {},
   "outputs": [],
   "source": []
  },
  {
   "cell_type": "code",
   "execution_count": 177,
   "id": "9115e07e",
   "metadata": {},
   "outputs": [
    {
     "name": "stdout",
     "output_type": "stream",
     "text": [
      "3.0\n",
      "sum of  [55, 77, 66, 22, 33, 33, 11, 88, 99] -  484\n"
     ]
    }
   ],
   "source": [
    "li=[]\n",
    "import math\n",
    "count=0\n",
    "for i in exa:\n",
    "    for j in i:\n",
    "        if j%11==0:\n",
    "            li.append(j)\n",
    "            count+=1\n",
    "c=math.sqrt(count)\n",
    "print(c)\n",
    "if c==int(c):\n",
    "    print(\"sum of \",li,\"- \",sum(li))\n",
    "else:\n",
    "    print(\"Average of \",li,\"- \",sum(l1)/count)\n",
    "   \n",
    "    \n",
    "    \n"
   ]
  },
  {
   "cell_type": "code",
   "execution_count": 164,
   "id": "e5732f0b",
   "metadata": {},
   "outputs": [
    {
     "data": {
      "text/plain": [
       "2.0"
      ]
     },
     "execution_count": 164,
     "metadata": {},
     "output_type": "execute_result"
    }
   ],
   "source": [
    "math.sqrt(4)\n"
   ]
  },
  {
   "cell_type": "code",
   "execution_count": 165,
   "id": "b07b4da0",
   "metadata": {},
   "outputs": [
    {
     "data": {
      "text/plain": [
       "True"
      ]
     },
     "execution_count": 165,
     "metadata": {},
     "output_type": "execute_result"
    }
   ],
   "source": [
    "2.0 == 2"
   ]
  },
  {
   "cell_type": "code",
   "execution_count": 104,
   "id": "976e6941",
   "metadata": {},
   "outputs": [],
   "source": [
    "a=16"
   ]
  },
  {
   "cell_type": "code",
   "execution_count": 110,
   "id": "104b0604",
   "metadata": {},
   "outputs": [],
   "source": [
    "b=math.sqrt(a)"
   ]
  },
  {
   "cell_type": "code",
   "execution_count": 114,
   "id": "05efcf98",
   "metadata": {},
   "outputs": [
    {
     "data": {
      "text/plain": [
       "4.0"
      ]
     },
     "execution_count": 114,
     "metadata": {},
     "output_type": "execute_result"
    }
   ],
   "source": [
    "b"
   ]
  },
  {
   "cell_type": "code",
   "execution_count": 111,
   "id": "b846eb28",
   "metadata": {},
   "outputs": [
    {
     "data": {
      "text/plain": [
       "float"
      ]
     },
     "execution_count": 111,
     "metadata": {},
     "output_type": "execute_result"
    }
   ],
   "source": [
    "type(b)"
   ]
  },
  {
   "cell_type": "code",
   "execution_count": 112,
   "id": "86cf0f00",
   "metadata": {},
   "outputs": [
    {
     "data": {
      "text/plain": [
       "True"
      ]
     },
     "execution_count": 112,
     "metadata": {},
     "output_type": "execute_result"
    }
   ],
   "source": [
    "b==int(b)"
   ]
  },
  {
   "cell_type": "code",
   "execution_count": 113,
   "id": "d3712bf6",
   "metadata": {},
   "outputs": [
    {
     "data": {
      "text/plain": [
       "float"
      ]
     },
     "execution_count": 113,
     "metadata": {},
     "output_type": "execute_result"
    }
   ],
   "source": [
    "type(b)"
   ]
  },
  {
   "cell_type": "code",
   "execution_count": 135,
   "id": "91622e8c",
   "metadata": {},
   "outputs": [],
   "source": [
    "a=7"
   ]
  },
  {
   "cell_type": "code",
   "execution_count": 136,
   "id": "b56f5ad8",
   "metadata": {},
   "outputs": [],
   "source": [
    "for i in range(2,a):\n",
    "    if i*i==a:\n",
    "        print(i)"
   ]
  },
  {
   "cell_type": "code",
   "execution_count": 125,
   "id": "481f5a08",
   "metadata": {},
   "outputs": [
    {
     "data": {
      "text/plain": [
       "16.0"
      ]
     },
     "execution_count": 125,
     "metadata": {},
     "output_type": "execute_result"
    }
   ],
   "source": [
    "b*b"
   ]
  },
  {
   "cell_type": "code",
   "execution_count": null,
   "id": "4b66dff8",
   "metadata": {},
   "outputs": [],
   "source": []
  },
  {
   "cell_type": "code",
   "execution_count": 182,
   "id": "5e1794a0",
   "metadata": {},
   "outputs": [],
   "source": [
    "exa=[[34,55,26],[45,66,243],[22,33,33,11,88,99]]"
   ]
  },
  {
   "cell_type": "code",
   "execution_count": 183,
   "id": "0c2ee925",
   "metadata": {},
   "outputs": [
    {
     "name": "stdout",
     "output_type": "stream",
     "text": [
      "[55, 66, 22, 33, 33, 11, 88, 99]\n",
      "50.875\n"
     ]
    }
   ],
   "source": [
    "import math\n",
    "l1=[]\n",
    "count=0\n",
    "for i in exa:\n",
    "    for j in i:\n",
    "        if j%11==0:\n",
    "            l1.append(j)\n",
    "            count+=1\n",
    "print(l1)\n",
    "c=math.sqrt(count)\n",
    " \n",
    "\n",
    "if c==int(c):\n",
    "    print(l1,sum(l1))\n",
    "    \n",
    "else:\n",
    "    print(sum(l1)/count)\n",
    "\n",
    "            "
   ]
  },
  {
   "cell_type": "code",
   "execution_count": null,
   "id": "1b9b66f9",
   "metadata": {},
   "outputs": [],
   "source": []
  },
  {
   "cell_type": "code",
   "execution_count": 191,
   "id": "d989bcbc",
   "metadata": {},
   "outputs": [
    {
     "data": {
      "text/plain": [
       "True"
      ]
     },
     "execution_count": 191,
     "metadata": {},
     "output_type": "execute_result"
    }
   ],
   "source": [
    "\n",
    "isinstance(\"x\",str)"
   ]
  },
  {
   "cell_type": "code",
   "execution_count": 192,
   "id": "891f2d72",
   "metadata": {},
   "outputs": [
    {
     "name": "stdout",
     "output_type": "stream",
     "text": [
      "4.140000000000001\n"
     ]
    }
   ],
   "source": [
    "print(1+3.14)"
   ]
  },
  {
   "cell_type": "code",
   "execution_count": 193,
   "id": "5129661b",
   "metadata": {},
   "outputs": [
    {
     "name": "stdout",
     "output_type": "stream",
     "text": [
      "0b10\n"
     ]
    }
   ],
   "source": [
    "print(bin(2))"
   ]
  },
  {
   "cell_type": "code",
   "execution_count": 195,
   "id": "9b8ef0c2",
   "metadata": {},
   "outputs": [
    {
     "name": "stdout",
     "output_type": "stream",
     "text": [
      "12\n",
      "25\n",
      "56\n",
      "89\n",
      "78\n",
      "45\n"
     ]
    }
   ],
   "source": [
    "l1=[12,25,56,89,78,45]\n",
    "for i in range(len(l1)):\n",
    "    print(l1[i])"
   ]
  },
  {
   "cell_type": "code",
   "execution_count": 198,
   "id": "4bc1c9e4",
   "metadata": {},
   "outputs": [
    {
     "name": "stdout",
     "output_type": "stream",
     "text": [
      "12\n",
      "25\n",
      "56\n",
      "89\n",
      "78\n",
      "45\n"
     ]
    }
   ],
   "source": [
    "l1=[12,25,56,89,78,45]\n",
    "for i in l1:\n",
    "    print(i)"
   ]
  },
  {
   "cell_type": "code",
   "execution_count": 203,
   "id": "9fb6e769",
   "metadata": {},
   "outputs": [
    {
     "name": "stdout",
     "output_type": "stream",
     "text": [
      "0 12\n",
      "1 25\n",
      "2 56\n",
      "3 89\n",
      "4 78\n",
      "5 45\n"
     ]
    }
   ],
   "source": [
    "l1=[12,25,56,89,78,45]\n",
    "for i,e in enumerate(l1): \n",
    "    print(i,e)"
   ]
  },
  {
   "cell_type": "code",
   "execution_count": 205,
   "id": "638c49de",
   "metadata": {},
   "outputs": [
    {
     "name": "stdout",
     "output_type": "stream",
     "text": [
      "0 12\n",
      "1 25\n",
      "2 56\n",
      "3 89\n",
      "4 78\n",
      "5 45\n"
     ]
    }
   ],
   "source": [
    "l1=[12,25,56,89,78,45]\n",
    "for i,e in enumerate(l1):\n",
    "    print(i,e)"
   ]
  },
  {
   "cell_type": "markdown",
   "id": "282bf670",
   "metadata": {},
   "source": [
    "abs(x) : give absolute value of x\n",
    "divmod(x,y) : returns pair ( x //y , x % y)\n",
    "x.conjugate() : gives conjugate of complex number x\n",
    "pow(x,y) :  same as x ** y , x raised to y\n",
    "round(x, n) : round value of x to n digits, by default n=0\n",
    "bool(x) : gives truth value of given object x. Returns True or False\n"
   ]
  },
  {
   "cell_type": "code",
   "execution_count": 206,
   "id": "b998e705",
   "metadata": {},
   "outputs": [
    {
     "data": {
      "text/plain": [
       "58.36846"
      ]
     },
     "execution_count": 206,
     "metadata": {},
     "output_type": "execute_result"
    }
   ],
   "source": [
    "abs(-58.36846)"
   ]
  },
  {
   "cell_type": "code",
   "execution_count": 207,
   "id": "4bc35f01",
   "metadata": {},
   "outputs": [
    {
     "data": {
      "text/plain": [
       "56"
      ]
     },
     "execution_count": 207,
     "metadata": {},
     "output_type": "execute_result"
    }
   ],
   "source": [
    "abs(-56)"
   ]
  },
  {
   "cell_type": "code",
   "execution_count": 208,
   "id": "194adf52",
   "metadata": {},
   "outputs": [
    {
     "data": {
      "text/plain": [
       "(12, 1)"
      ]
     },
     "execution_count": 208,
     "metadata": {},
     "output_type": "execute_result"
    }
   ],
   "source": [
    "divmod(25,2)"
   ]
  },
  {
   "cell_type": "code",
   "execution_count": 210,
   "id": "12784997",
   "metadata": {},
   "outputs": [
    {
     "data": {
      "text/plain": [
       "(0, 35)"
      ]
     },
     "execution_count": 210,
     "metadata": {},
     "output_type": "execute_result"
    }
   ],
   "source": [
    "divmod(35,36)"
   ]
  },
  {
   "cell_type": "code",
   "execution_count": 211,
   "id": "bf1c7bef",
   "metadata": {},
   "outputs": [
    {
     "data": {
      "text/plain": [
       "1.26"
      ]
     },
     "execution_count": 211,
     "metadata": {},
     "output_type": "execute_result"
    }
   ],
   "source": [
    "round(1.256984,2)"
   ]
  },
  {
   "cell_type": "code",
   "execution_count": 212,
   "id": "ae40bbc4",
   "metadata": {},
   "outputs": [
    {
     "data": {
      "text/plain": [
       "1.25698"
      ]
     },
     "execution_count": 212,
     "metadata": {},
     "output_type": "execute_result"
    }
   ],
   "source": [
    "round(1.256984,5)"
   ]
  },
  {
   "cell_type": "code",
   "execution_count": 213,
   "id": "a53a591d",
   "metadata": {},
   "outputs": [],
   "source": [
    "l1=[5,6,7,8]\n",
    "l1.insert(2,90)"
   ]
  },
  {
   "cell_type": "code",
   "execution_count": 214,
   "id": "0ba1d489",
   "metadata": {},
   "outputs": [
    {
     "data": {
      "text/plain": [
       "[5, 6, 90, 7, 8]"
      ]
     },
     "execution_count": 214,
     "metadata": {},
     "output_type": "execute_result"
    }
   ],
   "source": [
    "l1"
   ]
  },
  {
   "cell_type": "code",
   "execution_count": 215,
   "id": "7e1f61b4",
   "metadata": {},
   "outputs": [
    {
     "data": {
      "text/plain": [
       "(3+4j)"
      ]
     },
     "execution_count": 215,
     "metadata": {},
     "output_type": "execute_result"
    }
   ],
   "source": [
    "complex(3,4)"
   ]
  },
  {
   "cell_type": "code",
   "execution_count": 218,
   "id": "36293b06",
   "metadata": {},
   "outputs": [
    {
     "data": {
      "text/plain": [
       "(1+2j)"
      ]
     },
     "execution_count": 218,
     "metadata": {},
     "output_type": "execute_result"
    }
   ],
   "source": [
    "(1-2j).conjugate()# reverse the complex number"
   ]
  },
  {
   "cell_type": "code",
   "execution_count": null,
   "id": "414623b1",
   "metadata": {},
   "outputs": [],
   "source": []
  },
  {
   "cell_type": "code",
   "execution_count": 219,
   "id": "8002d648",
   "metadata": {},
   "outputs": [],
   "source": [
    "l1=list(range(51,100,3))"
   ]
  },
  {
   "cell_type": "code",
   "execution_count": 220,
   "id": "cef07f28",
   "metadata": {},
   "outputs": [
    {
     "data": {
      "text/plain": [
       "[51, 54, 57, 60, 63, 66, 69, 72, 75, 78, 81, 84, 87, 90, 93, 96, 99]"
      ]
     },
     "execution_count": 220,
     "metadata": {},
     "output_type": "execute_result"
    }
   ],
   "source": [
    "l1"
   ]
  },
  {
   "cell_type": "code",
   "execution_count": 3,
   "id": "11bdcc07",
   "metadata": {},
   "outputs": [
    {
     "name": "stdout",
     "output_type": "stream",
     "text": [
      "[56, 89, 78]\n"
     ]
    }
   ],
   "source": [
    "l1=[12,25,56,89,78,45]\n",
    "print(l1[-4:5])\n"
   ]
  },
  {
   "cell_type": "code",
   "execution_count": 5,
   "id": "5948ba46",
   "metadata": {},
   "outputs": [
    {
     "data": {
      "text/plain": [
       "[12, 25, 56, 89, 78, 45]"
      ]
     },
     "execution_count": 5,
     "metadata": {},
     "output_type": "execute_result"
    }
   ],
   "source": [
    "l1[::]"
   ]
  },
  {
   "cell_type": "code",
   "execution_count": 23,
   "id": "935e89de",
   "metadata": {},
   "outputs": [
    {
     "name": "stdout",
     "output_type": "stream",
     "text": [
      "[12, 25, 56, 89, 78, 45]\n",
      "[55, 25, 56, 89, 78, 45]\n",
      "[55, 25, 56, 89, 78, 45]\n"
     ]
    }
   ],
   "source": [
    "l1=[12,25,56,89,78,45]#copy by assignment \n",
    "l2=l1\n",
    "print(l2)\n",
    "l2[0]=55\n",
    "print(l2)\n",
    "print(l1)"
   ]
  },
  {
   "cell_type": "code",
   "execution_count": 11,
   "id": "4e7db454",
   "metadata": {},
   "outputs": [
    {
     "name": "stdout",
     "output_type": "stream",
     "text": [
      "l1 :  [55, 25, 56, 89, 78, 45]\n",
      "l2 :  [12, 25, 56, 89, 78, 45]\n"
     ]
    }
   ],
   "source": [
    "l1=[12,25,56,89,78,45] \n",
    "l2=l1.copy()  # shallow copy\n",
    "l1[0]=55\n",
    "print('l1 : ',l1)\n",
    "print('l2 : ',l2)"
   ]
  },
  {
   "cell_type": "code",
   "execution_count": 12,
   "id": "2f1fd978",
   "metadata": {},
   "outputs": [
    {
     "name": "stdout",
     "output_type": "stream",
     "text": [
      "l1 :  [55, 25, 56, 89, 78, 45]\n",
      "l2 :  [12, 25, 56, 89, 78, 45]\n"
     ]
    }
   ],
   "source": [
    "l1=[12,25,56,89,78,45] \n",
    "l2=l1[:]  # shallow copy\n",
    "l1[0]=55\n",
    "print('l1 : ',l1)\n",
    "print('l2 : ',l2)"
   ]
  },
  {
   "cell_type": "code",
   "execution_count": 13,
   "id": "a4cfaa32",
   "metadata": {},
   "outputs": [
    {
     "name": "stdout",
     "output_type": "stream",
     "text": [
      "[12, 25, 56, 89, 78, 45]\n"
     ]
    }
   ],
   "source": [
    "l1=[12,25,56,89,78,45] \n",
    "print(l1[:100])"
   ]
  },
  {
   "cell_type": "code",
   "execution_count": 14,
   "id": "63be7290",
   "metadata": {},
   "outputs": [
    {
     "name": "stdout",
     "output_type": "stream",
     "text": [
      "[]\n"
     ]
    }
   ],
   "source": [
    "l1=[12,25,56,89,78,45] \n",
    "print(l1[300:])"
   ]
  },
  {
   "cell_type": "code",
   "execution_count": 18,
   "id": "acdf52a3",
   "metadata": {},
   "outputs": [
    {
     "data": {
      "text/plain": [
       "[12]"
      ]
     },
     "execution_count": 18,
     "metadata": {},
     "output_type": "execute_result"
    }
   ],
   "source": [
    "l1=[12,25,56,89,78,45] \n",
    "l1[::20]"
   ]
  },
  {
   "cell_type": "code",
   "execution_count": 21,
   "id": "09f1c18e",
   "metadata": {},
   "outputs": [
    {
     "data": {
      "text/plain": [
       "False"
      ]
     },
     "execution_count": 21,
     "metadata": {},
     "output_type": "execute_result"
    }
   ],
   "source": [
    "l1 is l1[:]"
   ]
  },
  {
   "cell_type": "code",
   "execution_count": 24,
   "id": "1dbd2481",
   "metadata": {},
   "outputs": [
    {
     "data": {
      "text/plain": [
       "89"
      ]
     },
     "execution_count": 24,
     "metadata": {},
     "output_type": "execute_result"
    }
   ],
   "source": [
    "max(l1)"
   ]
  },
  {
   "cell_type": "code",
   "execution_count": 25,
   "id": "9a88e7c1",
   "metadata": {},
   "outputs": [
    {
     "data": {
      "text/plain": [
       "25"
      ]
     },
     "execution_count": 25,
     "metadata": {},
     "output_type": "execute_result"
    }
   ],
   "source": [
    "min(l1)"
   ]
  },
  {
   "cell_type": "code",
   "execution_count": 29,
   "id": "270fa2bc",
   "metadata": {},
   "outputs": [
    {
     "data": {
      "text/plain": [
       "[56, 89, 78, 45]"
      ]
     },
     "execution_count": 29,
     "metadata": {},
     "output_type": "execute_result"
    }
   ],
   "source": [
    "l1=[12,25,56,89,78,45] \n",
    "del l1[0:2]\n",
    "l1"
   ]
  },
  {
   "cell_type": "code",
   "execution_count": 32,
   "id": "ae3d77bb",
   "metadata": {},
   "outputs": [
    {
     "name": "stdout",
     "output_type": "stream",
     "text": [
      "[56, 89, 78, 45]\n",
      "[56, 89, 78, 45]\n"
     ]
    }
   ],
   "source": [
    "l1=[12,25,56,89,78,45] #for deleting we have to give index value\n",
    "l2=l1\n",
    "del l2[0:2]\n",
    "print(l1)\n",
    "print(l2)"
   ]
  },
  {
   "cell_type": "code",
   "execution_count": 35,
   "id": "76faf496",
   "metadata": {},
   "outputs": [
    {
     "name": "stdout",
     "output_type": "stream",
     "text": [
      "[89, 78, 45]\n",
      "[12, 25, 56, 89, 78, 45]\n"
     ]
    }
   ],
   "source": [
    "l1=[12,25,56,89,78,45] \n",
    "l2=l1.copy()\n",
    "del l1[0:3]\n",
    "print(l1)\n",
    "print(l2)"
   ]
  },
  {
   "cell_type": "code",
   "execution_count": 42,
   "id": "26d54264",
   "metadata": {},
   "outputs": [
    {
     "name": "stdout",
     "output_type": "stream",
     "text": [
      "[562, 25, 56, 89, 78, 45]\n",
      "[12, 25, 56, 89, 78, 45]\n"
     ]
    }
   ],
   "source": [
    "import copy#acts as shallow copy\n",
    "l1=[12,25,56,89,78,45] \n",
    "l2=copy.deepcopy(l1)\n",
    "l1[0]=562\n",
    "print(l1)\n",
    "print(l2)"
   ]
  },
  {
   "cell_type": "code",
   "execution_count": 43,
   "id": "76d7bf22",
   "metadata": {},
   "outputs": [
    {
     "data": {
      "text/plain": [
       "True"
      ]
     },
     "execution_count": 43,
     "metadata": {},
     "output_type": "execute_result"
    }
   ],
   "source": [
    "l1=[12,25,56,89,78,45]\n",
    "12 in l1"
   ]
  },
  {
   "cell_type": "code",
   "execution_count": 47,
   "id": "e46b9159",
   "metadata": {},
   "outputs": [],
   "source": [
    "l1=[12,25,56,89,78,45]\n",
    "l1.reverse()"
   ]
  },
  {
   "cell_type": "code",
   "execution_count": 45,
   "id": "379da288",
   "metadata": {},
   "outputs": [
    {
     "data": {
      "text/plain": [
       "[45, 78, 89, 56, 25, 12]"
      ]
     },
     "execution_count": 45,
     "metadata": {},
     "output_type": "execute_result"
    }
   ],
   "source": [
    "l1"
   ]
  },
  {
   "cell_type": "code",
   "execution_count": 62,
   "id": "3ae5f492",
   "metadata": {},
   "outputs": [
    {
     "name": "stdout",
     "output_type": "stream",
     "text": [
      "[]\n",
      "12 89\n"
     ]
    }
   ],
   "source": [
    "l1=[12,89]\n",
    "x,*c,y=l1\n",
    "print(c)\n",
    "print(x,y)"
   ]
  },
  {
   "cell_type": "code",
   "execution_count": 60,
   "id": "0414f464",
   "metadata": {},
   "outputs": [
    {
     "name": "stdout",
     "output_type": "stream",
     "text": [
      "12\n",
      "25 56 89 78\n",
      "45\n"
     ]
    }
   ],
   "source": [
    "l1=[12,25,56,89,78,45]\n",
    "\n",
    "x,*c,y=l1\n",
    "print(x)\n",
    "print(*c)\n",
    "print(y)"
   ]
  },
  {
   "cell_type": "code",
   "execution_count": 59,
   "id": "764eb80a",
   "metadata": {},
   "outputs": [
    {
     "data": {
      "text/plain": [
       "[12, 25, 56, 89, 78, 45]"
      ]
     },
     "execution_count": 59,
     "metadata": {},
     "output_type": "execute_result"
    }
   ],
   "source": []
  },
  {
   "cell_type": "code",
   "execution_count": 65,
   "id": "a3a933c5",
   "metadata": {},
   "outputs": [
    {
     "data": {
      "text/plain": [
       "[12, 25, 45, 56, 78, 89]"
      ]
     },
     "execution_count": 65,
     "metadata": {},
     "output_type": "execute_result"
    }
   ],
   "source": [
    "l1=[12,25,56,89,78,45]#sorted is used for any type of data type \n",
    "l2=sorted(l1)\n",
    "l2"
   ]
  },
  {
   "cell_type": "code",
   "execution_count": null,
   "id": "c98745a1",
   "metadata": {},
   "outputs": [],
   "source": [
    "l1=[12,25,56,89,78,45]# in remove we have to give vale and only one argument is allowed\n",
    "l1.remove(12)"
   ]
  },
  {
   "cell_type": "code",
   "execution_count": 68,
   "id": "09b11a6a",
   "metadata": {},
   "outputs": [
    {
     "data": {
      "text/plain": [
       "[2, 12, 45, 56, 78, 89]"
      ]
     },
     "execution_count": 68,
     "metadata": {},
     "output_type": "execute_result"
    }
   ],
   "source": [
    "l1=[12,2,56,89,78,45]\n",
    "l1.sort()\n",
    "l1"
   ]
  },
  {
   "cell_type": "code",
   "execution_count": 69,
   "id": "1b12a324",
   "metadata": {},
   "outputs": [
    {
     "name": "stdout",
     "output_type": "stream",
     "text": [
      "available\n"
     ]
    }
   ],
   "source": [
    "l1=[12,25,56,89,78,45]\n",
    "if 12 in l1:\n",
    "    print(\"available\")"
   ]
  },
  {
   "cell_type": "code",
   "execution_count": 70,
   "id": "fe5970fc",
   "metadata": {},
   "outputs": [
    {
     "data": {
      "text/plain": [
       "True"
      ]
     },
     "execution_count": 70,
     "metadata": {},
     "output_type": "execute_result"
    }
   ],
   "source": [
    "l1=[12,25,56,89,78,45]\n",
    "l2=[12,25,56,89,78,45]\n",
    "l1==l2"
   ]
  },
  {
   "cell_type": "code",
   "execution_count": 92,
   "id": "4bfd53e5",
   "metadata": {},
   "outputs": [
    {
     "data": {
      "text/plain": [
       "True"
      ]
     },
     "execution_count": 92,
     "metadata": {},
     "output_type": "execute_result"
    }
   ],
   "source": [
    "l1=[14,2,90]#here only first elements are compared independent of size \n",
    "l2=[5,45,45,9,90]\n",
    "l1>l2"
   ]
  },
  {
   "cell_type": "code",
   "execution_count": 74,
   "id": "e531f991",
   "metadata": {},
   "outputs": [
    {
     "data": {
      "text/plain": [
       "True"
      ]
     },
     "execution_count": 74,
     "metadata": {},
     "output_type": "execute_result"
    }
   ],
   "source": [
    "l1=(12,45)\n",
    "l2=(12,45)\n",
    "l1==l2"
   ]
  },
  {
   "cell_type": "code",
   "execution_count": null,
   "id": "2c637283",
   "metadata": {},
   "outputs": [],
   "source": []
  },
  {
   "cell_type": "code",
   "execution_count": 97,
   "id": "96fae93d",
   "metadata": {},
   "outputs": [
    {
     "data": {
      "text/plain": [
       "[12, 25, 56, 89, 78, 45]"
      ]
     },
     "execution_count": 97,
     "metadata": {},
     "output_type": "execute_result"
    }
   ],
   "source": [
    "l1"
   ]
  },
  {
   "cell_type": "code",
   "execution_count": 98,
   "id": "0475a762",
   "metadata": {},
   "outputs": [
    {
     "name": "stdout",
     "output_type": "stream",
     "text": [
      "23 45\n",
      "25 89\n",
      "56 65\n"
     ]
    }
   ],
   "source": [
    "l1=[23,25,56]\n",
    "l2=[45,89,65]\n",
    "for e1,e2 in zip(l1,l2):\n",
    "    print(e1,e2)"
   ]
  },
  {
   "cell_type": "code",
   "execution_count": 100,
   "id": "85a1e4a2",
   "metadata": {},
   "outputs": [
    {
     "name": "stdout",
     "output_type": "stream",
     "text": [
      "45 21\n",
      "89 32\n",
      "23 54\n"
     ]
    }
   ],
   "source": [
    "l3=[45,89,23]\n",
    "l4=[21,32,54]\n",
    "for e1,e2 in zip(l3,l4):\n",
    "    print(e1,e2)"
   ]
  },
  {
   "cell_type": "code",
   "execution_count": null,
   "id": "d8e90c7d",
   "metadata": {},
   "outputs": [],
   "source": []
  }
 ],
 "metadata": {
  "kernelspec": {
   "display_name": "Python 3 (ipykernel)",
   "language": "python",
   "name": "python3"
  },
  "language_info": {
   "codemirror_mode": {
    "name": "ipython",
    "version": 3
   },
   "file_extension": ".py",
   "mimetype": "text/x-python",
   "name": "python",
   "nbconvert_exporter": "python",
   "pygments_lexer": "ipython3",
   "version": "3.11.4"
  }
 },
 "nbformat": 4,
 "nbformat_minor": 5
}
