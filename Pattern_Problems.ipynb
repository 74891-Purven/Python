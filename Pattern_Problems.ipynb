{
 "cells": [
  {
   "cell_type": "markdown",
   "id": "9930d5f1",
   "metadata": {},
   "source": [
    "Q1: A student will not be allowed to sit in exam if his/her attendence is less than 75%.  \n",
    "Take following input from user Number of classes held Number of classes attended. And print percentage of class attended  \n",
    "Is student is allowed to sit in exam or not."
   ]
  },
  {
   "cell_type": "code",
   "execution_count": 5,
   "id": "179bcc36",
   "metadata": {},
   "outputs": [
    {
     "data": {
      "text/plain": [
       "\"can't attend\""
      ]
     },
     "execution_count": 5,
     "metadata": {},
     "output_type": "execute_result"
    }
   ],
   "source": [
    "def check(attend,Tclasses):\n",
    "#attended=int(input(\"class attnd: \"))\n",
    "#classes=int(input(\"total classes: \"))\n",
    "    perc=int((attend/Tclasses)*100)\n",
    "\n",
    "    if(perc>75):\n",
    "        return (\"can attend classes\")\n",
    "    else:\n",
    "        return (\"can't attend\")\n",
    "\n",
    "check(45,100)\n",
    "\n",
    "\n"
   ]
  },
  {
   "cell_type": "markdown",
   "id": "07ba149d",
   "metadata": {},
   "source": [
    "Q2:accept amount from user and find the minimum number notes required to get the amount amount =512  \n",
    "Notes: 2000,500,100,50,10,5,2,1  \n",
    "\n",
    "500-1 note  \n",
    "10  - 1 note  \n",
    "2-  1 coin  "
   ]
  },
  {
   "cell_type": "code",
   "execution_count": 20,
   "id": "72e91172",
   "metadata": {},
   "outputs": [
    {
     "name": "stdout",
     "output_type": "stream",
     "text": [
      "2k: 18\n",
      "500: 3\n"
     ]
    }
   ],
   "source": [
    "amt=37500\n",
    "\n",
    "req_notes_2k=amt//2000\n",
    "if req_notes_2k>0:\n",
    "    print(\"2k:\",req_notes_2k)\n",
    "rem_amt=amt%2000\n",
    "\n",
    "note_500=rem_amt//500\n",
    "if rem_amt>0:\n",
    "    \n",
    "    print(\"500:\",note_500)\n",
    "\n",
    "rem_amt=rem_amt%500\n",
    "\n",
    "    \n",
    "\n",
    "    "
   ]
  },
  {
   "cell_type": "code",
   "execution_count": 21,
   "id": "78aaaf3b",
   "metadata": {},
   "outputs": [
    {
     "data": {
      "text/plain": [
       "0"
      ]
     },
     "execution_count": 21,
     "metadata": {},
     "output_type": "execute_result"
    }
   ],
   "source": [
    "rem_amt"
   ]
  },
  {
   "cell_type": "code",
   "execution_count": 1,
   "id": "608d5332",
   "metadata": {},
   "outputs": [
    {
     "name": "stdout",
     "output_type": "stream",
     "text": [
      "2\n",
      "2000\n"
     ]
    }
   ],
   "source": [
    "amt=4050\n",
    "\n",
    "money=[2000]\n",
    "\n",
    "\n",
    "for i in money:\n",
    "    if amt>i:\n",
    "        notes_2k=amt//i\n",
    "        print(notes_2k)\n",
    "        \n",
    "        rem_amt=amt%i\n",
    "    print(i)\n",
    "        \n",
    "        "
   ]
  },
  {
   "cell_type": "code",
   "execution_count": null,
   "id": "5d567aa8",
   "metadata": {},
   "outputs": [],
   "source": []
  },
  {
   "cell_type": "markdown",
   "id": "b24c6d81",
   "metadata": {},
   "source": [
    "Modify the above question Q1 to allow student to sit if he/she has medical cause. Ask user if he/she has medical cause or not ( 'Y' or 'N' ) and print accordingly.  \n",
    "4.\tA school has following rules for grading system:  \n",
    "a.\tBelow 25 - F  \n",
    "b.\t25 to 45 - E  \n",
    "c.\t45 to 50 - D  \n",
    "d.\t50 to 60 - C  \n",
    "e.\t60 to 80 - B  \n",
    "f.\tAbove 80 - A  \n",
    "Ask user to enter marks and print the corresponding grade.  \n",
    "  "
   ]
  },
  {
   "cell_type": "code",
   "execution_count": 7,
   "id": "8d2b17b3",
   "metadata": {},
   "outputs": [],
   "source": [
    "def check(attend,Tclasses):\n",
    "\n",
    "    perc=int((attend/Tclasses)*100)\n",
    "    if(perc<25):\n",
    "        med=input(\"any medical issues: \")\n",
    "        if med=='y'or med=='Y':\n",
    "            return (\"can attend and grade F\")\n",
    "        else:\n",
    "            return(\"cant attend\")\n",
    "            \n",
    "    elif (25<perc<45):\n",
    "        med=input(\"any medical issues: \")\n",
    "        \n",
    "        if med=='y'or med=='Y':\n",
    "            \n",
    "            return (\"can attend and grade E\")\n",
    "        else:\n",
    "            return(\"cant attend\")\n",
    "        \n",
    "       \n",
    "    \n",
    "            \n",
    "            \n",
    "            \n",
    "        \n",
    "\n",
    "\n"
   ]
  },
  {
   "cell_type": "code",
   "execution_count": 9,
   "id": "2f38ca17",
   "metadata": {},
   "outputs": [
    {
     "name": "stdout",
     "output_type": "stream",
     "text": [
      "any medical issues: n\n"
     ]
    },
    {
     "data": {
      "text/plain": [
       "'cant attend'"
      ]
     },
     "execution_count": 9,
     "metadata": {},
     "output_type": "execute_result"
    }
   ],
   "source": [
    "check(43,100)"
   ]
  },
  {
   "cell_type": "markdown",
   "id": "ef9e0cd5",
   "metadata": {},
   "source": [
    "Write a program to calculate the electricity bill (accept number of unit from user) according to the following criteria :  \n",
    "             Unit                                    Price    \n",
    "First 100 units                                       no charge  \n",
    "Next 100 units                                        Rs 5 per unit  \n",
    "After 200 units                                       Rs 10 per unit  \n",
    "(For example if input unit is 350 than total bill amount is Rs2000)  "
   ]
  },
  {
   "cell_type": "code",
   "execution_count": 16,
   "id": "646b6fae",
   "metadata": {},
   "outputs": [],
   "source": [
    "def chk_bill(units):\n",
    "    if(units<100):\n",
    "        return (\"no charge\")\n",
    "    elif(100<units<200):\n",
    "        amt=(units%100)*5\n",
    "        return (\"the amount is:\",amt)\n",
    "    elif(200<units<300):\n",
    "        amt=(units%200)*10\n",
    "        return (\"the amount is:\",500+amt)\n",
    "    "
   ]
  },
  {
   "cell_type": "code",
   "execution_count": 20,
   "id": "d3068fe4",
   "metadata": {},
   "outputs": [
    {
     "data": {
      "text/plain": [
       "('the amount is:', 1000)"
      ]
     },
     "execution_count": 20,
     "metadata": {},
     "output_type": "execute_result"
    }
   ],
   "source": [
    "chk_bill(250)"
   ]
  },
  {
   "cell_type": "code",
   "execution_count": null,
   "id": "48353592",
   "metadata": {},
   "outputs": [],
   "source": []
  },
  {
   "cell_type": "markdown",
   "id": "af9a9323",
   "metadata": {},
   "source": [
    "Q: Chk_leapYear"
   ]
  },
  {
   "cell_type": "code",
   "execution_count": 12,
   "id": "ecf5a07c",
   "metadata": {},
   "outputs": [],
   "source": [
    "def chk_leap(leap):\n",
    "    \"checking leap year\"\n",
    "    \n",
    "    if(leap%400==0):\n",
    "        return (\"leap year\")\n",
    "    \n",
    "    elif(leap%4==0):\n",
    "        return (\"leap year\")\n",
    "    \n",
    "    \n",
    "    elif(leap%100==0):\n",
    "        \n",
    "        return (\"non leap year\")\n",
    "#     elif(leap%4==0):\n",
    "#         return (\"leap year\")\n",
    "    \n",
    "    else:\n",
    "        return(\"non leap yr\")\n",
    "    \n",
    "    "
   ]
  },
  {
   "cell_type": "code",
   "execution_count": 13,
   "id": "73334b22",
   "metadata": {},
   "outputs": [
    {
     "data": {
      "text/plain": [
       "'leap year'"
      ]
     },
     "execution_count": 13,
     "metadata": {},
     "output_type": "execute_result"
    }
   ],
   "source": [
    "chk_leap(2000)"
   ]
  },
  {
   "cell_type": "code",
   "execution_count": null,
   "id": "02a6a9c2",
   "metadata": {},
   "outputs": [],
   "source": []
  },
  {
   "cell_type": "markdown",
   "id": "1d0b4bd0",
   "metadata": {},
   "source": [
    "Write a program to accept the price of a bike and display the road tax and insurance to be paid according to the following criteria . also display total amount to be paid.  \n",
    "      \n",
    "        Cost price (in Rs)           Tax                Inssurance  \n",
    "        > 100000                     15 %                   20%  \n",
    "        > 50000 and <= 100000        10%                    8%  \n",
    "        <= 50000                     5%                     5%   \n"
   ]
  },
  {
   "cell_type": "code",
   "execution_count": 5,
   "id": "1ee577d8",
   "metadata": {},
   "outputs": [],
   "source": [
    "def tax(amt):\n",
    "#     print(\"d\")\n",
    "    if(amt>100000):\n",
    "#         print(\"c\")\n",
    "        tax=amt+0.15*amt\n",
    "        insurance=amt+amt*0.20\n",
    "        total=tax+insurance\n",
    "        \n",
    "        print(tax,insurance,total)\n",
    "        "
   ]
  },
  {
   "cell_type": "code",
   "execution_count": 7,
   "id": "fab374ec",
   "metadata": {},
   "outputs": [
    {
     "name": "stdout",
     "output_type": "stream",
     "text": [
      "d\n",
      "c\n",
      "115524.4 120547.2 236071.59999999998\n"
     ]
    }
   ],
   "source": [
    "tax(100456)"
   ]
  },
  {
   "cell_type": "code",
   "execution_count": null,
   "id": "24752ffd",
   "metadata": {},
   "outputs": [],
   "source": []
  },
  {
   "cell_type": "code",
   "execution_count": 10,
   "id": "78a9d5eb",
   "metadata": {},
   "outputs": [
    {
     "name": "stdout",
     "output_type": "stream",
     "text": [
      "****\n"
     ]
    }
   ],
   "source": [
    "print(\"*\"*4)"
   ]
  },
  {
   "cell_type": "code",
   "execution_count": 11,
   "id": "e32932cf",
   "metadata": {},
   "outputs": [
    {
     "name": "stdout",
     "output_type": "stream",
     "text": [
      "*****\n",
      "*****\n",
      "*****\n",
      "*****\n"
     ]
    }
   ],
   "source": [
    "for i in range(4):\n",
    "    print(\"*\"*5)"
   ]
  },
  {
   "cell_type": "code",
   "execution_count": 91,
   "id": "cbaa96f3",
   "metadata": {},
   "outputs": [],
   "source": [
    "def patt1(n):\n",
    "    for i in range(n):\n",
    "        \n",
    "        for j in range(i+1):\n",
    "                \n",
    "            print(\"*\",end=' ')\n",
    "            \n",
    "        print()\n",
    "                \n",
    "        \n",
    "        \n",
    "    "
   ]
  },
  {
   "cell_type": "code",
   "execution_count": 92,
   "id": "dc08d807",
   "metadata": {},
   "outputs": [
    {
     "name": "stdout",
     "output_type": "stream",
     "text": [
      "* \n",
      "* * \n",
      "* * * \n",
      "* * * * \n",
      "* * * * * \n",
      "* * * * * * \n"
     ]
    }
   ],
   "source": [
    "patt1(6)"
   ]
  },
  {
   "cell_type": "code",
   "execution_count": 74,
   "id": "b5ce776b",
   "metadata": {},
   "outputs": [],
   "source": [
    "def patt2(n):\n",
    "    \n",
    "    for i in range(n):\n",
    "        for j in range (i,n):\n",
    "            print(\"*\",end=' ')\n",
    "        print()"
   ]
  },
  {
   "cell_type": "code",
   "execution_count": 75,
   "id": "75fb5104",
   "metadata": {},
   "outputs": [
    {
     "name": "stdout",
     "output_type": "stream",
     "text": [
      "* * * * * \n",
      "* * * * \n",
      "* * * \n",
      "* * \n",
      "* \n"
     ]
    }
   ],
   "source": [
    "patt2(5)"
   ]
  },
  {
   "cell_type": "code",
   "execution_count": 105,
   "id": "ae881721",
   "metadata": {},
   "outputs": [],
   "source": [
    "def patt3(n):\n",
    "    for i in range(n):\n",
    "        for j in range(i,n):\n",
    "            \n",
    "            print(\"-\",end=\" \")\n",
    "            \n",
    "        for j in range(i+1):\n",
    "            print(\"*\",end=\" \")\n",
    "        \n",
    "        \n",
    "        print()"
   ]
  },
  {
   "cell_type": "code",
   "execution_count": 106,
   "id": "753d5fca",
   "metadata": {},
   "outputs": [
    {
     "name": "stdout",
     "output_type": "stream",
     "text": [
      "- - - - - * \n",
      "- - - - * * \n",
      "- - - * * * \n",
      "- - * * * * \n",
      "- * * * * * \n"
     ]
    }
   ],
   "source": [
    "patt3(5)"
   ]
  },
  {
   "cell_type": "code",
   "execution_count": 103,
   "id": "5ad0001c",
   "metadata": {},
   "outputs": [],
   "source": [
    "def patt4(n):\n",
    "    for i in range(n):\n",
    "        for j in range(i+1):\n",
    "            print(\"-\",end=' ')\n",
    "            \n",
    "        for j in range(i,n):\n",
    "            print(\"*\",end=' ')\n",
    "        print()"
   ]
  },
  {
   "cell_type": "code",
   "execution_count": 104,
   "id": "54b70fd0",
   "metadata": {},
   "outputs": [
    {
     "name": "stdout",
     "output_type": "stream",
     "text": [
      "- * * * * * * \n",
      "- - * * * * * \n",
      "- - - * * * * \n",
      "- - - - * * * \n",
      "- - - - - * * \n",
      "- - - - - - * \n"
     ]
    }
   ],
   "source": [
    "patt4(6)"
   ]
  },
  {
   "cell_type": "code",
   "execution_count": 117,
   "id": "0baf027f",
   "metadata": {},
   "outputs": [],
   "source": [
    "def patt5(n):\n",
    "    for i in range(5):\n",
    "        for j in range(i,n):\n",
    "            print(\"-\",end=' ')\n",
    "        \n",
    "        for j in range(i+1):\n",
    "            print(\"*\",end=\" \")\n",
    "            \n",
    "        for j in range(i+1):\n",
    "            print(\"*\",end=\" \")\n",
    "            \n",
    "        print()\n",
    "        "
   ]
  },
  {
   "cell_type": "code",
   "execution_count": 118,
   "id": "1cf4a2cd",
   "metadata": {},
   "outputs": [
    {
     "name": "stdout",
     "output_type": "stream",
     "text": [
      "- - - - - * * \n",
      "- - - - * * * * \n",
      "- - - * * * * * * \n",
      "- - * * * * * * * * \n",
      "- * * * * * * * * * * \n"
     ]
    }
   ],
   "source": [
    "patt5(5) # here is a small catch loop knows only to print cplumn but here we print one column less..."
   ]
  },
  {
   "cell_type": "code",
   "execution_count": 122,
   "id": "6914d796",
   "metadata": {},
   "outputs": [],
   "source": [
    "def patt5(n):\n",
    "    for i in range(5):\n",
    "        for j in range(i,n):\n",
    "            print(\"-\",end=' ')\n",
    "        \n",
    "        for j in range(i):\n",
    "            print(\"*\",end=\" \")\n",
    "            \n",
    "        for j in range(i+1):\n",
    "            print(\"*\",end=\" \")\n",
    "            \n",
    "        print()"
   ]
  },
  {
   "cell_type": "code",
   "execution_count": 123,
   "id": "14dc67bc",
   "metadata": {},
   "outputs": [
    {
     "name": "stdout",
     "output_type": "stream",
     "text": [
      "- - - - - - * \n",
      "- - - - - * * * \n",
      "- - - - * * * * * \n",
      "- - - * * * * * * * \n",
      "- - * * * * * * * * * \n"
     ]
    }
   ],
   "source": [
    "patt5(6)"
   ]
  },
  {
   "cell_type": "code",
   "execution_count": null,
   "id": "10e269f3",
   "metadata": {},
   "outputs": [],
   "source": []
  },
  {
   "cell_type": "code",
   "execution_count": 131,
   "id": "f3583a05",
   "metadata": {},
   "outputs": [],
   "source": [
    "def patt6(n):\n",
    "    for i in range(n):\n",
    "        for j in range(i+1):\n",
    "            print(\"-\",end=' ')\n",
    "            \n",
    "        for j in range(i,n-1):\n",
    "            print(\"*\",end=' ')\n",
    "            \n",
    "        for j in range(i,n):\n",
    "            print(\"*\",end=\" \")\n",
    "            \n",
    "            \n",
    "        print()\n",
    "        \n",
    "        "
   ]
  },
  {
   "cell_type": "code",
   "execution_count": 132,
   "id": "e9a8aa89",
   "metadata": {},
   "outputs": [
    {
     "name": "stdout",
     "output_type": "stream",
     "text": [
      "- * * * * * * * * * \n",
      "- - * * * * * * * \n",
      "- - - * * * * * \n",
      "- - - - * * * \n",
      "- - - - - * \n"
     ]
    }
   ],
   "source": [
    "patt6(5) #same catch as above here also we have to print one column less"
   ]
  },
  {
   "cell_type": "code",
   "execution_count": 139,
   "id": "cb460a43",
   "metadata": {},
   "outputs": [],
   "source": [
    "def patt7(n):\n",
    "    for i in range(n):\n",
    "        for j in range(i,n):\n",
    "            print(\"-\",end=' ')\n",
    "            \n",
    "        for j in range(i+1):\n",
    "            print(\"*\",end=' ')\n",
    "            \n",
    "#         for i in range(n):\n",
    "#             print(\" \",end=' ')\n",
    "            \n",
    "            \n",
    "#         for j in range(i,n):\n",
    "#             print(\"*\",end=\" \")\n",
    "            \n",
    "        print()\n",
    "        \n",
    "        \n",
    "        \n",
    "    for i in range(n):\n",
    "        \n",
    "        for j in range(i+1):\n",
    "            print(\" \",end=\" \")\n",
    "            \n",
    "        for j in range(i,n):\n",
    "            \n",
    "            print(\"*\",end=' ')\n",
    "     \n",
    "        \n",
    "        print()"
   ]
  },
  {
   "cell_type": "code",
   "execution_count": 140,
   "id": "000c3024",
   "metadata": {},
   "outputs": [
    {
     "name": "stdout",
     "output_type": "stream",
     "text": [
      "- - - - - * \n",
      "- - - - * * \n",
      "- - - * * * \n",
      "- - * * * * \n",
      "- * * * * * \n",
      "  * * * * * \n",
      "    * * * * \n",
      "      * * * \n",
      "        * * \n",
      "          * \n"
     ]
    }
   ],
   "source": [
    "patt7(5)"
   ]
  },
  {
   "cell_type": "code",
   "execution_count": null,
   "id": "39a0ade8",
   "metadata": {},
   "outputs": [],
   "source": []
  }
 ],
 "metadata": {
  "kernelspec": {
   "display_name": "Python 3 (ipykernel)",
   "language": "python",
   "name": "python3"
  },
  "language_info": {
   "codemirror_mode": {
    "name": "ipython",
    "version": 3
   },
   "file_extension": ".py",
   "mimetype": "text/x-python",
   "name": "python",
   "nbconvert_exporter": "python",
   "pygments_lexer": "ipython3",
   "version": "3.11.4"
  }
 },
 "nbformat": 4,
 "nbformat_minor": 5
}
