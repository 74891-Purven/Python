{
 "cells": [
  {
   "cell_type": "markdown",
   "id": "47e62447",
   "metadata": {},
   "source": [
    "# Q1..WAP that accepts three integers from the user and return true if two or more of them (integers ) have the same rightmost digit. The integers are non-negative\n"
   ]
  },
  {
   "cell_type": "code",
   "execution_count": 19,
   "id": "14478d7a",
   "metadata": {},
   "outputs": [
    {
     "name": "stdout",
     "output_type": "stream",
     "text": [
      "enter fir number: 125\n",
      "enter sec number165\n",
      "enter sec number123\n",
      "positive integers\n"
     ]
    }
   ],
   "source": [
    "num1=int(input(\"enter fir number: \"))\n",
    "num2=int(input(\"enter sec number\"))\n",
    "num3=int(input(\"enter sec number\"))\n",
    "\n",
    "num1=str(num1)\n",
    "num2=str(num2)\n",
    "num3=str(num3)\n",
    "if (num1[-1]==num2[-1] or num2[-1]==num3[-1] or num1[-1]==num3[-1]):\n",
    "    print(\"positive integers\")\n",
    "\n",
    "    "
   ]
  },
  {
   "cell_type": "code",
   "execution_count": null,
   "id": "fca52d59",
   "metadata": {},
   "outputs": [],
   "source": []
  },
  {
   "cell_type": "markdown",
   "id": "f44d7bcc",
   "metadata": {},
   "source": [
    "Q2WAP to convert input number of seconds to HH:MM:SS."
   ]
  },
  {
   "cell_type": "code",
   "execution_count": 27,
   "id": "b16628bb",
   "metadata": {},
   "outputs": [
    {
     "name": "stdout",
     "output_type": "stream",
     "text": [
      "enter sec: 3600\n",
      "1 : 60 : 3600\n"
     ]
    }
   ],
   "source": [
    "sec=int(input(\"enter sec: \"))\n",
    "hrs=(sec/3600)\n",
    "minute=sec/60\n",
    "print(int(hrs),\":\",int(minute),\":\",int(sec))"
   ]
  },
  {
   "cell_type": "markdown",
   "id": "cbe0d46d",
   "metadata": {},
   "source": [
    "Q3 WAP to print all leap years between 2000 to 2100. Apply all conditions of checking leap year ( (divisible by 4 and not divisible by 100) OR (divisible by 400))\n"
   ]
  },
  {
   "cell_type": "code",
   "execution_count": 37,
   "id": "8be7dd95",
   "metadata": {},
   "outputs": [
    {
     "name": "stdout",
     "output_type": "stream",
     "text": [
      "enter year: 2004\n",
      "leap\n"
     ]
    }
   ],
   "source": [
    "year=int(input(\"enter year: \"))\n",
    "\n",
    "if(2000<=year<=2100):\n",
    "    if (year%4==0) and (year%100!=0):\n",
    "\n",
    "        print(\"leap\")\n",
    "    elif(year%400==0):\n",
    "        print(\" leap year\")\n",
    "\n",
    "    else:\n",
    "        print(\"not leap\")\n",
    "else:\n",
    "    print(\"enter valid year\")\n",
    "\n"
   ]
  },
  {
   "cell_type": "markdown",
   "id": "e0af4e4c",
   "metadata": {},
   "source": [
    "Factorial Program using Recursion\n",
    "    n! = n * (n-1) * (n-2) * ... *2*1\n"
   ]
  },
  {
   "cell_type": "code",
   "execution_count": 39,
   "id": "67b6ef21",
   "metadata": {},
   "outputs": [
    {
     "name": "stdout",
     "output_type": "stream",
     "text": [
      "enter num: 5\n",
      "120\n"
     ]
    }
   ],
   "source": [
    "num=int(input(\"enter num: \"))\n",
    "sum=1\n",
    "for i in range (1,num+1):\n",
    "    sum=sum*i\n",
    "print(sum)"
   ]
  },
  {
   "cell_type": "markdown",
   "id": "1ec94186",
   "metadata": {},
   "source": [
    "# Fibonacci Series.\n",
    "    1,1,2,3,5,8,13,21,34,..."
   ]
  },
  {
   "cell_type": "code",
   "execution_count": 49,
   "id": "fd639a1f",
   "metadata": {},
   "outputs": [
    {
     "name": "stdout",
     "output_type": "stream",
     "text": [
      "enter num: 5\n",
      "0\n",
      "1\n",
      "1\n",
      "2\n",
      "3\n",
      "5\n",
      "8\n"
     ]
    }
   ],
   "source": [
    "num=int(input(\"enter num: \"))\n",
    "a=0\n",
    "b=1\n",
    "print(a)\n",
    "print(b)\n",
    "for i in range(num):\n",
    "    c=a+b\n",
    "    print(c)\n",
    "#     a=b\n",
    "#     b=c\n",
    "    a,b=b,c\n",
    " "
   ]
  },
  {
   "cell_type": "markdown",
   "id": "a66e90c3",
   "metadata": {},
   "source": [
    "Q5 Armstrong Number.\n",
    "    It is a number with 'n' digits. Here (sum of every digit ^ n) equal to ( number itself)\n",
    "\n",
    "    1) 1^3 5^3 3^3=153 ( here number of digits(n) is 3)\n",
    "    2) 1^1 = 1 ( here number of digits is 1)\n",
    "    3) 1634 = 1^4 + 6^4 + 3^4 + 4^4 ( here number of digits is 4)"
   ]
  },
  {
   "cell_type": "code",
   "execution_count": 8,
   "id": "d22570ce",
   "metadata": {},
   "outputs": [
    {
     "name": "stdout",
     "output_type": "stream",
     "text": [
      "enter num: 1634\n",
      "1634\n"
     ]
    }
   ],
   "source": [
    "num=(input(\"enter num: \"))\n",
    "length=len(num)\n",
    "num=int(num)\n",
    "arm=0\n",
    "\n",
    "while (num>0):\n",
    "    dig=num%10\n",
    "    arm=arm+dig**length\n",
    "    num=num//10\n",
    "print(arm)"
   ]
  },
  {
   "cell_type": "markdown",
   "id": "3a8ddffa",
   "metadata": {},
   "source": [
    "Q6 Perfect sqaure WAP to check if a number is perfect square ot not."
   ]
  },
  {
   "cell_type": "code",
   "execution_count": 27,
   "id": "e591a3d2",
   "metadata": {},
   "outputs": [
    {
     "name": "stdout",
     "output_type": "stream",
     "text": [
      "enter num: 4\n",
      "2.0\n",
      "perfect square\n"
     ]
    }
   ],
   "source": [
    "import math\n",
    "\n",
    "num=int(input(\"enter num: \"))\n",
    "sqrt=math.sqrt(num)\n",
    "print(sqrt)\n",
    "\n",
    "if (sqrt*sqrt==num):\n",
    "    print(\"perfect square\")\n",
    "else:\n",
    "    print(\"not\")\n",
    "        "
   ]
  },
  {
   "cell_type": "code",
   "execution_count": 29,
   "id": "59eb1a25",
   "metadata": {},
   "outputs": [
    {
     "name": "stdout",
     "output_type": "stream",
     "text": [
      "enter num: 81\n",
      "perfect square\n"
     ]
    }
   ],
   "source": [
    "num=int(input(\"enter num: \"))\n",
    "\n",
    "for i in range(1,num+1):\n",
    "    if (i*i==num):\n",
    "        \n",
    "        print(\"perfect square\")\n",
    "        break;"
   ]
  },
  {
   "cell_type": "markdown",
   "id": "7772b433",
   "metadata": {},
   "source": [
    "# Prime number.\n",
    "    Number is not divisible by any number other than 1 and itself\n"
   ]
  },
  {
   "cell_type": "code",
   "execution_count": 39,
   "id": "bc85145e",
   "metadata": {},
   "outputs": [
    {
     "name": "stdout",
     "output_type": "stream",
     "text": [
      "enter number: 78\n",
      "not prime\n"
     ]
    }
   ],
   "source": [
    "num=int(input(\"enter number: \"))\n",
    "\n",
    "for i in range(2,num):\n",
    "    if(num%i==0):\n",
    "        print(\"not prime\")\n",
    "        break;\n",
    "else:\n",
    "    print(\"prime\")"
   ]
  },
  {
   "cell_type": "markdown",
   "id": "7bb31ce2",
   "metadata": {},
   "source": [
    "# Q6 Reverse a string."
   ]
  },
  {
   "cell_type": "code",
   "execution_count": 45,
   "id": "ad494172",
   "metadata": {},
   "outputs": [
    {
     "name": "stdout",
     "output_type": "stream",
     "text": [
      "nevrup\n"
     ]
    }
   ],
   "source": [
    "str1=\"purven\"\n",
    "str1=str1[::-1]\n",
    "print(str1)\n"
   ]
  },
  {
   "cell_type": "markdown",
   "id": "80b2e4f7",
   "metadata": {},
   "source": [
    "# Q7 Check Palindrome number"
   ]
  },
  {
   "cell_type": "code",
   "execution_count": 49,
   "id": "4ca054f6",
   "metadata": {},
   "outputs": [
    {
     "name": "stdout",
     "output_type": "stream",
     "text": [
      "enter num: 313\n",
      "313\n"
     ]
    }
   ],
   "source": [
    "num=input(\"enter num: \")\n",
    "length=len(num)\n",
    "pal=0\n",
    "num=int(num)\n",
    "while(num>0):\n",
    "    dig=num%10\n",
    "    pal=pal*10+dig\n",
    "    num=num//10\n",
    "print(pal)   "
   ]
  },
  {
   "cell_type": "markdown",
   "id": "c31a975f",
   "metadata": {},
   "source": [
    "# Q8 Find duplicate characters in a string."
   ]
  },
  {
   "cell_type": "code",
   "execution_count": 8,
   "id": "4e15c787",
   "metadata": {},
   "outputs": [
    {
     "name": "stdout",
     "output_type": "stream",
     "text": [
      "65\n"
     ]
    }
   ],
   "source": [
    "print(ord('A'))"
   ]
  },
  {
   "cell_type": "code",
   "execution_count": 11,
   "id": "69f8f9c9",
   "metadata": {},
   "outputs": [
    {
     "name": "stdout",
     "output_type": "stream",
     "text": [
      "A , B , C , D , E , F , G , H , I , J , K , L , M , N , O , P , Q , R , S , T , U , V , W , X , Y , Z , "
     ]
    }
   ],
   "source": [
    "for char in range (ord('A'),ord('Z')+1):\n",
    "    print(chr(char),end=' , ')"
   ]
  },
  {
   "cell_type": "code",
   "execution_count": 59,
   "id": "09b349fe",
   "metadata": {},
   "outputs": [
    {
     "name": "stdout",
     "output_type": "stream",
     "text": [
      "{'r': 4, 'e': 5, 'n': 5, 'z': 3, 'a': 3, 'm': 3, 'b': 3}\n"
     ]
    }
   ],
   "source": [
    "string='purveennnnnzzzaaammmbbbrrreee'\n",
    "l=[]\n",
    "for ele in string:\n",
    "    l.append(ele)\n",
    "d=dict()\n",
    "count=0\n",
    "for i in l: \n",
    "    count=l.count(i)\n",
    "    if count>1:\n",
    "        d[i] = count\n",
    "print(d)"
   ]
  },
  {
   "cell_type": "markdown",
   "id": "cacf043e",
   "metadata": {},
   "source": [
    "# Q9 print table of any given number \n",
    "    2,4,6,8,10,12,14,16,18,20\n"
   ]
  },
  {
   "cell_type": "code",
   "execution_count": 65,
   "id": "0f41a426",
   "metadata": {},
   "outputs": [
    {
     "name": "stdout",
     "output_type": "stream",
     "text": [
      "enter num: 2\n",
      "2,4,6,8,10,12,14,16,18,20,"
     ]
    }
   ],
   "source": [
    "num=int(input(\"enter num: \"))\n",
    "\n",
    "table=1\n",
    "for i in range(1,11):\n",
    "    table=num*i\n",
    "    print(table,end=\",\")"
   ]
  },
  {
   "cell_type": "markdown",
   "id": "cbdb0177",
   "metadata": {},
   "source": [
    "# Q10 Take a number from user. Print highest number possible using all digits once from given number \n"
   ]
  },
  {
   "cell_type": "markdown",
   "id": "6da5272e",
   "metadata": {},
   "source": [
    "# def larger(num):\n",
    "    l=[]\n",
    "    for i in num:\n",
    "        l.append(i)\n",
    "    l=sorted(l,reverse=True)\n",
    "    l=''.join(l)\n",
    "    print(l)\n",
    "        \n",
    "    "
   ]
  },
  {
   "cell_type": "code",
   "execution_count": 89,
   "id": "d32e6dcd",
   "metadata": {},
   "outputs": [
    {
     "name": "stdout",
     "output_type": "stream",
     "text": [
      "321\n"
     ]
    }
   ],
   "source": [
    "larger(\"123\")"
   ]
  },
  {
   "cell_type": "markdown",
   "id": "082afd0c",
   "metadata": {},
   "source": [
    "# Q11 Write a  program to swap two variables\n",
    "a. by using a temporary variable\n",
    "b. using arithmatic operation and not using a variable\n",
    "c. without using variable ( using python unpacking syntax)\n"
   ]
  },
  {
   "cell_type": "code",
   "execution_count": 93,
   "id": "06fe5800",
   "metadata": {},
   "outputs": [
    {
     "name": "stdout",
     "output_type": "stream",
     "text": [
      "2 1\n"
     ]
    }
   ],
   "source": [
    "a=1\n",
    "b=2\n",
    "\n",
    "c=a\n",
    "a=b\n",
    "b=c\n",
    "print(a,b)\n"
   ]
  },
  {
   "cell_type": "code",
   "execution_count": 97,
   "id": "1e59f196",
   "metadata": {},
   "outputs": [
    {
     "name": "stdout",
     "output_type": "stream",
     "text": [
      "2 1\n"
     ]
    }
   ],
   "source": [
    "a=1\n",
    "b=2\n",
    "\n",
    "c=a+b\n",
    "a=c-a\n",
    "b=c-b\n",
    "print(a,b)"
   ]
  },
  {
   "cell_type": "code",
   "execution_count": 98,
   "id": "3123bdd1",
   "metadata": {},
   "outputs": [
    {
     "name": "stdout",
     "output_type": "stream",
     "text": [
      "2 1\n"
     ]
    }
   ],
   "source": [
    "a=1\n",
    "b=2\n",
    "\n",
    "a,b=b,a\n",
    "\n",
    "print(a,b)"
   ]
  },
  {
   "cell_type": "markdown",
   "id": "1a48f3db",
   "metadata": {},
   "source": [
    "# Q 12 Write a  program to add and multiply two binary numbers"
   ]
  },
  {
   "cell_type": "code",
   "execution_count": 2,
   "id": "ef6c3923",
   "metadata": {},
   "outputs": [
    {
     "data": {
      "text/plain": [
       "'0b1000'"
      ]
     },
     "execution_count": 2,
     "metadata": {},
     "output_type": "execute_result"
    }
   ],
   "source": [
    "a=2\n",
    "bin(3+5)"
   ]
  },
  {
   "cell_type": "markdown",
   "id": "3e74d76e",
   "metadata": {},
   "source": [
    "# Q13 WAP  to count the letters, spaces, numbers and other characters of an input string. \n"
   ]
  },
  {
   "cell_type": "code",
   "execution_count": 53,
   "id": "291a5301",
   "metadata": {},
   "outputs": [
    {
     "name": "stdout",
     "output_type": "stream",
     "text": [
      "['P', 'u', 'r', 'v', ' ', 'e', 'n', '@', '1', '2', '3']\n",
      "spaces 1\n",
      "letters 6\n",
      "numbers 3\n",
      "special characters 1\n"
     ]
    }
   ],
   "source": [
    "cnt_letter=0\n",
    "cnt_space=0\n",
    "cnt_number=0\n",
    "cnt_char=0\n",
    " charac=[\"!\",\"@\",\"#\",\"$\",]\n",
    "str1=\"Purv en@123\"\n",
    "l=[]\n",
    "for i in str1:\n",
    "    l.append(i)\n",
    "print(l)\n",
    "\n",
    "for i in l:\n",
    "    if(i==\" \"):\n",
    "        cnt_space=cnt_space+1\n",
    "    elif(ord(i)>=48 and ord(i)<=57):\n",
    "        cnt_number=cnt_number+1\n",
    "    elif((ord(i)<=90 and  ord(i)>=65) or (ord(i)<=122 and ord(i)>=97)):\n",
    "        cnt_letter+=1\n",
    "    else:\n",
    "        cnt_char+=1\n",
    "        \n",
    "    \n",
    "     elif(i):\n",
    "         cnt_char=cnt_char+1\n",
    "\n",
    "print(\"spaces\",cnt_space)\n",
    "print(\"letters\",cnt_letter)\n",
    "print(\"numbers\",cnt_number)\n",
    "print(\"special characters\",cnt_char)"
   ]
  },
  {
   "cell_type": "code",
   "execution_count": null,
   "id": "58d3f057",
   "metadata": {},
   "outputs": [],
   "source": []
  },
  {
   "cell_type": "code",
   "execution_count": 21,
   "id": "a0f5eab7",
   "metadata": {},
   "outputs": [],
   "source": [
    "l=[\"!\",\"$\"]\n",
    "a=l[0]"
   ]
  },
  {
   "cell_type": "code",
   "execution_count": 22,
   "id": "99e314ca",
   "metadata": {},
   "outputs": [
    {
     "data": {
      "text/plain": [
       "'!'"
      ]
     },
     "execution_count": 22,
     "metadata": {},
     "output_type": "execute_result"
    }
   ],
   "source": [
    "a"
   ]
  },
  {
   "cell_type": "code",
   "execution_count": 26,
   "id": "aaaf1d8f",
   "metadata": {},
   "outputs": [],
   "source": [
    "s='purven zambare'\n",
    "l=list(s)"
   ]
  },
  {
   "cell_type": "code",
   "execution_count": 27,
   "id": "a9794195",
   "metadata": {},
   "outputs": [
    {
     "data": {
      "text/plain": [
       "['p', 'u', 'r', 'v', 'e', 'n', ' ', 'z', 'a', 'm', 'b', 'a', 'r', 'e']"
      ]
     },
     "execution_count": 27,
     "metadata": {},
     "output_type": "execute_result"
    }
   ],
   "source": [
    "l"
   ]
  },
  {
   "cell_type": "code",
   "execution_count": 36,
   "id": "9aba7904",
   "metadata": {},
   "outputs": [
    {
     "data": {
      "text/plain": [
       "int"
      ]
     },
     "execution_count": 36,
     "metadata": {},
     "output_type": "execute_result"
    }
   ],
   "source": [
    "s='1'\n",
    "type(int(s))"
   ]
  },
  {
   "cell_type": "code",
   "execution_count": 62,
   "id": "4b5c977f",
   "metadata": {},
   "outputs": [
    {
     "name": "stdout",
     "output_type": "stream",
     "text": [
      "6\n",
      "3\n",
      "1\n",
      "1\n"
     ]
    }
   ],
   "source": [
    "# lettr=[]\n",
    "char=[]\n",
    "spchar=[]\n",
    "num=[]\n",
    "\n",
    "for i in range(1,127):\n",
    "    if(i>=48 and i<=57):\n",
    "        num.append(chr(i))\n",
    "    \n",
    "    elif(i>=65 and i<=90) or (i>=97 and i<=122):\n",
    "        char.append(chr(i))\n",
    "    \n",
    "    else:\n",
    "        spchar.append(chr(i))\n",
    "        \n",
    "# print(char)\n",
    "# print(spchar)\n",
    "# print(num)\n",
    "cnt_letter=0\n",
    "cnt_space=0\n",
    "cnt_number=0\n",
    "cnt_char=0\n",
    " \n",
    "str1=\"Purv en@123\"\n",
    "\n",
    "l1=list(str1)\n",
    "\n",
    "for i in l1:\n",
    "    \n",
    "    if i in char:\n",
    "        cnt_letter+=1\n",
    "    elif i in num:\n",
    "        cnt_number+=1\n",
    "    elif i ==\" \":\n",
    "        cnt_space+=1\n",
    "    else:\n",
    "        cnt_char+=1\n",
    "        \n",
    "print(cnt_letter)\n",
    "print(cnt_number)\n",
    "print(cnt_space)\n",
    "print(cnt_char)\n"
   ]
  },
  {
   "cell_type": "code",
   "execution_count": 50,
   "id": "43b46901",
   "metadata": {},
   "outputs": [
    {
     "name": "stdout",
     "output_type": "stream",
     "text": [
      "1 : \u0001,           2 : \u0002,           3 : \u0003,           4 : \u0004,           5 : \u0005,           6 : \u0006,           7 : \u0007,           8 : \b,           9 : \t,           10 : \n",
      ",           14 : \u000e,           15 : \u000f,           16 : \u0010,           17 : \u0011,           18 : \u0012,           19 : \u0013,           20 : \u0014,           21 : \u0015,           22 : \u0016,           23 : \u0017,           24 : \u0018,           25 : \u0019,           26 : \u001a,           27 : \u001b,           28 : \u001c",
      ",           29 : \u001d",
      ",           30 : \u001e",
      ",           31 : \u001f,           32 :  ,           33 : !,           34 : \",           35 : #,           36 : $,           37 : %,           38 : &,           39 : ',           40 : (,           41 : ),           42 : *,           43 : +,           44 : ,,           45 : -,           46 : .,           47 : /,           48 : 0,           49 : 1,           50 : 2,           51 : 3,           52 : 4,           53 : 5,           54 : 6,           55 : 7,           56 : 8,           57 : 9,           58 : :,           59 : ;,           60 : <,           61 : =,           62 : >,           63 : ?,           64 : @,           65 : A,           66 : B,           67 : C,           68 : D,           69 : E,           70 : F,           71 : G,           72 : H,           73 : I,           74 : J,           75 : K,           76 : L,           77 : M,           78 : N,           79 : O,           80 : P,           81 : Q,           82 : R,           83 : S,           84 : T,           85 : U,           86 : V,           87 : W,           88 : X,           89 : Y,           90 : Z,           91 : [,           92 : \\,           93 : ],           94 : ^,           95 : _,           96 : `,           97 : a,           98 : b,           99 : c,           100 : d,           101 : e,           102 : f,           103 : g,           104 : h,           105 : i,           106 : j,           107 : k,           108 : l,           109 : m,           110 : n,           111 : o,           112 : p,           113 : q,           114 : r,           115 : s,           116 : t,           117 : u,           118 : v,           119 : w,           120 : x,           121 : y,           122 : z,           123 : {,           124 : |,           125 : },           126 : ~,           "
     ]
    }
   ],
   "source": [
    "for i in range (1,127):\n",
    "    print(i,':',chr(i),end=\",           \")"
   ]
  },
  {
   "cell_type": "code",
   "execution_count": 42,
   "id": "8b09f7e2",
   "metadata": {},
   "outputs": [
    {
     "data": {
      "text/plain": [
       "99"
      ]
     },
     "execution_count": 42,
     "metadata": {},
     "output_type": "execute_result"
    }
   ],
   "source": [
    "ord(\"c\")"
   ]
  },
  {
   "cell_type": "code",
   "execution_count": 55,
   "id": "61b97433",
   "metadata": {},
   "outputs": [
    {
     "data": {
      "text/plain": [
       "'c'"
      ]
     },
     "execution_count": 55,
     "metadata": {},
     "output_type": "execute_result"
    }
   ],
   "source": [
    "chr(99)"
   ]
  },
  {
   "cell_type": "code",
   "execution_count": 59,
   "id": "2cf1d070",
   "metadata": {},
   "outputs": [
    {
     "data": {
      "text/plain": [
       "'\\x00'"
      ]
     },
     "execution_count": 59,
     "metadata": {},
     "output_type": "execute_result"
    }
   ],
   "source": [
    "chr(0)"
   ]
  },
  {
   "cell_type": "code",
   "execution_count": 5,
   "id": "fa521963",
   "metadata": {},
   "outputs": [
    {
     "data": {
      "text/plain": [
       "99"
      ]
     },
     "execution_count": 5,
     "metadata": {},
     "output_type": "execute_result"
    }
   ],
   "source": [
    "ord(\"c\")"
   ]
  },
  {
   "cell_type": "markdown",
   "id": "d4de70c8",
   "metadata": {},
   "source": [
    "# Q14 WAP  to print the ascii value of a given character"
   ]
  },
  {
   "cell_type": "code",
   "execution_count": 7,
   "id": "c6978c83",
   "metadata": {},
   "outputs": [
    {
     "name": "stdout",
     "output_type": "stream",
     "text": [
      "enter no: A\n",
      "65\n"
     ]
    }
   ],
   "source": [
    "# char=[]\n",
    "\n",
    "str1=input(\"enter no: \")\n",
    "\n",
    "# for i in str1:\n",
    "#     print(chr(i))\n",
    "\n",
    "a=ord(str1)\n",
    "print(a)"
   ]
  },
  {
   "cell_type": "markdown",
   "id": "a3499756",
   "metadata": {},
   "source": [
    "# Q15 WAP that accepts an integer (n) and computes the value of n+n*n+n*n*n."
   ]
  },
  {
   "cell_type": "code",
   "execution_count": 16,
   "id": "5617cf1b",
   "metadata": {},
   "outputs": [],
   "source": [
    "def power(num):\n",
    "    \n",
    "    total=0\n",
    "    for i in range(1,num+1):\n",
    "#         print(i)\n",
    "        total=total+num**i\n",
    "    print(total)"
   ]
  },
  {
   "cell_type": "code",
   "execution_count": 17,
   "id": "2295be94",
   "metadata": {},
   "outputs": [
    {
     "name": "stdout",
     "output_type": "stream",
     "text": [
      "39\n"
     ]
    }
   ],
   "source": [
    "power(3)"
   ]
  },
  {
   "cell_type": "markdown",
   "id": "65e5b25d",
   "metadata": {},
   "source": [
    "# Q16 WAP to capitalize the first letter of each word in input sentence."
   ]
  },
  {
   "cell_type": "code",
   "execution_count": 23,
   "id": "92853e5d",
   "metadata": {},
   "outputs": [
    {
     "name": "stdout",
     "output_type": "stream",
     "text": [
      "enter String: iacsd college\n",
      "Iacsd College\n"
     ]
    }
   ],
   "source": [
    "str1=input(\"enter String: \")\n",
    "str1=str1.title()\n",
    "print(str1)"
   ]
  },
  {
   "cell_type": "markdown",
   "id": "7f4a7a8a",
   "metadata": {},
   "source": [
    "# Q17 WAP to find the penultimate (last but one) word of a sentence."
   ]
  },
  {
   "cell_type": "code",
   "execution_count": 125,
   "id": "ca8dade6",
   "metadata": {},
   "outputs": [
    {
     "name": "stdout",
     "output_type": "stream",
     "text": [
      "['purven', 'nitin', 'iacsd']\n",
      "nitin\n"
     ]
    }
   ],
   "source": [
    "str1=\"purven nitin iacsd\"\n",
    "s=str1.split()\n",
    "print(s)\n",
    "length=len(s)-2\n",
    "print(s[length])\n",
    "# for i in str1:\n",
    "#     print()\n"
   ]
  },
  {
   "cell_type": "markdown",
   "id": "b8d4661d",
   "metadata": {},
   "source": [
    "# Q18 WAP to find second last maximum value"
   ]
  },
  {
   "cell_type": "code",
   "execution_count": 44,
   "id": "9057a6e0",
   "metadata": {},
   "outputs": [
    {
     "name": "stdout",
     "output_type": "stream",
     "text": [
      "enter num: 1458962314785\n",
      "8\n"
     ]
    }
   ],
   "source": [
    "num=(input(\"enter num: \"))\n",
    "num=list(num)\n",
    "length=len(num)\n",
    "sec_last=sorted(num)\n",
    "print(sec_last[length-2])"
   ]
  },
  {
   "cell_type": "markdown",
   "id": "b2f75b6d",
   "metadata": {},
   "source": [
    "# Q19 WAP to find number in a list which is repeated exactly 'n' times\n"
   ]
  },
  {
   "cell_type": "code",
   "execution_count": 65,
   "id": "c5704d7e",
   "metadata": {},
   "outputs": [
    {
     "name": "stdout",
     "output_type": "stream",
     "text": [
      "{3: 3, 555: 2}\n"
     ]
    }
   ],
   "source": [
    "l1=[1,2,3,3,3,4,555,555]\n",
    "d=dict()\n",
    "cnt=0\n",
    "for i in l1:\n",
    "    cnt=l1.count(i)\n",
    "#     print(cnt)\n",
    "    if cnt>1:\n",
    "        d[i]=cnt\n",
    "print(d)\n",
    "    \n",
    "    "
   ]
  },
  {
   "cell_type": "markdown",
   "id": "6c2fe115",
   "metadata": {},
   "source": [
    "# Q20 WAP to extract the first half of a given string\n"
   ]
  },
  {
   "cell_type": "code",
   "execution_count": 25,
   "id": "770529d8",
   "metadata": {},
   "outputs": [],
   "source": [
    "def Half_str(name):\n",
    "    length=len(name)\n",
    "    length=int(length/2)\n",
    "    # print(length)\n",
    "    name=name[0:length]\n",
    "    print(name)\n"
   ]
  },
  {
   "cell_type": "code",
   "execution_count": 28,
   "id": "571ac237",
   "metadata": {},
   "outputs": [
    {
     "name": "stdout",
     "output_type": "stream",
     "text": [
      "enter string: Purvenzamb\n",
      "Purve\n"
     ]
    }
   ],
   "source": [
    "Half_str(input(\"enter string: \"))"
   ]
  },
  {
   "cell_type": "markdown",
   "id": "e16ac73d",
   "metadata": {},
   "source": [
    "# Q21 WAP to check if a string starts with a specified word. \n",
    "Sample Data: string1 = \"Hello how are you?\"\n",
    "word = \"Hello\"\n",
    "Sample Output: True"
   ]
  },
  {
   "cell_type": "code",
   "execution_count": 68,
   "id": "d780832c",
   "metadata": {},
   "outputs": [],
   "source": [
    "def chk_word(wrd):\n",
    "    word=\"hello\"\n",
    "#     word1=input(\"enter string: \")\n",
    "    wrd=wrd.split()\n",
    "    wrd=wrd[0]\n",
    "    if (word==wrd):\n",
    "        print(\"true\")\n",
    "    else:\n",
    "        return False"
   ]
  },
  {
   "cell_type": "code",
   "execution_count": 69,
   "id": "0865a1f7",
   "metadata": {},
   "outputs": [
    {
     "name": "stdout",
     "output_type": "stream",
     "text": [
      "enter word: hello good morning\n",
      "true\n"
     ]
    }
   ],
   "source": [
    "chk_word(input(\"enter word: \"))"
   ]
  },
  {
   "cell_type": "markdown",
   "id": "b1de292a",
   "metadata": {},
   "source": [
    "# Q22 WAP to sort array of strings based on alphabetical order of second character of each string. Assume all strings are minimum 2 character long\n"
   ]
  },
  {
   "cell_type": "code",
   "execution_count": 76,
   "id": "19285cc4",
   "metadata": {},
   "outputs": [
    {
     "name": "stdout",
     "output_type": "stream",
     "text": [
      "['abudabi', 'newyork', 'girmany', 'india', 'swiss']\n"
     ]
    }
   ],
   "source": [
    "str1=[\"abudabi\",\"india\",\"newyork\",\"girmany\",\"swiss\"]\n",
    "\n",
    "def sec_char_sort(string):\n",
    "      return string[1]\n",
    "\n",
    "sorted_str1=sorted(str1,key=sec_char_sort)\n",
    "print(sorted_str1)"
   ]
  },
  {
   "cell_type": "markdown",
   "id": "94a9e830",
   "metadata": {},
   "source": [
    "# Q23 WAP to print the odd numbers from 1 to 99. Prints one number per line."
   ]
  },
  {
   "cell_type": "code",
   "execution_count": 2,
   "id": "858a1563",
   "metadata": {},
   "outputs": [
    {
     "name": "stdout",
     "output_type": "stream",
     "text": [
      "1\n",
      "3\n",
      "5\n",
      "7\n",
      "9\n",
      "11\n",
      "13\n",
      "15\n",
      "17\n",
      "19\n",
      "21\n",
      "23\n",
      "25\n",
      "27\n",
      "29\n",
      "31\n",
      "33\n",
      "35\n",
      "37\n",
      "39\n",
      "41\n",
      "43\n",
      "45\n",
      "47\n",
      "49\n",
      "51\n",
      "53\n",
      "55\n",
      "57\n",
      "59\n",
      "61\n",
      "63\n",
      "65\n",
      "67\n",
      "69\n",
      "71\n",
      "73\n",
      "75\n",
      "77\n",
      "79\n",
      "81\n",
      "83\n",
      "85\n",
      "87\n",
      "89\n",
      "91\n",
      "93\n",
      "95\n",
      "97\n",
      "99\n"
     ]
    }
   ],
   "source": [
    "for i in range (1,100,2):\n",
    "    print(i)"
   ]
  },
  {
   "cell_type": "markdown",
   "id": "88653c8f",
   "metadata": {},
   "source": [
    "# Q24 WAP  to accept a number and check the number is even or not. Prints 1 if the number is even or 0 if the number is odd."
   ]
  },
  {
   "cell_type": "code",
   "execution_count": 13,
   "id": "e5af62f9",
   "metadata": {},
   "outputs": [],
   "source": [
    "def eo(num):\n",
    "    if num%2==0:\n",
    "        return 1\n",
    "    else:\n",
    "        return 0\n"
   ]
  },
  {
   "cell_type": "code",
   "execution_count": 14,
   "id": "bd7ef14a",
   "metadata": {},
   "outputs": [
    {
     "name": "stdout",
     "output_type": "stream",
     "text": [
      "4\n"
     ]
    },
    {
     "data": {
      "text/plain": [
       "1"
      ]
     },
     "execution_count": 14,
     "metadata": {},
     "output_type": "execute_result"
    }
   ],
   "source": [
    "eo(int(input()))"
   ]
  },
  {
   "cell_type": "markdown",
   "id": "a1c8849c",
   "metadata": {},
   "source": [
    "# Q 25 WAP to print numbers between 1 to 100 which are divisible by 3, 5 and by both\n",
    "( total 3 list of numbers to be printed)"
   ]
  },
  {
   "cell_type": "code",
   "execution_count": 16,
   "id": "a60a0b21",
   "metadata": {},
   "outputs": [
    {
     "name": "stdout",
     "output_type": "stream",
     "text": [
      "3\n",
      "5\n",
      "6\n",
      "9\n",
      "10\n",
      "12\n",
      "15\n",
      "18\n",
      "20\n",
      "21\n",
      "24\n",
      "25\n",
      "27\n",
      "30\n",
      "33\n",
      "35\n",
      "36\n",
      "39\n",
      "40\n",
      "42\n",
      "45\n",
      "48\n",
      "50\n",
      "51\n",
      "54\n",
      "55\n",
      "57\n",
      "60\n",
      "63\n",
      "65\n",
      "66\n",
      "69\n",
      "70\n",
      "72\n",
      "75\n",
      "78\n",
      "80\n",
      "81\n",
      "84\n",
      "85\n",
      "87\n",
      "90\n",
      "93\n",
      "95\n",
      "96\n",
      "99\n"
     ]
    }
   ],
   "source": [
    "for i in range (1,100):\n",
    "    if i%5==0:\n",
    "        print(i)\n",
    "    elif i%3==0:\n",
    "        print(i)\n",
    "    elif i%5==0 and i%3==0:\n",
    "        print(i)"
   ]
  },
  {
   "cell_type": "markdown",
   "id": "293f7b01",
   "metadata": {},
   "source": [
    "# Q 26 WAP that accepts three integers from the user and return true if two or more of them (integers ) have the same rightmost digit. The integers are non-negative"
   ]
  },
  {
   "cell_type": "code",
   "execution_count": 31,
   "id": "dfb57749",
   "metadata": {},
   "outputs": [
    {
     "data": {
      "text/plain": [
       "True"
      ]
     },
     "execution_count": 31,
     "metadata": {},
     "output_type": "execute_result"
    }
   ],
   "source": [
    "# for i in range(0,3):\n",
    "#     int(input(\"enter num: \"))\n",
    "    \n",
    "def most(n1,n2,n3):\n",
    "    \n",
    "    if n1%10==n2%10:\n",
    "        return True\n",
    "\n",
    "most(123,1223,523)"
   ]
  },
  {
   "cell_type": "markdown",
   "id": "9cda12ef",
   "metadata": {},
   "source": [
    "# Q27 WAP to print all leap years between 2000 to 2100. Apply all conditions of checking leap year ( (divisible by 4 and not divisible by 100) OR (divisible by 400))"
   ]
  },
  {
   "cell_type": "code",
   "execution_count": 35,
   "id": "438a86ce",
   "metadata": {},
   "outputs": [
    {
     "name": "stdout",
     "output_type": "stream",
     "text": [
      "enter yr: 2019\n",
      "not leap\n"
     ]
    }
   ],
   "source": [
    "yr=int(input(\"enter yr: \"))\n",
    "\n",
    "if (yr%4==0) and (yr%100!=0):\n",
    "    print(\"leap yr\")\n",
    "\n",
    "elif(yr%400==0):\n",
    "    print(\"leap yr\")\n",
    "\n",
    "else:\n",
    "    print(\"not leap\")\n",
    "    \n"
   ]
  },
  {
   "cell_type": "markdown",
   "id": "6c180062",
   "metadata": {},
   "source": [
    "# Q 28 Factorial of a number using loop\n",
    "    n! = n * (n-1) * (n-2) * ... *2*1\n"
   ]
  },
  {
   "cell_type": "code",
   "execution_count": 36,
   "id": "97bcf11a",
   "metadata": {},
   "outputs": [
    {
     "name": "stdout",
     "output_type": "stream",
     "text": [
      "enter num: 5\n",
      "120\n"
     ]
    }
   ],
   "source": [
    "num=int(input(\"enter num: \"))\n",
    "res=1\n",
    "for i in range(1,num+1):\n",
    "    res=res*i\n",
    "print(res)"
   ]
  },
  {
   "cell_type": "markdown",
   "id": "6adc6632",
   "metadata": {},
   "source": [
    "# Armstrong\n"
   ]
  },
  {
   "cell_type": "code",
   "execution_count": 58,
   "id": "01049bbb",
   "metadata": {},
   "outputs": [
    {
     "name": "stdout",
     "output_type": "stream",
     "text": [
      "enter the num: 153\n",
      "153\n",
      "armstrong\n"
     ]
    }
   ],
   "source": [
    "num1=input(\"enter the num: \")\n",
    "length=len(num1)\n",
    "num=int(num1)\n",
    "ori_num=num\n",
    "#length=len(num)\n",
    "arm=0\n",
    "while num>0:\n",
    "    n=num%10\n",
    "    arm=arm+n**length\n",
    "    num=num//10\n",
    "\n",
    "print(arm)\n",
    "if arm==ori_num:\n",
    "    print(\"armstrong\")\n",
    "else:\n",
    "    print(\"not armstrong\")"
   ]
  },
  {
   "cell_type": "markdown",
   "id": "9ca86a88",
   "metadata": {},
   "source": [
    "# Armstrong"
   ]
  },
  {
   "cell_type": "code",
   "execution_count": 13,
   "id": "270b9794",
   "metadata": {},
   "outputs": [
    {
     "name": "stdout",
     "output_type": "stream",
     "text": [
      "enter number153\n",
      "153\n",
      "153\n",
      "armstrong\n"
     ]
    }
   ],
   "source": [
    "num1=input(\"enter number\")\n",
    "l=len(num1)\n",
    "\n",
    "# print(l)\n",
    "\n",
    "num=int(num1)\n",
    "ori_num=num\n",
    "# print(type(num))\n",
    "res=0\n",
    "while(num>0):\n",
    "    n=num%10\n",
    "    res=res+n**l\n",
    "    num=num//10\n",
    "\n",
    "print(res)\n",
    "print(num1)\n",
    "if res==ori_num:\n",
    "    print(\"armstrong\")\n",
    "else:\n",
    "    print(\"no arm\")"
   ]
  },
  {
   "cell_type": "markdown",
   "id": "665c6566",
   "metadata": {},
   "source": [
    "# Fact"
   ]
  },
  {
   "cell_type": "code",
   "execution_count": 124,
   "id": "50fadc17",
   "metadata": {},
   "outputs": [
    {
     "name": "stdout",
     "output_type": "stream",
     "text": [
      "enter number6\n",
      "720\n"
     ]
    }
   ],
   "source": [
    "num=int(input(\"enter number\"))\n",
    "res=1\n",
    "for i in range(num):\n",
    "    res=res*(num-i)\n",
    "print(res)"
   ]
  },
  {
   "cell_type": "markdown",
   "id": "de88b0d6",
   "metadata": {},
   "source": [
    "# Fibonacci"
   ]
  },
  {
   "cell_type": "code",
   "execution_count": 18,
   "id": "284f5018",
   "metadata": {},
   "outputs": [
    {
     "name": "stdout",
     "output_type": "stream",
     "text": [
      "enter a number: 5\n",
      "1\n",
      "1\n",
      "2\n",
      "3\n",
      "5\n",
      "8\n"
     ]
    }
   ],
   "source": [
    "# 1,1,2,3,5,8,13,21,34,...\n",
    "n=int(input(\"enter a number: \"))\n",
    "\n",
    "a=0\n",
    "b=1\n",
    "# print(a)\n",
    "print(b)\n",
    "\n",
    "for i in range (n):\n",
    "    c=a+b\n",
    "    print(c)\n",
    "    a,b=b,c\n",
    "\n"
   ]
  },
  {
   "cell_type": "markdown",
   "id": "7d7201b9",
   "metadata": {},
   "source": [
    "# WAP to check if a number is perfect square ot not.\n"
   ]
  },
  {
   "cell_type": "code",
   "execution_count": 26,
   "id": "8a9f5c4e",
   "metadata": {},
   "outputs": [
    {
     "name": "stdout",
     "output_type": "stream",
     "text": [
      "enter nos: 9\n",
      "3\n",
      "perfect square\n"
     ]
    }
   ],
   "source": [
    "n=int(input(\"enter nos: \"))\n",
    "\n",
    "a=int((n**0.5))\n",
    "print(a)\n",
    "if a*a==n:\n",
    "    print(\"perfect square\")\n",
    "else:\n",
    "    print(\"not\")"
   ]
  },
  {
   "cell_type": "code",
   "execution_count": 29,
   "id": "2d05dfa5",
   "metadata": {},
   "outputs": [
    {
     "name": "stdout",
     "output_type": "stream",
     "text": [
      "enter number: 5\n"
     ]
    }
   ],
   "source": [
    "n=int(input(\"enter number: \"))\n",
    "\n",
    "for i in range (1,n+1):\n",
    "    if (i*i==n):\n",
    "        print(\"perfect sqr\")\n",
    "        break"
   ]
  },
  {
   "cell_type": "markdown",
   "id": "aa4e9119",
   "metadata": {},
   "source": [
    "# WAP to chk prime nos"
   ]
  },
  {
   "cell_type": "code",
   "execution_count": 41,
   "id": "2c6a500f",
   "metadata": {},
   "outputs": [
    {
     "name": "stdout",
     "output_type": "stream",
     "text": [
      "enter a num 7\n",
      "prime\n"
     ]
    }
   ],
   "source": [
    "n=int(input(\"enter a num \"))\n",
    "\n",
    "for i in range (2,n):\n",
    "    if n%i==0:\n",
    "        print(\"not prime\")\n",
    "        \n",
    "        break\n",
    "else:\n",
    "    print(\"prime\")\n",
    "    "
   ]
  },
  {
   "cell_type": "code",
   "execution_count": 38,
   "id": "606d6ba0",
   "metadata": {},
   "outputs": [
    {
     "data": {
      "text/plain": [
       "3"
      ]
     },
     "execution_count": 38,
     "metadata": {},
     "output_type": "execute_result"
    }
   ],
   "source": [
    "int(7**0.5+1)"
   ]
  },
  {
   "cell_type": "code",
   "execution_count": 42,
   "id": "11dce015",
   "metadata": {},
   "outputs": [
    {
     "name": "stdout",
     "output_type": "stream",
     "text": [
      "nevruP\n"
     ]
    }
   ],
   "source": [
    "s=\"Purven\"\n",
    "a=s[::-1]\n",
    "print(a)"
   ]
  },
  {
   "cell_type": "markdown",
   "id": "b41d25ea",
   "metadata": {},
   "source": [
    "# reverse a string without using a fun()"
   ]
  },
  {
   "cell_type": "code",
   "execution_count": 46,
   "id": "ea9eb6dd",
   "metadata": {},
   "outputs": [
    {
     "name": "stdout",
     "output_type": "stream",
     "text": [
      "nevruP\n"
     ]
    }
   ],
   "source": [
    "s=\"Purven\"\n",
    "b=\"\"\n",
    "for i in range(1,len(s)+1):\n",
    "    b=b+s[-i]\n",
    "\n",
    "print(b)"
   ]
  },
  {
   "cell_type": "code",
   "execution_count": 56,
   "id": "e0f956c4",
   "metadata": {},
   "outputs": [
    {
     "name": "stdout",
     "output_type": "stream",
     "text": [
      "enter a num: 1532\n",
      "2351\n"
     ]
    }
   ],
   "source": [
    "num=int(input(\"enter a num: \"))\n",
    "rev=0\n",
    "while(num>0):\n",
    "    n=num%10\n",
    "    rev=rev*10+n\n",
    "    num=num//10\n",
    "\n",
    "    \n",
    "print(rev)"
   ]
  },
  {
   "cell_type": "markdown",
   "id": "9420dfb8",
   "metadata": {},
   "source": [
    "# Pallindrome"
   ]
  },
  {
   "cell_type": "code",
   "execution_count": 64,
   "id": "823221b2",
   "metadata": {},
   "outputs": [
    {
     "name": "stdout",
     "output_type": "stream",
     "text": [
      "enter a number: 1532\n",
      "not\n"
     ]
    }
   ],
   "source": [
    "num=int(input(\"enter a number: \"))\n",
    "ori_num=num\n",
    "rev=0\n",
    "\n",
    "while(num>0):\n",
    "    n=num%10\n",
    "    rev=rev*10+n\n",
    "    num=num//10\n",
    "\n",
    "if (rev==ori_num):\n",
    "    print(\"Pallindrome\")\n",
    "else:\n",
    "    print(\"not\")\n"
   ]
  },
  {
   "cell_type": "markdown",
   "id": "0d3e67a7",
   "metadata": {},
   "source": [
    "# Pallindrome String"
   ]
  },
  {
   "cell_type": "code",
   "execution_count": 68,
   "id": "d5ac0400",
   "metadata": {},
   "outputs": [
    {
     "name": "stdout",
     "output_type": "stream",
     "text": [
      "enter a string: ullu\n",
      "ullu\n",
      "ullu\n",
      "palli str\n"
     ]
    }
   ],
   "source": [
    "s=input(\"enter a string: \")\n",
    "ori_str=s\n",
    "print(ori_str)\n",
    "b=\"\"\n",
    "\n",
    "for i in range (1,len(s)+1):\n",
    "    b=b+s[-i]\n",
    "\n",
    "print(b)\n",
    "\n",
    "if b==ori_str:\n",
    "    print(\"palli str\")\n",
    "else:\n",
    "    print(\"not\")\n"
   ]
  },
  {
   "cell_type": "markdown",
   "id": "6b045c5c",
   "metadata": {},
   "source": [
    "# Find duplicate characters in a string."
   ]
  },
  {
   "cell_type": "code",
   "execution_count": 79,
   "id": "32df067c",
   "metadata": {},
   "outputs": [
    {
     "name": "stdout",
     "output_type": "stream",
     "text": [
      "{'r', 'n'}\n"
     ]
    }
   ],
   "source": [
    "s=\"purrvennn\"\n",
    "duplicate=set()\n",
    "for i in range(len(s)):\n",
    "    if s.count(s[i])>1:\n",
    "        duplicate.add(s[i])\n",
    "\n",
    "print(duplicate)\n",
    "        "
   ]
  },
  {
   "cell_type": "code",
   "execution_count": 77,
   "id": "cf2b2987",
   "metadata": {},
   "outputs": [
    {
     "name": "stdout",
     "output_type": "stream",
     "text": [
      "Duplicate characters: {'r', 'n'}\n"
     ]
    }
   ],
   "source": [
    "s = \"purrvennn\"\n",
    "duplicates = set()\n",
    "\n",
    "for char in s:\n",
    "    if s.count(char) > 1:\n",
    "        duplicates.add(char)\n",
    "\n",
    "print(\"Duplicate characters:\", duplicates)"
   ]
  },
  {
   "cell_type": "markdown",
   "id": "c07d63b2",
   "metadata": {},
   "source": [
    "# Take a number from user. Print highest number possible using all digits once from given number \n"
   ]
  },
  {
   "cell_type": "code",
   "execution_count": 89,
   "id": "3adb0892",
   "metadata": {},
   "outputs": [
    {
     "name": "stdout",
     "output_type": "stream",
     "text": [
      "enter a num: 153\n",
      "531\n"
     ]
    }
   ],
   "source": [
    "num=int(input(\"enter a num: \"))\n",
    "\n",
    "num=str(num)\n",
    "\n",
    "num=\"\".join(sorted(num,reverse=True))\n",
    "\n",
    "print(int(num))\n"
   ]
  },
  {
   "cell_type": "code",
   "execution_count": 123,
   "id": "ea29b1c6",
   "metadata": {},
   "outputs": [
    {
     "name": "stdout",
     "output_type": "stream",
     "text": [
      "899\n"
     ]
    }
   ],
   "source": [
    "a=989\n",
    "l=[]\n",
    "for i in (str(a)):\n",
    "    l.append(int(i))\n",
    "    \n",
    "# print(l)\n",
    "\n",
    "for i in range(0,len(l)):\n",
    "    for j in range(i+1,len(l)):\n",
    "        if l[i]>=l[j]:\n",
    "            l[i],l[j]=l[j],l[i]\n",
    "\n",
    "n=int(\"\".join(map(str,l)))\n",
    "print(n)\n"
   ]
  },
  {
   "cell_type": "code",
   "execution_count": null,
   "id": "f3631fd8",
   "metadata": {},
   "outputs": [],
   "source": []
  },
  {
   "cell_type": "code",
   "execution_count": null,
   "id": "cff3bcd8",
   "metadata": {},
   "outputs": [],
   "source": []
  }
 ],
 "metadata": {
  "kernelspec": {
   "display_name": "Python 3 (ipykernel)",
   "language": "python",
   "name": "python3"
  },
  "language_info": {
   "codemirror_mode": {
    "name": "ipython",
    "version": 3
   },
   "file_extension": ".py",
   "mimetype": "text/x-python",
   "name": "python",
   "nbconvert_exporter": "python",
   "pygments_lexer": "ipython3",
   "version": "3.11.4"
  }
 },
 "nbformat": 4,
 "nbformat_minor": 5
}
