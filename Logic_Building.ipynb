{
 "cells": [
  {
   "cell_type": "markdown",
   "id": "47e62447",
   "metadata": {},
   "source": [
    "# Q1..WAP that accepts three integers from the user and return true if two or more of them (integers ) have the same rightmost digit. The integers are non-negative\n"
   ]
  },
  {
   "cell_type": "code",
   "execution_count": 19,
   "id": "14478d7a",
   "metadata": {},
   "outputs": [
    {
     "name": "stdout",
     "output_type": "stream",
     "text": [
      "enter fir number: 125\n",
      "enter sec number165\n",
      "enter sec number123\n",
      "positive integers\n"
     ]
    }
   ],
   "source": [
    "num1=int(input(\"enter fir number: \"))\n",
    "num2=int(input(\"enter sec number\"))\n",
    "num3=int(input(\"enter sec number\"))\n",
    "\n",
    "num1=str(num1)\n",
    "num2=str(num2)\n",
    "num3=str(num3)\n",
    "if (num1[-1]==num2[-1] or num2[-1]==num3[-1] or num1[-1]==num3[-1]):\n",
    "    print(\"positive integers\")\n",
    "\n",
    "    "
   ]
  },
  {
   "cell_type": "code",
   "execution_count": null,
   "id": "fca52d59",
   "metadata": {},
   "outputs": [],
   "source": []
  },
  {
   "cell_type": "markdown",
   "id": "f44d7bcc",
   "metadata": {},
   "source": [
    "Q2WAP to convert input number of seconds to HH:MM:SS."
   ]
  },
  {
   "cell_type": "code",
   "execution_count": 27,
   "id": "b16628bb",
   "metadata": {},
   "outputs": [
    {
     "name": "stdout",
     "output_type": "stream",
     "text": [
      "enter sec: 3600\n",
      "1 : 60 : 3600\n"
     ]
    }
   ],
   "source": [
    "sec=int(input(\"enter sec: \"))\n",
    "hrs=(sec/3600)\n",
    "minute=sec/60\n",
    "print(int(hrs),\":\",int(minute),\":\",int(sec))"
   ]
  },
  {
   "cell_type": "markdown",
   "id": "cbe0d46d",
   "metadata": {},
   "source": [
    "Q3 WAP to print all leap years between 2000 to 2100. Apply all conditions of checking leap year ( (divisible by 4 and not divisible by 100) OR (divisible by 400))\n"
   ]
  },
  {
   "cell_type": "code",
   "execution_count": 37,
   "id": "8be7dd95",
   "metadata": {},
   "outputs": [
    {
     "name": "stdout",
     "output_type": "stream",
     "text": [
      "enter year: 2004\n",
      "leap\n"
     ]
    }
   ],
   "source": [
    "year=int(input(\"enter year: \"))\n",
    "\n",
    "if(2000<=year<=2100):\n",
    "    if (year%4==0) and (year%100!=0):\n",
    "\n",
    "        print(\"leap\")\n",
    "    elif(year%400==0):\n",
    "        print(\" leap year\")\n",
    "\n",
    "    else:\n",
    "        print(\"not leap\")\n",
    "else:\n",
    "    print(\"enter valid year\")\n",
    "\n"
   ]
  },
  {
   "cell_type": "markdown",
   "id": "e0af4e4c",
   "metadata": {},
   "source": [
    "Factorial Program using Recursion\n",
    "    n! = n * (n-1) * (n-2) * ... *2*1\n"
   ]
  },
  {
   "cell_type": "code",
   "execution_count": 39,
   "id": "67b6ef21",
   "metadata": {},
   "outputs": [
    {
     "name": "stdout",
     "output_type": "stream",
     "text": [
      "enter num: 5\n",
      "120\n"
     ]
    }
   ],
   "source": [
    "num=int(input(\"enter num: \"))\n",
    "sum=1\n",
    "for i in range (1,num+1):\n",
    "    sum=sum*i\n",
    "print(sum)"
   ]
  },
  {
   "cell_type": "markdown",
   "id": "1ec94186",
   "metadata": {},
   "source": [
    "# Fibonacci Series.\n",
    "    1,1,2,3,5,8,13,21,34,..."
   ]
  },
  {
   "cell_type": "code",
   "execution_count": 49,
   "id": "fd639a1f",
   "metadata": {},
   "outputs": [
    {
     "name": "stdout",
     "output_type": "stream",
     "text": [
      "enter num: 5\n",
      "0\n",
      "1\n",
      "1\n",
      "2\n",
      "3\n",
      "5\n",
      "8\n"
     ]
    }
   ],
   "source": [
    "num=int(input(\"enter num: \"))\n",
    "a=0\n",
    "b=1\n",
    "print(a)\n",
    "print(b)\n",
    "for i in range(num):\n",
    "    c=a+b\n",
    "    print(c)\n",
    "#     a=b\n",
    "#     b=c\n",
    "    a,b=b,c\n",
    " "
   ]
  },
  {
   "cell_type": "markdown",
   "id": "a66e90c3",
   "metadata": {},
   "source": [
    "Q5 Armstrong Number.\n",
    "    It is a number with 'n' digits. Here (sum of every digit ^ n) equal to ( number itself)\n",
    "\n",
    "    1) 1^3 5^3 3^3=153 ( here number of digits(n) is 3)\n",
    "    2) 1^1 = 1 ( here number of digits is 1)\n",
    "    3) 1634 = 1^4 + 6^4 + 3^4 + 4^4 ( here number of digits is 4)"
   ]
  },
  {
   "cell_type": "code",
   "execution_count": 8,
   "id": "d22570ce",
   "metadata": {},
   "outputs": [
    {
     "name": "stdout",
     "output_type": "stream",
     "text": [
      "enter num: 1634\n",
      "1634\n"
     ]
    }
   ],
   "source": [
    "num=(input(\"enter num: \"))\n",
    "length=len(num)\n",
    "num=int(num)\n",
    "arm=0\n",
    "\n",
    "while (num>0):\n",
    "    dig=num%10\n",
    "    arm=arm+dig**length\n",
    "    num=num//10\n",
    "print(arm)"
   ]
  },
  {
   "cell_type": "markdown",
   "id": "3a8ddffa",
   "metadata": {},
   "source": [
    "Q6 Perfect sqaure WAP to check if a number is perfect square ot not."
   ]
  },
  {
   "cell_type": "code",
   "execution_count": 13,
   "id": "e591a3d2",
   "metadata": {},
   "outputs": [
    {
     "name": "stdout",
     "output_type": "stream",
     "text": [
      "enter num: 64\n",
      "perfect square\n"
     ]
    }
   ],
   "source": [
    "import math\n",
    "\n",
    "num=int(input(\"enter num: \"))\n",
    "sqrt=math.sqrt(num)\n",
    "\n",
    "if (sqrt*sqrt==num):\n",
    "    print(\"perfect square\")\n",
    "else:\n",
    "    print(\"not\")\n",
    "        "
   ]
  },
  {
   "cell_type": "code",
   "execution_count": 29,
   "id": "59eb1a25",
   "metadata": {},
   "outputs": [
    {
     "name": "stdout",
     "output_type": "stream",
     "text": [
      "enter num: 81\n",
      "perfect square\n"
     ]
    }
   ],
   "source": [
    "num=int(input(\"enter num: \"))\n",
    "\n",
    "for i in range(1,num+1):\n",
    "    if (i*i==num):\n",
    "        \n",
    "        print(\"perfect square\")\n",
    "        break;"
   ]
  },
  {
   "cell_type": "markdown",
   "id": "7772b433",
   "metadata": {},
   "source": [
    "# Prime number.\n",
    "    Number is not divisible by any number other than 1 and itself\n"
   ]
  },
  {
   "cell_type": "code",
   "execution_count": 39,
   "id": "bc85145e",
   "metadata": {},
   "outputs": [
    {
     "name": "stdout",
     "output_type": "stream",
     "text": [
      "enter number: 78\n",
      "not prime\n"
     ]
    }
   ],
   "source": [
    "num=int(input(\"enter number: \"))\n",
    "\n",
    "for i in range(2,num):\n",
    "    if(num%i==0):\n",
    "        print(\"not prime\")\n",
    "        break;\n",
    "else:\n",
    "    print(\"prime\")"
   ]
  },
  {
   "cell_type": "markdown",
   "id": "7bb31ce2",
   "metadata": {},
   "source": [
    "# Q6 Reverse a string."
   ]
  },
  {
   "cell_type": "code",
   "execution_count": 45,
   "id": "ad494172",
   "metadata": {},
   "outputs": [
    {
     "name": "stdout",
     "output_type": "stream",
     "text": [
      "nevrup\n"
     ]
    }
   ],
   "source": [
    "str1=\"purven\"\n",
    "str1=str1[::-1]\n",
    "print(str1)\n"
   ]
  },
  {
   "cell_type": "markdown",
   "id": "80b2e4f7",
   "metadata": {},
   "source": [
    "# Q7 Check Palindrome number"
   ]
  },
  {
   "cell_type": "code",
   "execution_count": 49,
   "id": "4ca054f6",
   "metadata": {},
   "outputs": [
    {
     "name": "stdout",
     "output_type": "stream",
     "text": [
      "enter num: 313\n",
      "313\n"
     ]
    }
   ],
   "source": [
    "num=input(\"enter num: \")\n",
    "length=len(num)\n",
    "pal=0\n",
    "num=int(num)\n",
    "while(num>0):\n",
    "    dig=num%10\n",
    "    pal=pal*10+dig\n",
    "    num=num//10\n",
    "print(pal)   "
   ]
  },
  {
   "cell_type": "markdown",
   "id": "c31a975f",
   "metadata": {},
   "source": [
    "# Q8 Find duplicate characters in a string."
   ]
  },
  {
   "cell_type": "code",
   "execution_count": 8,
   "id": "4e15c787",
   "metadata": {},
   "outputs": [
    {
     "name": "stdout",
     "output_type": "stream",
     "text": [
      "65\n"
     ]
    }
   ],
   "source": [
    "print(ord('A'))"
   ]
  },
  {
   "cell_type": "code",
   "execution_count": 11,
   "id": "69f8f9c9",
   "metadata": {},
   "outputs": [
    {
     "name": "stdout",
     "output_type": "stream",
     "text": [
      "A , B , C , D , E , F , G , H , I , J , K , L , M , N , O , P , Q , R , S , T , U , V , W , X , Y , Z , "
     ]
    }
   ],
   "source": [
    "for char in range (ord('A'),ord('Z')+1):\n",
    "    print(chr(char),end=' , ')"
   ]
  },
  {
   "cell_type": "code",
   "execution_count": 59,
   "id": "09b349fe",
   "metadata": {},
   "outputs": [
    {
     "name": "stdout",
     "output_type": "stream",
     "text": [
      "{'r': 4, 'e': 5, 'n': 5, 'z': 3, 'a': 3, 'm': 3, 'b': 3}\n"
     ]
    }
   ],
   "source": [
    "string='purveennnnnzzzaaammmbbbrrreee'\n",
    "l=[]\n",
    "for ele in string:\n",
    "    l.append(ele)\n",
    "d=dict()\n",
    "count=0\n",
    "for i in l: \n",
    "    count=l.count(i)\n",
    "    if count>1:\n",
    "        d[i] = count\n",
    "print(d)"
   ]
  },
  {
   "cell_type": "markdown",
   "id": "cacf043e",
   "metadata": {},
   "source": [
    "# Q9 print table of any given number \n",
    "    2,4,6,8,10,12,14,16,18,20\n"
   ]
  },
  {
   "cell_type": "code",
   "execution_count": 65,
   "id": "0f41a426",
   "metadata": {},
   "outputs": [
    {
     "name": "stdout",
     "output_type": "stream",
     "text": [
      "enter num: 2\n",
      "2,4,6,8,10,12,14,16,18,20,"
     ]
    }
   ],
   "source": [
    "num=int(input(\"enter num: \"))\n",
    "\n",
    "table=1\n",
    "for i in range(1,11):\n",
    "    table=num*i\n",
    "    print(table,end=\",\")"
   ]
  },
  {
   "cell_type": "markdown",
   "id": "cbdb0177",
   "metadata": {},
   "source": [
    "# Q10 Take a number from user. Print highest number possible using all digits once from given number \n"
   ]
  },
  {
   "cell_type": "markdown",
   "id": "6da5272e",
   "metadata": {},
   "source": [
    "# def larger(num):\n",
    "    l=[]\n",
    "    for i in num:\n",
    "        l.append(i)\n",
    "    l=sorted(l,reverse=True)\n",
    "    l=''.join(l)\n",
    "    print(l)\n",
    "        \n",
    "    "
   ]
  },
  {
   "cell_type": "code",
   "execution_count": 89,
   "id": "d32e6dcd",
   "metadata": {},
   "outputs": [
    {
     "name": "stdout",
     "output_type": "stream",
     "text": [
      "321\n"
     ]
    }
   ],
   "source": [
    "larger(\"123\")"
   ]
  },
  {
   "cell_type": "markdown",
   "id": "082afd0c",
   "metadata": {},
   "source": [
    "# Q11 Write a  program to swap two variables\n",
    "a. by using a temporary variable\n",
    "b. using arithmatic operation and not using a variable\n",
    "c. without using variable ( using python unpacking syntax)\n"
   ]
  },
  {
   "cell_type": "code",
   "execution_count": 93,
   "id": "06fe5800",
   "metadata": {},
   "outputs": [
    {
     "name": "stdout",
     "output_type": "stream",
     "text": [
      "2 1\n"
     ]
    }
   ],
   "source": [
    "a=1\n",
    "b=2\n",
    "\n",
    "c=a\n",
    "a=b\n",
    "b=c\n",
    "print(a,b)\n"
   ]
  },
  {
   "cell_type": "code",
   "execution_count": 97,
   "id": "1e59f196",
   "metadata": {},
   "outputs": [
    {
     "name": "stdout",
     "output_type": "stream",
     "text": [
      "2 1\n"
     ]
    }
   ],
   "source": [
    "a=1\n",
    "b=2\n",
    "\n",
    "c=a+b\n",
    "a=c-a\n",
    "b=c-b\n",
    "print(a,b)"
   ]
  },
  {
   "cell_type": "code",
   "execution_count": 98,
   "id": "3123bdd1",
   "metadata": {},
   "outputs": [
    {
     "name": "stdout",
     "output_type": "stream",
     "text": [
      "2 1\n"
     ]
    }
   ],
   "source": [
    "a=1\n",
    "b=2\n",
    "\n",
    "a,b=b,a\n",
    "\n",
    "print(a,b)"
   ]
  },
  {
   "cell_type": "markdown",
   "id": "1a48f3db",
   "metadata": {},
   "source": [
    "# Q 12 Write a  program to add and multiply two binary numbers"
   ]
  },
  {
   "cell_type": "code",
   "execution_count": 2,
   "id": "ef6c3923",
   "metadata": {},
   "outputs": [
    {
     "data": {
      "text/plain": [
       "'0b1000'"
      ]
     },
     "execution_count": 2,
     "metadata": {},
     "output_type": "execute_result"
    }
   ],
   "source": [
    "a=2\n",
    "bin(3+5)"
   ]
  },
  {
   "cell_type": "markdown",
   "id": "3e74d76e",
   "metadata": {},
   "source": [
    "# Q13 WAP  to count the letters, spaces, numbers and other characters of an input string. \n"
   ]
  },
  {
   "cell_type": "code",
   "execution_count": 53,
   "id": "291a5301",
   "metadata": {},
   "outputs": [
    {
     "name": "stdout",
     "output_type": "stream",
     "text": [
      "['P', 'u', 'r', 'v', ' ', 'e', 'n', '@', '1', '2', '3']\n",
      "spaces 1\n",
      "letters 6\n",
      "numbers 3\n",
      "special characters 1\n"
     ]
    }
   ],
   "source": [
    "cnt_letter=0\n",
    "cnt_space=0\n",
    "cnt_number=0\n",
    "cnt_char=0\n",
    " charac=[\"!\",\"@\",\"#\",\"$\",]\n",
    "str1=\"Purv en@123\"\n",
    "l=[]\n",
    "for i in str1:\n",
    "    l.append(i)\n",
    "print(l)\n",
    "\n",
    "for i in l:\n",
    "    if(i==\" \"):\n",
    "        cnt_space=cnt_space+1\n",
    "    elif(ord(i)>=48 and ord(i)<=57):\n",
    "        cnt_number=cnt_number+1\n",
    "    elif((ord(i)<=90 and  ord(i)>=65) or (ord(i)<=122 and ord(i)>=97)):\n",
    "        cnt_letter+=1\n",
    "    else:\n",
    "        cnt_char+=1\n",
    "        \n",
    "    \n",
    "     elif(i):\n",
    "         cnt_char=cnt_char+1\n",
    "\n",
    "print(\"spaces\",cnt_space)\n",
    "print(\"letters\",cnt_letter)\n",
    "print(\"numbers\",cnt_number)\n",
    "print(\"special characters\",cnt_char)"
   ]
  },
  {
   "cell_type": "code",
   "execution_count": null,
   "id": "58d3f057",
   "metadata": {},
   "outputs": [],
   "source": []
  },
  {
   "cell_type": "code",
   "execution_count": 21,
   "id": "a0f5eab7",
   "metadata": {},
   "outputs": [],
   "source": [
    "l=[\"!\",\"$\"]\n",
    "a=l[0]"
   ]
  },
  {
   "cell_type": "code",
   "execution_count": 22,
   "id": "99e314ca",
   "metadata": {},
   "outputs": [
    {
     "data": {
      "text/plain": [
       "'!'"
      ]
     },
     "execution_count": 22,
     "metadata": {},
     "output_type": "execute_result"
    }
   ],
   "source": [
    "a"
   ]
  },
  {
   "cell_type": "code",
   "execution_count": 26,
   "id": "aaaf1d8f",
   "metadata": {},
   "outputs": [],
   "source": [
    "s='purven zambare'\n",
    "l=list(s)"
   ]
  },
  {
   "cell_type": "code",
   "execution_count": 27,
   "id": "a9794195",
   "metadata": {},
   "outputs": [
    {
     "data": {
      "text/plain": [
       "['p', 'u', 'r', 'v', 'e', 'n', ' ', 'z', 'a', 'm', 'b', 'a', 'r', 'e']"
      ]
     },
     "execution_count": 27,
     "metadata": {},
     "output_type": "execute_result"
    }
   ],
   "source": [
    "l"
   ]
  },
  {
   "cell_type": "code",
   "execution_count": 36,
   "id": "9aba7904",
   "metadata": {},
   "outputs": [
    {
     "data": {
      "text/plain": [
       "int"
      ]
     },
     "execution_count": 36,
     "metadata": {},
     "output_type": "execute_result"
    }
   ],
   "source": [
    "s='1'\n",
    "type(int(s))"
   ]
  },
  {
   "cell_type": "code",
   "execution_count": 62,
   "id": "4b5c977f",
   "metadata": {},
   "outputs": [
    {
     "name": "stdout",
     "output_type": "stream",
     "text": [
      "6\n",
      "3\n",
      "1\n",
      "1\n"
     ]
    }
   ],
   "source": [
    "# lettr=[]\n",
    "char=[]\n",
    "spchar=[]\n",
    "num=[]\n",
    "\n",
    "for i in range(1,127):\n",
    "    if(i>=48 and i<=57):\n",
    "        num.append(chr(i))\n",
    "    \n",
    "    elif(i>=65 and i<=90) or (i>=97 and i<=122):\n",
    "        char.append(chr(i))\n",
    "    \n",
    "    else:\n",
    "        spchar.append(chr(i))\n",
    "        \n",
    "# print(char)\n",
    "# print(spchar)\n",
    "# print(num)\n",
    "cnt_letter=0\n",
    "cnt_space=0\n",
    "cnt_number=0\n",
    "cnt_char=0\n",
    " \n",
    "str1=\"Purv en@123\"\n",
    "\n",
    "l1=list(str1)\n",
    "\n",
    "for i in l1:\n",
    "    \n",
    "    if i in char:\n",
    "        cnt_letter+=1\n",
    "    elif i in num:\n",
    "        cnt_number+=1\n",
    "    elif i ==\" \":\n",
    "        cnt_space+=1\n",
    "    else:\n",
    "        cnt_char+=1\n",
    "        \n",
    "print(cnt_letter)\n",
    "print(cnt_number)\n",
    "print(cnt_space)\n",
    "print(cnt_char)\n"
   ]
  },
  {
   "cell_type": "code",
   "execution_count": 50,
   "id": "43b46901",
   "metadata": {},
   "outputs": [
    {
     "name": "stdout",
     "output_type": "stream",
     "text": [
      "1 : \u0001,           2 : \u0002,           3 : \u0003,           4 : \u0004,           5 : \u0005,           6 : \u0006,           7 : \u0007,           8 : \b,           9 : \t,           10 : \n",
      ",           14 : \u000e,           15 : \u000f,           16 : \u0010,           17 : \u0011,           18 : \u0012,           19 : \u0013,           20 : \u0014,           21 : \u0015,           22 : \u0016,           23 : \u0017,           24 : \u0018,           25 : \u0019,           26 : \u001a,           27 : \u001b,           28 : \u001c",
      ",           29 : \u001d",
      ",           30 : \u001e",
      ",           31 : \u001f,           32 :  ,           33 : !,           34 : \",           35 : #,           36 : $,           37 : %,           38 : &,           39 : ',           40 : (,           41 : ),           42 : *,           43 : +,           44 : ,,           45 : -,           46 : .,           47 : /,           48 : 0,           49 : 1,           50 : 2,           51 : 3,           52 : 4,           53 : 5,           54 : 6,           55 : 7,           56 : 8,           57 : 9,           58 : :,           59 : ;,           60 : <,           61 : =,           62 : >,           63 : ?,           64 : @,           65 : A,           66 : B,           67 : C,           68 : D,           69 : E,           70 : F,           71 : G,           72 : H,           73 : I,           74 : J,           75 : K,           76 : L,           77 : M,           78 : N,           79 : O,           80 : P,           81 : Q,           82 : R,           83 : S,           84 : T,           85 : U,           86 : V,           87 : W,           88 : X,           89 : Y,           90 : Z,           91 : [,           92 : \\,           93 : ],           94 : ^,           95 : _,           96 : `,           97 : a,           98 : b,           99 : c,           100 : d,           101 : e,           102 : f,           103 : g,           104 : h,           105 : i,           106 : j,           107 : k,           108 : l,           109 : m,           110 : n,           111 : o,           112 : p,           113 : q,           114 : r,           115 : s,           116 : t,           117 : u,           118 : v,           119 : w,           120 : x,           121 : y,           122 : z,           123 : {,           124 : |,           125 : },           126 : ~,           "
     ]
    }
   ],
   "source": [
    "for i in range (1,127):\n",
    "    print(i,':',chr(i),end=\",           \")"
   ]
  },
  {
   "cell_type": "code",
   "execution_count": 42,
   "id": "8b09f7e2",
   "metadata": {},
   "outputs": [
    {
     "data": {
      "text/plain": [
       "99"
      ]
     },
     "execution_count": 42,
     "metadata": {},
     "output_type": "execute_result"
    }
   ],
   "source": [
    "ord(\"c\")"
   ]
  },
  {
   "cell_type": "code",
   "execution_count": 55,
   "id": "61b97433",
   "metadata": {},
   "outputs": [
    {
     "data": {
      "text/plain": [
       "'c'"
      ]
     },
     "execution_count": 55,
     "metadata": {},
     "output_type": "execute_result"
    }
   ],
   "source": [
    "chr(99)"
   ]
  },
  {
   "cell_type": "code",
   "execution_count": 59,
   "id": "2cf1d070",
   "metadata": {},
   "outputs": [
    {
     "data": {
      "text/plain": [
       "'\\x00'"
      ]
     },
     "execution_count": 59,
     "metadata": {},
     "output_type": "execute_result"
    }
   ],
   "source": [
    "chr(0)"
   ]
  },
  {
   "cell_type": "code",
   "execution_count": 5,
   "id": "fa521963",
   "metadata": {},
   "outputs": [
    {
     "data": {
      "text/plain": [
       "99"
      ]
     },
     "execution_count": 5,
     "metadata": {},
     "output_type": "execute_result"
    }
   ],
   "source": [
    "ord(\"c\")"
   ]
  },
  {
   "cell_type": "markdown",
   "id": "d4de70c8",
   "metadata": {},
   "source": [
    "# Q14 WAP  to print the ascii value of a given character"
   ]
  },
  {
   "cell_type": "code",
   "execution_count": 7,
   "id": "c6978c83",
   "metadata": {},
   "outputs": [
    {
     "name": "stdout",
     "output_type": "stream",
     "text": [
      "enter no: A\n",
      "65\n"
     ]
    }
   ],
   "source": [
    "# char=[]\n",
    "\n",
    "str1=input(\"enter no: \")\n",
    "\n",
    "# for i in str1:\n",
    "#     print(chr(i))\n",
    "\n",
    "a=ord(str1)\n",
    "print(a)"
   ]
  },
  {
   "cell_type": "markdown",
   "id": "a3499756",
   "metadata": {},
   "source": [
    "# Q15 WAP that accepts an integer (n) and computes the value of n+n*n+n*n*n."
   ]
  },
  {
   "cell_type": "code",
   "execution_count": 16,
   "id": "5617cf1b",
   "metadata": {},
   "outputs": [],
   "source": [
    "def power(num):\n",
    "    \n",
    "    total=0\n",
    "    for i in range(1,num+1):\n",
    "#         print(i)\n",
    "        total=total+num**i\n",
    "    print(total)"
   ]
  },
  {
   "cell_type": "code",
   "execution_count": 17,
   "id": "2295be94",
   "metadata": {},
   "outputs": [
    {
     "name": "stdout",
     "output_type": "stream",
     "text": [
      "39\n"
     ]
    }
   ],
   "source": [
    "power(3)"
   ]
  },
  {
   "cell_type": "markdown",
   "id": "65e5b25d",
   "metadata": {},
   "source": [
    "# Q16 WAP to capitalize the first letter of each word in input sentence."
   ]
  },
  {
   "cell_type": "code",
   "execution_count": 23,
   "id": "92853e5d",
   "metadata": {},
   "outputs": [
    {
     "name": "stdout",
     "output_type": "stream",
     "text": [
      "enter String: iacsd college\n",
      "Iacsd College\n"
     ]
    }
   ],
   "source": [
    "str1=input(\"enter String: \")\n",
    "str1=str1.title()\n",
    "print(str1)"
   ]
  },
  {
   "cell_type": "markdown",
   "id": "7f4a7a8a",
   "metadata": {},
   "source": [
    "# Q17 WAP to find the penultimate (last but one) word of a sentence."
   ]
  },
  {
   "cell_type": "code",
   "execution_count": 34,
   "id": "ca8dade6",
   "metadata": {},
   "outputs": [
    {
     "name": "stdout",
     "output_type": "stream",
     "text": [
      "nitin\n"
     ]
    }
   ],
   "source": [
    "str1=\"purven nitin iacsd\"\n",
    "s=str1.split()\n",
    "length=len(s)-2\n",
    "print(s[length])\n",
    "# for i in str1:\n",
    "#     print()\n"
   ]
  },
  {
   "cell_type": "markdown",
   "id": "b8d4661d",
   "metadata": {},
   "source": [
    "# Q18 WAP to find second last maximum value"
   ]
  },
  {
   "cell_type": "code",
   "execution_count": 44,
   "id": "9057a6e0",
   "metadata": {},
   "outputs": [
    {
     "name": "stdout",
     "output_type": "stream",
     "text": [
      "enter num: 1458962314785\n",
      "8\n"
     ]
    }
   ],
   "source": [
    "num=(input(\"enter num: \"))\n",
    "num=list(num)\n",
    "length=len(num)\n",
    "sec_last=sorted(num)\n",
    "print(sec_last[length-2])"
   ]
  },
  {
   "cell_type": "markdown",
   "id": "b2f75b6d",
   "metadata": {},
   "source": [
    "# Q19 WAP to find number in a list which is repeated exactly 'n' times\n"
   ]
  },
  {
   "cell_type": "code",
   "execution_count": 65,
   "id": "c5704d7e",
   "metadata": {},
   "outputs": [
    {
     "name": "stdout",
     "output_type": "stream",
     "text": [
      "{3: 3, 555: 2}\n"
     ]
    }
   ],
   "source": [
    "l1=[1,2,3,3,3,4,555,555]\n",
    "d=dict()\n",
    "cnt=0\n",
    "for i in l1:\n",
    "    cnt=l1.count(i)\n",
    "#     print(cnt)\n",
    "    if cnt>1:\n",
    "        d[i]=cnt\n",
    "print(d)\n",
    "    \n",
    "    "
   ]
  },
  {
   "cell_type": "markdown",
   "id": "6c2fe115",
   "metadata": {},
   "source": [
    "# Q20 WAP to extract the first half of a given string\n"
   ]
  },
  {
   "cell_type": "code",
   "execution_count": 25,
   "id": "770529d8",
   "metadata": {},
   "outputs": [],
   "source": [
    "def Half_str(name):\n",
    "    length=len(name)\n",
    "    length=int(length/2)\n",
    "    # print(length)\n",
    "    name=name[0:length]\n",
    "    print(name)\n"
   ]
  },
  {
   "cell_type": "code",
   "execution_count": 28,
   "id": "571ac237",
   "metadata": {},
   "outputs": [
    {
     "name": "stdout",
     "output_type": "stream",
     "text": [
      "enter string: Purvenzamb\n",
      "Purve\n"
     ]
    }
   ],
   "source": [
    "Half_str(input(\"enter string: \"))"
   ]
  },
  {
   "cell_type": "markdown",
   "id": "e16ac73d",
   "metadata": {},
   "source": [
    "# Q21 WAP to check if a string starts with a specified word. \n",
    "Sample Data: string1 = \"Hello how are you?\"\n",
    "word = \"Hello\"\n",
    "Sample Output: True"
   ]
  },
  {
   "cell_type": "code",
   "execution_count": 68,
   "id": "d780832c",
   "metadata": {},
   "outputs": [],
   "source": [
    "def chk_word(wrd):\n",
    "    word=\"hello\"\n",
    "#     word1=input(\"enter string: \")\n",
    "    wrd=wrd.split()\n",
    "    wrd=wrd[0]\n",
    "    if (word==wrd):\n",
    "        print(\"true\")\n",
    "    else:\n",
    "        return False"
   ]
  },
  {
   "cell_type": "code",
   "execution_count": 69,
   "id": "0865a1f7",
   "metadata": {},
   "outputs": [
    {
     "name": "stdout",
     "output_type": "stream",
     "text": [
      "enter word: hello good morning\n",
      "true\n"
     ]
    }
   ],
   "source": [
    "chk_word(input(\"enter word: \"))"
   ]
  },
  {
   "cell_type": "markdown",
   "id": "b1de292a",
   "metadata": {},
   "source": [
    "# Q22 WAP to sort array of strings based on alphabetical order of second character of each string. Assume all strings are minimum 2 character long\n"
   ]
  },
  {
   "cell_type": "code",
   "execution_count": 76,
   "id": "19285cc4",
   "metadata": {},
   "outputs": [
    {
     "name": "stdout",
     "output_type": "stream",
     "text": [
      "['abudabi', 'newyork', 'girmany', 'india', 'swiss']\n"
     ]
    }
   ],
   "source": [
    "str1=[\"abudabi\",\"india\",\"newyork\",\"girmany\",\"swiss\"]\n",
    "\n",
    "def sec_char_sort(string):\n",
    "      return string[1]\n",
    "\n",
    "sorted_str1=sorted(str1,key=sec_char_sort)\n",
    "print(sorted_str1)"
   ]
  },
  {
   "cell_type": "code",
   "execution_count": null,
   "id": "5870bb98",
   "metadata": {},
   "outputs": [],
   "source": []
  }
 ],
 "metadata": {
  "kernelspec": {
   "display_name": "Python 3 (ipykernel)",
   "language": "python",
   "name": "python3"
  },
  "language_info": {
   "codemirror_mode": {
    "name": "ipython",
    "version": 3
   },
   "file_extension": ".py",
   "mimetype": "text/x-python",
   "name": "python",
   "nbconvert_exporter": "python",
   "pygments_lexer": "ipython3",
   "version": "3.11.4"
  }
 },
 "nbformat": 4,
 "nbformat_minor": 5
}
