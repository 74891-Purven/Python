{
 "cells": [
  {
   "cell_type": "code",
   "execution_count": 1,
   "id": "1a4e9c5c",
   "metadata": {},
   "outputs": [],
   "source": [
    "s='hello'"
   ]
  },
  {
   "cell_type": "code",
   "execution_count": 3,
   "id": "c81ba085",
   "metadata": {},
   "outputs": [
    {
     "name": "stdout",
     "output_type": "stream",
     "text": [
      "h\n"
     ]
    }
   ],
   "source": [
    "print(s[0])"
   ]
  },
  {
   "cell_type": "code",
   "execution_count": 4,
   "id": "8878ea48",
   "metadata": {},
   "outputs": [
    {
     "name": "stdout",
     "output_type": "stream",
     "text": [
      "el\n"
     ]
    }
   ],
   "source": [
    "print(s[1:3])"
   ]
  },
  {
   "cell_type": "code",
   "execution_count": 11,
   "id": "3f10c903",
   "metadata": {},
   "outputs": [
    {
     "data": {
      "text/plain": [
       "False"
      ]
     },
     "execution_count": 11,
     "metadata": {},
     "output_type": "execute_result"
    }
   ],
   "source": [
    "'aune'>'mu' #comapre au and mu by asci value"
   ]
  },
  {
   "cell_type": "code",
   "execution_count": 6,
   "id": "b7766171",
   "metadata": {},
   "outputs": [],
   "source": [
    "#Relational Operators in strings use lexicographically comaparison on th \n",
    "#on the basis of ASCII value.."
   ]
  },
  {
   "cell_type": "code",
   "execution_count": 12,
   "id": "e345b5bc",
   "metadata": {},
   "outputs": [
    {
     "data": {
      "text/plain": [
       "True"
      ]
     },
     "execution_count": 12,
     "metadata": {},
     "output_type": "execute_result"
    }
   ],
   "source": [
    "'D' in 'Delhi'"
   ]
  },
  {
   "cell_type": "code",
   "execution_count": 13,
   "id": "7a271d92",
   "metadata": {},
   "outputs": [
    {
     "data": {
      "text/plain": [
       "False"
      ]
     },
     "execution_count": 13,
     "metadata": {},
     "output_type": "execute_result"
    }
   ],
   "source": [
    "'d' not in 'delhi'"
   ]
  },
  {
   "cell_type": "code",
   "execution_count": 15,
   "id": "05fe8166",
   "metadata": {},
   "outputs": [
    {
     "name": "stdout",
     "output_type": "stream",
     "text": [
      "dlrow olleh\n"
     ]
    }
   ],
   "source": [
    "l='hello world'\n",
    "l=l[::-1]\n",
    "print(l)"
   ]
  },
  {
   "cell_type": "code",
   "execution_count": 16,
   "id": "bad01a79",
   "metadata": {},
   "outputs": [
    {
     "data": {
      "text/plain": [
       "'w'"
      ]
     },
     "execution_count": 16,
     "metadata": {},
     "output_type": "execute_result"
    }
   ],
   "source": [
    "max(\"hello world\")"
   ]
  },
  {
   "cell_type": "code",
   "execution_count": 17,
   "id": "7c06febe",
   "metadata": {},
   "outputs": [
    {
     "data": {
      "text/plain": [
       "' '"
      ]
     },
     "execution_count": 17,
     "metadata": {},
     "output_type": "execute_result"
    }
   ],
   "source": [
    "min(\"hello world\")"
   ]
  },
  {
   "cell_type": "code",
   "execution_count": 18,
   "id": "4fbdc04f",
   "metadata": {},
   "outputs": [
    {
     "data": {
      "text/plain": [
       "[' ', 'd', 'e', 'h', 'l', 'l', 'l', 'o', 'o', 'r', 'w']"
      ]
     },
     "execution_count": 18,
     "metadata": {},
     "output_type": "execute_result"
    }
   ],
   "source": [
    "sorted(l)    #lexicographically on the basis of acii value"
   ]
  },
  {
   "cell_type": "code",
   "execution_count": 19,
   "id": "fa53350b",
   "metadata": {},
   "outputs": [
    {
     "data": {
      "text/plain": [
       "['w', 'r', 'o', 'o', 'l', 'l', 'l', 'h', 'e', 'd', ' ']"
      ]
     },
     "execution_count": 19,
     "metadata": {},
     "output_type": "execute_result"
    }
   ],
   "source": [
    "sorted(l,reverse=True)"
   ]
  },
  {
   "cell_type": "code",
   "execution_count": 21,
   "id": "1bcb74e7",
   "metadata": {},
   "outputs": [
    {
     "data": {
      "text/plain": [
       "'Hello word'"
      ]
     },
     "execution_count": 21,
     "metadata": {},
     "output_type": "execute_result"
    }
   ],
   "source": [
    "s='hello word'\n",
    "s.capitalize()"
   ]
  },
  {
   "cell_type": "code",
   "execution_count": 22,
   "id": "79694a5f",
   "metadata": {},
   "outputs": [
    {
     "data": {
      "text/plain": [
       "'Hello Word'"
      ]
     },
     "execution_count": 22,
     "metadata": {},
     "output_type": "execute_result"
    }
   ],
   "source": [
    "s.title()"
   ]
  },
  {
   "cell_type": "code",
   "execution_count": 23,
   "id": "26b01251",
   "metadata": {},
   "outputs": [
    {
     "data": {
      "text/plain": [
       "'HELLO WORD'"
      ]
     },
     "execution_count": 23,
     "metadata": {},
     "output_type": "execute_result"
    }
   ],
   "source": [
    "s.upper()"
   ]
  },
  {
   "cell_type": "code",
   "execution_count": 24,
   "id": "9073b530",
   "metadata": {},
   "outputs": [
    {
     "data": {
      "text/plain": [
       "'hello word'"
      ]
     },
     "execution_count": 24,
     "metadata": {},
     "output_type": "execute_result"
    }
   ],
   "source": [
    "s.lower()"
   ]
  },
  {
   "cell_type": "code",
   "execution_count": 25,
   "id": "e0e9139b",
   "metadata": {},
   "outputs": [
    {
     "data": {
      "text/plain": [
       "'HiellO'"
      ]
     },
     "execution_count": 25,
     "metadata": {},
     "output_type": "execute_result"
    }
   ],
   "source": [
    "h='hIELLo'\n",
    "h.swapcase()"
   ]
  },
  {
   "cell_type": "code",
   "execution_count": 26,
   "id": "9d4c3758",
   "metadata": {},
   "outputs": [
    {
     "data": {
      "text/plain": [
       "3"
      ]
     },
     "execution_count": 26,
     "metadata": {},
     "output_type": "execute_result"
    }
   ],
   "source": [
    "'my name is purven'.find(\"n\")# gives the index vale from where n is there."
   ]
  },
  {
   "cell_type": "code",
   "execution_count": 27,
   "id": "590a54a1",
   "metadata": {},
   "outputs": [
    {
     "data": {
      "text/plain": [
       "3"
      ]
     },
     "execution_count": 27,
     "metadata": {},
     "output_type": "execute_result"
    }
   ],
   "source": [
    "'my name is purven'.index(\"n\")"
   ]
  },
  {
   "cell_type": "code",
   "execution_count": 31,
   "id": "95149ea7",
   "metadata": {},
   "outputs": [
    {
     "data": {
      "text/plain": [
       "True"
      ]
     },
     "execution_count": 31,
     "metadata": {},
     "output_type": "execute_result"
    }
   ],
   "source": [
    "'I would purchase Gt next year'.startswith('I')"
   ]
  },
  {
   "cell_type": "code",
   "execution_count": 34,
   "id": "e8038541",
   "metadata": {},
   "outputs": [
    {
     "data": {
      "text/plain": [
       "True"
      ]
     },
     "execution_count": 34,
     "metadata": {},
     "output_type": "execute_result"
    }
   ],
   "source": [
    "'I would purchase Gt next year'.endswith('ear')"
   ]
  },
  {
   "cell_type": "code",
   "execution_count": 35,
   "id": "f4d5ff8a",
   "metadata": {},
   "outputs": [
    {
     "data": {
      "text/plain": [
       "'Hi my name is pajjya and I am male'"
      ]
     },
     "execution_count": 35,
     "metadata": {},
     "output_type": "execute_result"
    }
   ],
   "source": [
    "name='pajjya'\n",
    "gen='male'\n",
    "'Hi my name is {} and I am {}'.format(name,gen)"
   ]
  },
  {
   "cell_type": "code",
   "execution_count": 36,
   "id": "1b3723b5",
   "metadata": {},
   "outputs": [
    {
     "data": {
      "text/plain": [
       "'Hi my name is pajjya and I am male'"
      ]
     },
     "execution_count": 36,
     "metadata": {},
     "output_type": "execute_result"
    }
   ],
   "source": [
    "name='pajjya'\n",
    "gen='male'\n",
    "'Hi my name is {0} and I am {1}'.format(name,gen)"
   ]
  },
  {
   "cell_type": "code",
   "execution_count": 37,
   "id": "0e8720c8",
   "metadata": {},
   "outputs": [
    {
     "data": {
      "text/plain": [
       "'Hi my name is male and I am pajjya'"
      ]
     },
     "execution_count": 37,
     "metadata": {},
     "output_type": "execute_result"
    }
   ],
   "source": [
    "name='pajjya'\n",
    "gen='male'\n",
    "'Hi my name is {1} and I am {0}'.format(name,gen)"
   ]
  },
  {
   "cell_type": "code",
   "execution_count": 40,
   "id": "498f7f6e",
   "metadata": {},
   "outputs": [
    {
     "data": {
      "text/plain": [
       "'himynameispur'"
      ]
     },
     "execution_count": 40,
     "metadata": {},
     "output_type": "execute_result"
    }
   ],
   "source": [
    "''.join(['hi','my','name', 'is', 'pur'])"
   ]
  },
  {
   "cell_type": "code",
   "execution_count": 41,
   "id": "544de299",
   "metadata": {},
   "outputs": [
    {
     "data": {
      "text/plain": [
       "'hi/my/name/is/pur'"
      ]
     },
     "execution_count": 41,
     "metadata": {},
     "output_type": "execute_result"
    }
   ],
   "source": [
    "'/'.join(['hi','my','name', 'is', 'pur'])"
   ]
  },
  {
   "cell_type": "code",
   "execution_count": 42,
   "id": "5cf08766",
   "metadata": {},
   "outputs": [
    {
     "data": {
      "text/plain": [
       "['hi', 'my', 'name', 'is', 'pur']"
      ]
     },
     "execution_count": 42,
     "metadata": {},
     "output_type": "execute_result"
    }
   ],
   "source": [
    "'hi/my/name/is/pur'.split('/')"
   ]
  },
  {
   "cell_type": "code",
   "execution_count": 44,
   "id": "06069b86",
   "metadata": {},
   "outputs": [
    {
     "data": {
      "text/plain": [
       "'xyz'"
      ]
     },
     "execution_count": 44,
     "metadata": {},
     "output_type": "execute_result"
    }
   ],
   "source": [
    "l='zxy'\n",
    "''.join(sorted(l))"
   ]
  },
  {
   "cell_type": "code",
   "execution_count": 45,
   "id": "ef1d1b6a",
   "metadata": {},
   "outputs": [],
   "source": [
    "l=['x','z','a']\n",
    "l.sort()"
   ]
  },
  {
   "cell_type": "code",
   "execution_count": 46,
   "id": "e738d4c8",
   "metadata": {},
   "outputs": [
    {
     "data": {
      "text/plain": [
       "['a', 'x', 'z']"
      ]
     },
     "execution_count": 46,
     "metadata": {},
     "output_type": "execute_result"
    }
   ],
   "source": [
    "l"
   ]
  },
  {
   "cell_type": "code",
   "execution_count": 47,
   "id": "8aab1aaa",
   "metadata": {},
   "outputs": [
    {
     "name": "stdout",
     "output_type": "stream",
     "text": [
      "['a', 'x', 'z']\n"
     ]
    }
   ],
   "source": []
  },
  {
   "cell_type": "code",
   "execution_count": 48,
   "id": "56165d9b",
   "metadata": {},
   "outputs": [
    {
     "data": {
      "text/plain": [
       "['a', 'b', 'v', 'x']"
      ]
     },
     "execution_count": 48,
     "metadata": {},
     "output_type": "execute_result"
    }
   ],
   "source": [
    "l='xvab'\n",
    "sorted(l)"
   ]
  },
  {
   "cell_type": "code",
   "execution_count": 49,
   "id": "80b27bec",
   "metadata": {},
   "outputs": [
    {
     "data": {
      "text/plain": [
       "'xvab'"
      ]
     },
     "execution_count": 49,
     "metadata": {},
     "output_type": "execute_result"
    }
   ],
   "source": [
    "l"
   ]
  },
  {
   "cell_type": "code",
   "execution_count": 50,
   "id": "b225a3b0",
   "metadata": {},
   "outputs": [
    {
     "data": {
      "text/plain": [
       "'abvx'"
      ]
     },
     "execution_count": 50,
     "metadata": {},
     "output_type": "execute_result"
    }
   ],
   "source": [
    "''.join(sorted(l))"
   ]
  },
  {
   "cell_type": "code",
   "execution_count": 51,
   "id": "09228c93",
   "metadata": {},
   "outputs": [
    {
     "data": {
      "text/plain": [
       "'hi my name is Kohli'"
      ]
     },
     "execution_count": 51,
     "metadata": {},
     "output_type": "execute_result"
    }
   ],
   "source": [
    "'hi my name is dhoni'.replace('dhoni','Kohli')"
   ]
  },
  {
   "cell_type": "code",
   "execution_count": 52,
   "id": "dccb8f9d",
   "metadata": {},
   "outputs": [
    {
     "data": {
      "text/plain": [
       "'hi my name is dhoni'"
      ]
     },
     "execution_count": 52,
     "metadata": {},
     "output_type": "execute_result"
    }
   ],
   "source": [
    "'hi my name is dhoni'.replace('pajjaya','Kohli')"
   ]
  },
  {
   "cell_type": "code",
   "execution_count": 53,
   "id": "6a9c71b0",
   "metadata": {},
   "outputs": [
    {
     "data": {
      "text/plain": [
       "'pajjya'"
      ]
     },
     "execution_count": 53,
     "metadata": {},
     "output_type": "execute_result"
    }
   ],
   "source": [
    "'pajjya                          '.strip() #remove spaces"
   ]
  },
  {
   "cell_type": "code",
   "execution_count": 55,
   "id": "a5942e21",
   "metadata": {},
   "outputs": [
    {
     "data": {
      "text/plain": [
       "'pajjya                          '"
      ]
     },
     "execution_count": 55,
     "metadata": {},
     "output_type": "execute_result"
    }
   ],
   "source": [
    "'pajjya                          '.translate(['purven'])"
   ]
  },
  {
   "cell_type": "code",
   "execution_count": 3,
   "id": "90ffbb9e",
   "metadata": {},
   "outputs": [],
   "source": [
    "l=\"pajjya\"\n",
    "s=sorted(l)"
   ]
  },
  {
   "cell_type": "code",
   "execution_count": 4,
   "id": "045f1135",
   "metadata": {},
   "outputs": [
    {
     "data": {
      "text/plain": [
       "['a', 'a', 'j', 'j', 'p', 'y']"
      ]
     },
     "execution_count": 4,
     "metadata": {},
     "output_type": "execute_result"
    }
   ],
   "source": [
    "s"
   ]
  },
  {
   "cell_type": "code",
   "execution_count": 5,
   "id": "c51f5ce2",
   "metadata": {},
   "outputs": [
    {
     "data": {
      "text/plain": [
       "'aajjpy'"
      ]
     },
     "execution_count": 5,
     "metadata": {},
     "output_type": "execute_result"
    }
   ],
   "source": [
    "\"\".join(s)"
   ]
  },
  {
   "cell_type": "code",
   "execution_count": 6,
   "id": "c9823fe5",
   "metadata": {},
   "outputs": [
    {
     "data": {
      "text/plain": [
       "'aajjpy'"
      ]
     },
     "execution_count": 6,
     "metadata": {},
     "output_type": "execute_result"
    }
   ],
   "source": [
    "\"\".join(sorted(l))"
   ]
  },
  {
   "cell_type": "code",
   "execution_count": 7,
   "id": "8c6ef960",
   "metadata": {},
   "outputs": [
    {
     "ename": "NameError",
     "evalue": "name '__help__' is not defined",
     "output_type": "error",
     "traceback": [
      "\u001b[1;31m---------------------------------------------------------------------------\u001b[0m",
      "\u001b[1;31mNameError\u001b[0m                                 Traceback (most recent call last)",
      "Cell \u001b[1;32mIn[7], line 1\u001b[0m\n\u001b[1;32m----> 1\u001b[0m __help__()\n",
      "\u001b[1;31mNameError\u001b[0m: name '__help__' is not defined"
     ]
    }
   ],
   "source": [
    "__help__()"
   ]
  },
  {
   "cell_type": "code",
   "execution_count": 9,
   "id": "485640e3",
   "metadata": {},
   "outputs": [
    {
     "name": "stdout",
     "output_type": "stream",
     "text": [
      "Help on class tuple in module builtins:\n",
      "\n",
      "class tuple(object)\n",
      " |  tuple(iterable=(), /)\n",
      " |  \n",
      " |  Built-in immutable sequence.\n",
      " |  \n",
      " |  If no argument is given, the constructor returns an empty tuple.\n",
      " |  If iterable is specified the tuple is initialized from iterable's items.\n",
      " |  \n",
      " |  If the argument is a tuple, the return value is the same object.\n",
      " |  \n",
      " |  Built-in subclasses:\n",
      " |      asyncgen_hooks\n",
      " |      UnraisableHookArgs\n",
      " |  \n",
      " |  Methods defined here:\n",
      " |  \n",
      " |  __add__(self, value, /)\n",
      " |      Return self+value.\n",
      " |  \n",
      " |  __contains__(self, key, /)\n",
      " |      Return key in self.\n",
      " |  \n",
      " |  __eq__(self, value, /)\n",
      " |      Return self==value.\n",
      " |  \n",
      " |  __ge__(self, value, /)\n",
      " |      Return self>=value.\n",
      " |  \n",
      " |  __getattribute__(self, name, /)\n",
      " |      Return getattr(self, name).\n",
      " |  \n",
      " |  __getitem__(self, key, /)\n",
      " |      Return self[key].\n",
      " |  \n",
      " |  __getnewargs__(self, /)\n",
      " |  \n",
      " |  __gt__(self, value, /)\n",
      " |      Return self>value.\n",
      " |  \n",
      " |  __hash__(self, /)\n",
      " |      Return hash(self).\n",
      " |  \n",
      " |  __iter__(self, /)\n",
      " |      Implement iter(self).\n",
      " |  \n",
      " |  __le__(self, value, /)\n",
      " |      Return self<=value.\n",
      " |  \n",
      " |  __len__(self, /)\n",
      " |      Return len(self).\n",
      " |  \n",
      " |  __lt__(self, value, /)\n",
      " |      Return self<value.\n",
      " |  \n",
      " |  __mul__(self, value, /)\n",
      " |      Return self*value.\n",
      " |  \n",
      " |  __ne__(self, value, /)\n",
      " |      Return self!=value.\n",
      " |  \n",
      " |  __repr__(self, /)\n",
      " |      Return repr(self).\n",
      " |  \n",
      " |  __rmul__(self, value, /)\n",
      " |      Return value*self.\n",
      " |  \n",
      " |  count(self, value, /)\n",
      " |      Return number of occurrences of value.\n",
      " |  \n",
      " |  index(self, value, start=0, stop=9223372036854775807, /)\n",
      " |      Return first index of value.\n",
      " |      \n",
      " |      Raises ValueError if the value is not present.\n",
      " |  \n",
      " |  ----------------------------------------------------------------------\n",
      " |  Class methods defined here:\n",
      " |  \n",
      " |  __class_getitem__(...) from builtins.type\n",
      " |      See PEP 585\n",
      " |  \n",
      " |  ----------------------------------------------------------------------\n",
      " |  Static methods defined here:\n",
      " |  \n",
      " |  __new__(*args, **kwargs) from builtins.type\n",
      " |      Create and return a new object.  See help(type) for accurate signature.\n",
      "\n"
     ]
    }
   ],
   "source": [
    "help(tuple)"
   ]
  },
  {
   "cell_type": "code",
   "execution_count": 10,
   "id": "9548bf56",
   "metadata": {},
   "outputs": [],
   "source": [
    "l=\"abcdefghijk\""
   ]
  },
  {
   "cell_type": "code",
   "execution_count": 11,
   "id": "3c24e5aa",
   "metadata": {},
   "outputs": [],
   "source": [
    "mid=len(l)//2"
   ]
  },
  {
   "cell_type": "code",
   "execution_count": 16,
   "id": "8501778d",
   "metadata": {},
   "outputs": [
    {
     "data": {
      "text/plain": [
       "'e'"
      ]
     },
     "execution_count": 16,
     "metadata": {},
     "output_type": "execute_result"
    }
   ],
   "source": [
    "l[mid]"
   ]
  },
  {
   "cell_type": "code",
   "execution_count": 12,
   "id": "b37e443d",
   "metadata": {},
   "outputs": [
    {
     "name": "stdout",
     "output_type": "stream",
     "text": [
      "efg\n"
     ]
    }
   ],
   "source": [
    "a=l[mid-1:mid+2]\n",
    "print(a)"
   ]
  },
  {
   "cell_type": "code",
   "execution_count": 27,
   "id": "b8b5e6f6",
   "metadata": {},
   "outputs": [],
   "source": [
    "l1=\"purven\"\n",
    "l2=\"zam\""
   ]
  },
  {
   "cell_type": "code",
   "execution_count": 28,
   "id": "b467f2b7",
   "metadata": {},
   "outputs": [],
   "source": [
    "mid=len(l)/2"
   ]
  },
  {
   "cell_type": "code",
   "execution_count": 29,
   "id": "c6df05c1",
   "metadata": {},
   "outputs": [
    {
     "data": {
      "text/plain": [
       "3.0"
      ]
     },
     "execution_count": 29,
     "metadata": {},
     "output_type": "execute_result"
    }
   ],
   "source": [
    "mid"
   ]
  },
  {
   "cell_type": "code",
   "execution_count": 30,
   "id": "b65b2be4",
   "metadata": {},
   "outputs": [
    {
     "ename": "TypeError",
     "evalue": "slice indices must be integers or None or have an __index__ method",
     "output_type": "error",
     "traceback": [
      "\u001b[1;31m---------------------------------------------------------------------------\u001b[0m",
      "\u001b[1;31mTypeError\u001b[0m                                 Traceback (most recent call last)",
      "Cell \u001b[1;32mIn[30], line 1\u001b[0m\n\u001b[1;32m----> 1\u001b[0m x\u001b[38;5;241m=\u001b[39ml1[:mid:]\n",
      "\u001b[1;31mTypeError\u001b[0m: slice indices must be integers or None or have an __index__ method"
     ]
    }
   ],
   "source": [
    "x=l1[:mid:]"
   ]
  },
  {
   "cell_type": "code",
   "execution_count": 32,
   "id": "1ca9ea80",
   "metadata": {},
   "outputs": [
    {
     "name": "stdout",
     "output_type": "stream",
     "text": [
      "Original Strings are Ault Kelly\n",
      "2\n",
      "Au\n",
      "AuKelly\n",
      "After appending new string in middle: AuKellylt\n"
     ]
    }
   ],
   "source": [
    "def append_middle(s1, s2):\n",
    "    print(\"Original Strings are\", s1, s2)\n",
    "\n",
    "    # middle index number of s1\n",
    "    mi = int(len(s1) / 2)\n",
    "    print(mi)\n",
    "\n",
    "    # get character from 0 to the middle index number from s1\n",
    "    x = s1[:mi:]\n",
    "    print(x)\n",
    "    # concatenate s2 to it\n",
    "    x = x + s2\n",
    "    print(x)\n",
    "    # append remaining character from s1\n",
    "    x = x + s1[mi:]\n",
    "    print(\"After appending new string in middle:\", x)\n",
    "\n",
    "append_middle(\"Ault\", \"Kelly\")"
   ]
  },
  {
   "cell_type": "code",
   "execution_count": 33,
   "id": "de4f47e5",
   "metadata": {},
   "outputs": [],
   "source": [
    "l1=\"purevn\"\n",
    "l2=\"zam\""
   ]
  },
  {
   "cell_type": "code",
   "execution_count": 41,
   "id": "4f420325",
   "metadata": {},
   "outputs": [
    {
     "name": "stdout",
     "output_type": "stream",
     "text": [
      "purzamevn\n"
     ]
    }
   ],
   "source": [
    "mid=len(l1)//2\n",
    "a=l1[0:mid]\n",
    "b=l1[mid:len(l1)]\n",
    "# print(a)\n",
    "# print(b)\n",
    "f=a+l2+b\n",
    "print(f)"
   ]
  },
  {
   "cell_type": "code",
   "execution_count": 43,
   "id": "3dc31093",
   "metadata": {},
   "outputs": [
    {
     "data": {
      "text/plain": [
       "3"
      ]
     },
     "execution_count": 43,
     "metadata": {},
     "output_type": "execute_result"
    }
   ],
   "source": [
    "int(6/2)"
   ]
  },
  {
   "cell_type": "code",
   "execution_count": 44,
   "id": "b24b332d",
   "metadata": {},
   "outputs": [
    {
     "data": {
      "text/plain": [
       "3"
      ]
     },
     "execution_count": 44,
     "metadata": {},
     "output_type": "execute_result"
    }
   ],
   "source": [
    "6//2"
   ]
  },
  {
   "cell_type": "code",
   "execution_count": 19,
   "id": "6ccb6c4e",
   "metadata": {},
   "outputs": [],
   "source": [
    "l=\"PURvenZam\"\n",
    "\n",
    "new_str=\"\"\n",
    "for i in l:\n",
    "    if i.islower():\n",
    "        new_str=new_str+i\n",
    "\n",
    "for i in l:\n",
    "    if i.isupper():\n",
    "        new_str=new_str+i\n",
    "\n"
   ]
  },
  {
   "cell_type": "code",
   "execution_count": 20,
   "id": "2f0b0e75",
   "metadata": {},
   "outputs": [
    {
     "data": {
      "text/plain": [
       "'venamPURZ'"
      ]
     },
     "execution_count": 20,
     "metadata": {},
     "output_type": "execute_result"
    }
   ],
   "source": [
    "new_str"
   ]
  },
  {
   "cell_type": "code",
   "execution_count": 61,
   "id": "2a5c6a99",
   "metadata": {},
   "outputs": [
    {
     "name": "stdout",
     "output_type": "stream",
     "text": [
      "no\n"
     ]
    }
   ],
   "source": [
    "#pallindrome\n",
    "\n",
    "# num=int(input(\"enter num: \"))\n",
    "\n",
    "num=1225\n",
    "palin_num=0\n",
    "for i in num:\n",
    "    \n",
    "    \n"
   ]
  },
  {
   "cell_type": "code",
   "execution_count": 69,
   "id": "39be824d",
   "metadata": {},
   "outputs": [
    {
     "ename": "TypeError",
     "evalue": "'str' object cannot be interpreted as an integer",
     "output_type": "error",
     "traceback": [
      "\u001b[1;31m---------------------------------------------------------------------------\u001b[0m",
      "\u001b[1;31mTypeError\u001b[0m                                 Traceback (most recent call last)",
      "Cell \u001b[1;32mIn[69], line 4\u001b[0m\n\u001b[0;32m      2\u001b[0m str1\u001b[38;5;241m=\u001b[39m\u001b[38;5;28mstr\u001b[39m(num)\n\u001b[0;32m      3\u001b[0m rev\u001b[38;5;241m=\u001b[39m\u001b[38;5;241m0\u001b[39m\n\u001b[1;32m----> 4\u001b[0m \u001b[38;5;28;01mfor\u001b[39;00m i \u001b[38;5;129;01min\u001b[39;00m \u001b[38;5;28mrange\u001b[39m(\u001b[38;5;241m0\u001b[39m,l):\n\u001b[0;32m      5\u001b[0m     dig\u001b[38;5;241m=\u001b[39mnum\u001b[38;5;241m%\u001b[39m\u001b[38;5;241m10\u001b[39m\n\u001b[0;32m      6\u001b[0m     rev\u001b[38;5;241m=\u001b[39mrev\u001b[38;5;241m*\u001b[39m\u001b[38;5;241m10\u001b[39m\u001b[38;5;241m+\u001b[39mdig\n",
      "\u001b[1;31mTypeError\u001b[0m: 'str' object cannot be interpreted as an integer"
     ]
    }
   ],
   "source": [
    "num=1221\n",
    "str1=str(num)\n",
    "rev=0\n",
    "for i in range(0,l):\n",
    "    dig=num%10\n",
    "    rev=rev*10+dig\n",
    "    num=num//10\n",
    "print()\n",
    "    "
   ]
  },
  {
   "cell_type": "code",
   "execution_count": 68,
   "id": "dde9d618",
   "metadata": {},
   "outputs": [
    {
     "ename": "NameError",
     "evalue": "name 'n' is not defined",
     "output_type": "error",
     "traceback": [
      "\u001b[1;31m---------------------------------------------------------------------------\u001b[0m",
      "\u001b[1;31mNameError\u001b[0m                                 Traceback (most recent call last)",
      "Cell \u001b[1;32mIn[68], line 1\u001b[0m\n\u001b[1;32m----> 1\u001b[0m n\n",
      "\u001b[1;31mNameError\u001b[0m: name 'n' is not defined"
     ]
    }
   ],
   "source": [
    "n"
   ]
  },
  {
   "cell_type": "code",
   "execution_count": 76,
   "id": "2e3efaca",
   "metadata": {},
   "outputs": [
    {
     "name": "stdout",
     "output_type": "stream",
     "text": [
      "3221\n"
     ]
    }
   ],
   "source": [
    "num=1223\n",
    "\n",
    "rev=0\n",
    "\n",
    "while(num>0):\n",
    "    dig=num%10\n",
    "    rev=rev*10+dig\n",
    "    num=num//10\n",
    "print(rev)\n",
    "\n"
   ]
  },
  {
   "cell_type": "code",
   "execution_count": 87,
   "id": "fffb6a09",
   "metadata": {},
   "outputs": [
    {
     "name": "stdout",
     "output_type": "stream",
     "text": [
      "153\n"
     ]
    }
   ],
   "source": [
    "num=str(153)\n",
    "length=len(num)\n",
    "num=int(num)\n",
    "arm_num=0\n",
    "\n",
    "while(num>0):\n",
    "    \n",
    "    dig=num%10\n",
    "    arm_num=dig**length+arm_num\n",
    "    num=num//10\n",
    "    \n",
    "print(arm_num)"
   ]
  },
  {
   "cell_type": "code",
   "execution_count": null,
   "id": "c6a662c2",
   "metadata": {},
   "outputs": [],
   "source": []
  },
  {
   "cell_type": "code",
   "execution_count": 88,
   "id": "a060e2a0",
   "metadata": {},
   "outputs": [],
   "source": [
    "class demo_typo1:\n",
    "    # by default python adds a empty constructor to this class\n",
    "    # def __init__(self):\n",
    "    #    pass\n",
    "    \n",
    "    def _init_(self):  # wrong syntax\n",
    "        print(\"Right constructor\")"
   ]
  },
  {
   "cell_type": "code",
   "execution_count": 89,
   "id": "8c535a1c",
   "metadata": {},
   "outputs": [],
   "source": [
    "d1=demo_typo1()"
   ]
  },
  {
   "cell_type": "code",
   "execution_count": 90,
   "id": "e2b86a3f",
   "metadata": {},
   "outputs": [
    {
     "data": {
      "text/plain": [
       "<__main__.demo_typo1 at 0x1a101209790>"
      ]
     },
     "execution_count": 90,
     "metadata": {},
     "output_type": "execute_result"
    }
   ],
   "source": [
    "d1"
   ]
  },
  {
   "cell_type": "code",
   "execution_count": 5,
   "id": "cb170a37",
   "metadata": {},
   "outputs": [],
   "source": [
    "a=\"hello world\"\n",
    "s=sorted(a)"
   ]
  },
  {
   "cell_type": "code",
   "execution_count": 6,
   "id": "3caf420b",
   "metadata": {},
   "outputs": [
    {
     "data": {
      "text/plain": [
       "[' ', 'd', 'e', 'h', 'l', 'l', 'l', 'o', 'o', 'r', 'w']"
      ]
     },
     "execution_count": 6,
     "metadata": {},
     "output_type": "execute_result"
    }
   ],
   "source": [
    "s"
   ]
  },
  {
   "cell_type": "code",
   "execution_count": 7,
   "id": "0ba9c2ba",
   "metadata": {},
   "outputs": [
    {
     "data": {
      "text/plain": [
       "' dehllloorw'"
      ]
     },
     "execution_count": 7,
     "metadata": {},
     "output_type": "execute_result"
    }
   ],
   "source": [
    "''.join(s)"
   ]
  },
  {
   "cell_type": "code",
   "execution_count": null,
   "id": "ce91c09c",
   "metadata": {},
   "outputs": [],
   "source": []
  }
 ],
 "metadata": {
  "kernelspec": {
   "display_name": "Python 3 (ipykernel)",
   "language": "python",
   "name": "python3"
  },
  "language_info": {
   "codemirror_mode": {
    "name": "ipython",
    "version": 3
   },
   "file_extension": ".py",
   "mimetype": "text/x-python",
   "name": "python",
   "nbconvert_exporter": "python",
   "pygments_lexer": "ipython3",
   "version": "3.11.4"
  }
 },
 "nbformat": 4,
 "nbformat_minor": 5
}
