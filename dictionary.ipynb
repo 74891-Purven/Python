{
 "cells": [
  {
   "cell_type": "code",
   "execution_count": 1,
   "id": "2ed8d2f3",
   "metadata": {},
   "outputs": [],
   "source": [
    "d={\"name\":\"purven\",\"college\":\"jspm\",\"sem\":5,\"sub\":{\"dsa\":50,\"maths\":50}}"
   ]
  },
  {
   "cell_type": "code",
   "execution_count": 2,
   "id": "12095037",
   "metadata": {},
   "outputs": [
    {
     "data": {
      "text/plain": [
       "{'name': 'purven',\n",
       " 'college': 'jspm',\n",
       " 'sem': 5,\n",
       " 'sub': {'dsa': 50, 'maths': 50}}"
      ]
     },
     "execution_count": 2,
     "metadata": {},
     "output_type": "execute_result"
    }
   ],
   "source": [
    "d"
   ]
  },
  {
   "cell_type": "code",
   "execution_count": 3,
   "id": "be156988",
   "metadata": {},
   "outputs": [
    {
     "data": {
      "text/plain": [
       "'purven'"
      ]
     },
     "execution_count": 3,
     "metadata": {},
     "output_type": "execute_result"
    }
   ],
   "source": [
    "d[\"name\"]"
   ]
  },
  {
   "cell_type": "code",
   "execution_count": 4,
   "id": "5a5fc042",
   "metadata": {},
   "outputs": [],
   "source": [
    "d[\"name\"]=\"ajjay\""
   ]
  },
  {
   "cell_type": "code",
   "execution_count": 5,
   "id": "c202baf8",
   "metadata": {},
   "outputs": [
    {
     "data": {
      "text/plain": [
       "{'name': 'ajjay', 'college': 'jspm', 'sem': 5, 'sub': {'dsa': 50, 'maths': 50}}"
      ]
     },
     "execution_count": 5,
     "metadata": {},
     "output_type": "execute_result"
    }
   ],
   "source": [
    "d"
   ]
  },
  {
   "cell_type": "code",
   "execution_count": 6,
   "id": "422a27e2",
   "metadata": {},
   "outputs": [
    {
     "data": {
      "text/plain": [
       "50"
      ]
     },
     "execution_count": 6,
     "metadata": {},
     "output_type": "execute_result"
    }
   ],
   "source": [
    "d[\"sub\"][\"dsa\"]"
   ]
  },
  {
   "cell_type": "code",
   "execution_count": 9,
   "id": "659ab0c1",
   "metadata": {},
   "outputs": [],
   "source": [
    "d[\"sub\"][\"dsa\"]=404"
   ]
  },
  {
   "cell_type": "code",
   "execution_count": 10,
   "id": "d4be9285",
   "metadata": {},
   "outputs": [
    {
     "data": {
      "text/plain": [
       "{'name': 'ajjay',\n",
       " 'college': 'jspm',\n",
       " 'sem': 5,\n",
       " 'sub': {'dsa': 404, 'maths': 50}}"
      ]
     },
     "execution_count": 10,
     "metadata": {},
     "output_type": "execute_result"
    }
   ],
   "source": [
    "d"
   ]
  },
  {
   "cell_type": "code",
   "execution_count": 14,
   "id": "e862c48a",
   "metadata": {},
   "outputs": [],
   "source": [
    "d.clear()"
   ]
  },
  {
   "cell_type": "code",
   "execution_count": 15,
   "id": "56931cf5",
   "metadata": {},
   "outputs": [
    {
     "data": {
      "text/plain": [
       "{}"
      ]
     },
     "execution_count": 15,
     "metadata": {},
     "output_type": "execute_result"
    }
   ],
   "source": [
    "d"
   ]
  },
  {
   "cell_type": "code",
   "execution_count": 16,
   "id": "78a1398a",
   "metadata": {},
   "outputs": [
    {
     "data": {
      "text/plain": [
       "{}"
      ]
     },
     "execution_count": 16,
     "metadata": {},
     "output_type": "execute_result"
    }
   ],
   "source": [
    "d"
   ]
  },
  {
   "cell_type": "code",
   "execution_count": 17,
   "id": "441afc63",
   "metadata": {},
   "outputs": [],
   "source": [
    "d={\"name\":\"purven\",\"college\":\"jspm\",\"sem\":5,\"sub\":{\"dsa\":50,\"maths\":50}}"
   ]
  },
  {
   "cell_type": "code",
   "execution_count": 18,
   "id": "19c57980",
   "metadata": {},
   "outputs": [
    {
     "data": {
      "text/plain": [
       "True"
      ]
     },
     "execution_count": 18,
     "metadata": {},
     "output_type": "execute_result"
    }
   ],
   "source": [
    "\"name\" in d"
   ]
  },
  {
   "cell_type": "code",
   "execution_count": 19,
   "id": "05e8dcd9",
   "metadata": {},
   "outputs": [
    {
     "data": {
      "text/plain": [
       "False"
      ]
     },
     "execution_count": 19,
     "metadata": {},
     "output_type": "execute_result"
    }
   ],
   "source": [
    "\"purven\" in d"
   ]
  },
  {
   "cell_type": "code",
   "execution_count": 20,
   "id": "74f852b3",
   "metadata": {},
   "outputs": [
    {
     "data": {
      "text/plain": [
       "True"
      ]
     },
     "execution_count": 20,
     "metadata": {},
     "output_type": "execute_result"
    }
   ],
   "source": [
    "\"sub\" in d"
   ]
  },
  {
   "cell_type": "code",
   "execution_count": 21,
   "id": "78668723",
   "metadata": {},
   "outputs": [
    {
     "data": {
      "text/plain": [
       "False"
      ]
     },
     "execution_count": 21,
     "metadata": {},
     "output_type": "execute_result"
    }
   ],
   "source": [
    "\"dsa\" in d"
   ]
  },
  {
   "cell_type": "code",
   "execution_count": 24,
   "id": "871845ce",
   "metadata": {},
   "outputs": [
    {
     "ename": "KeyError",
     "evalue": "'maths'",
     "output_type": "error",
     "traceback": [
      "\u001b[1;31m---------------------------------------------------------------------------\u001b[0m",
      "\u001b[1;31mKeyError\u001b[0m                                  Traceback (most recent call last)",
      "Cell \u001b[1;32mIn[24], line 1\u001b[0m\n\u001b[1;32m----> 1\u001b[0m d[\u001b[38;5;124m\"\u001b[39m\u001b[38;5;124mmaths\u001b[39m\u001b[38;5;124m\"\u001b[39m] \u001b[38;5;129;01min\u001b[39;00m d\n",
      "\u001b[1;31mKeyError\u001b[0m: 'maths'"
     ]
    }
   ],
   "source": [
    "d[\"maths\"] in d"
   ]
  },
  {
   "cell_type": "code",
   "execution_count": 26,
   "id": "af834419",
   "metadata": {},
   "outputs": [
    {
     "name": "stdout",
     "output_type": "stream",
     "text": [
      "name purven\n",
      "college jspm\n",
      "sem 5\n",
      "sub {'dsa': 50, 'maths': 50}\n"
     ]
    }
   ],
   "source": [
    "for i in d:\n",
    "    print(i,d[i])"
   ]
  },
  {
   "cell_type": "code",
   "execution_count": 27,
   "id": "38a879a8",
   "metadata": {},
   "outputs": [],
   "source": [
    "d1={1:2,3:4,5:89}\n",
    "d2={5:21,69:96}"
   ]
  },
  {
   "cell_type": "code",
   "execution_count": 34,
   "id": "7a2e650a",
   "metadata": {},
   "outputs": [],
   "source": [
    "d1.update(d2)"
   ]
  },
  {
   "cell_type": "code",
   "execution_count": 35,
   "id": "fd89d7dd",
   "metadata": {},
   "outputs": [
    {
     "data": {
      "text/plain": [
       "{1: 2, 3: 4, 5: 21, 69: 96}"
      ]
     },
     "execution_count": 35,
     "metadata": {},
     "output_type": "execute_result"
    }
   ],
   "source": [
    "d1"
   ]
  },
  {
   "cell_type": "code",
   "execution_count": 36,
   "id": "88d6fd11",
   "metadata": {},
   "outputs": [
    {
     "ename": "SyntaxError",
     "evalue": "invalid syntax (1819485563.py, line 1)",
     "output_type": "error",
     "traceback": [
      "\u001b[1;36m  Cell \u001b[1;32mIn[36], line 1\u001b[1;36m\u001b[0m\n\u001b[1;33m    d2=\u001b[0m\n\u001b[1;37m       ^\u001b[0m\n\u001b[1;31mSyntaxError\u001b[0m\u001b[1;31m:\u001b[0m invalid syntax\n"
     ]
    }
   ],
   "source": [
    "d2="
   ]
  },
  {
   "cell_type": "code",
   "execution_count": 37,
   "id": "96450c58",
   "metadata": {},
   "outputs": [
    {
     "data": {
      "text/plain": [
       "{1: 1, 2: 4, 3: 9, 4: 16, 5: 25, 6: 36, 7: 49, 8: 64, 9: 81, 10: 100}"
      ]
     },
     "execution_count": 37,
     "metadata": {},
     "output_type": "execute_result"
    }
   ],
   "source": [
    "{i:i**2 for i in range(1,11)}"
   ]
  },
  {
   "cell_type": "code",
   "execution_count": 38,
   "id": "2fee6a42",
   "metadata": {},
   "outputs": [],
   "source": [
    "d={\"name\":\"purven\",\"college\":\"jspm\",\"sem\":5,\"sub\":{\"dsa\":50,\"maths\":50}}"
   ]
  },
  {
   "cell_type": "code",
   "execution_count": 39,
   "id": "b68b5713",
   "metadata": {},
   "outputs": [
    {
     "name": "stdout",
     "output_type": "stream",
     "text": [
      "dict_items([('name', 'purven'), ('college', 'jspm'), ('sem', 5), ('sub', {'dsa': 50, 'maths': 50})])\n"
     ]
    }
   ],
   "source": [
    "print(d.items())"
   ]
  },
  {
   "cell_type": "code",
   "execution_count": 33,
   "id": "9c77a848",
   "metadata": {},
   "outputs": [],
   "source": [
    "l=(d.keys())"
   ]
  },
  {
   "cell_type": "code",
   "execution_count": 34,
   "id": "6b8f10bb",
   "metadata": {},
   "outputs": [
    {
     "name": "stdout",
     "output_type": "stream",
     "text": [
      "name\n",
      "college\n",
      "sem\n",
      "sub\n"
     ]
    }
   ],
   "source": [
    "for i in l:\n",
    "    print(i)"
   ]
  },
  {
   "cell_type": "code",
   "execution_count": null,
   "id": "441a3e87",
   "metadata": {},
   "outputs": [],
   "source": []
  },
  {
   "cell_type": "code",
   "execution_count": 43,
   "id": "66929b66",
   "metadata": {},
   "outputs": [
    {
     "name": "stdout",
     "output_type": "stream",
     "text": [
      "dict_values(['purven', 'jspm', 5, {'dsa': 50, 'maths': 50}])\n"
     ]
    }
   ],
   "source": [
    "print(d.values())"
   ]
  },
  {
   "cell_type": "code",
   "execution_count": 46,
   "id": "3671ade1",
   "metadata": {},
   "outputs": [
    {
     "name": "stdout",
     "output_type": "stream",
     "text": [
      "mumbai 5000\n",
      "banglore 1000\n",
      "chennai 45000\n"
     ]
    }
   ],
   "source": [
    "d={\"mumbai\":5000,\"banglore\":1000,\"chennai\":45000}\n",
    "for (key,value) in d.items():#d.items\n",
    "    print(key,value)"
   ]
  },
  {
   "cell_type": "code",
   "execution_count": 50,
   "id": "26c1143a",
   "metadata": {},
   "outputs": [
    {
     "data": {
      "text/plain": [
       "{'mumbai': 3100.0, 'banglore': 620.0, 'chennai': 27900.0}"
      ]
     },
     "execution_count": 50,
     "metadata": {},
     "output_type": "execute_result"
    }
   ],
   "source": [
    "{i:j*0.62 for i,j in d.items()}"
   ]
  },
  {
   "cell_type": "code",
   "execution_count": null,
   "id": "02cb599c",
   "metadata": {},
   "outputs": [],
   "source": []
  },
  {
   "cell_type": "code",
   "execution_count": 54,
   "id": "eb532156",
   "metadata": {},
   "outputs": [
    {
     "data": {
      "text/plain": [
       "{('banglore', 1000), ('chennai', 45000), ('mumbai', 5000)}"
      ]
     },
     "execution_count": 54,
     "metadata": {},
     "output_type": "execute_result"
    }
   ],
   "source": [
    "{(key,value) for key,value in d.items()}"
   ]
  },
  {
   "cell_type": "code",
   "execution_count": 9,
   "id": "892ff3cc",
   "metadata": {},
   "outputs": [],
   "source": [
    "d1=[\"mon\",\"tue\",\"wed\",\"thurs\",\"friday\"]\n",
    "d2=[1,2,3,4,5]"
   ]
  },
  {
   "cell_type": "code",
   "execution_count": 10,
   "id": "6dfb8640",
   "metadata": {},
   "outputs": [
    {
     "data": {
      "text/plain": [
       "{'mon': 1, 'tue': 2, 'wed': 3, 'thurs': 4, 'friday': 5}"
      ]
     },
     "execution_count": 10,
     "metadata": {},
     "output_type": "execute_result"
    }
   ],
   "source": [
    "{key:value for key,value in zip(d1,d2)}"
   ]
  },
  {
   "cell_type": "code",
   "execution_count": null,
   "id": "0ac9354e",
   "metadata": {},
   "outputs": [],
   "source": []
  },
  {
   "cell_type": "code",
   "execution_count": 16,
   "id": "1c373d84",
   "metadata": {},
   "outputs": [
    {
     "ename": "ValueError",
     "evalue": "dictionary update sequence element #0 has length 1; 2 is required",
     "output_type": "error",
     "traceback": [
      "\u001b[1;31m---------------------------------------------------------------------------\u001b[0m",
      "\u001b[1;31mValueError\u001b[0m                                Traceback (most recent call last)",
      "Cell \u001b[1;32mIn[16], line 3\u001b[0m\n\u001b[0;32m      1\u001b[0m l\u001b[38;5;241m=\u001b[39m[]\n\u001b[0;32m      2\u001b[0m \u001b[38;5;28;01mfor\u001b[39;00m i,j \u001b[38;5;129;01min\u001b[39;00m \u001b[38;5;28mzip\u001b[39m(d1,d2):\n\u001b[1;32m----> 3\u001b[0m     \u001b[38;5;28mprint\u001b[39m(\u001b[38;5;28mdict\u001b[39m(i))\n",
      "\u001b[1;31mValueError\u001b[0m: dictionary update sequence element #0 has length 1; 2 is required"
     ]
    }
   ],
   "source": []
  },
  {
   "cell_type": "code",
   "execution_count": 20,
   "id": "affa1247",
   "metadata": {},
   "outputs": [
    {
     "data": {
      "text/plain": [
       "{'phone': 10, 'laptop': 20, 'tab': 30}"
      ]
     },
     "execution_count": 20,
     "metadata": {},
     "output_type": "execute_result"
    }
   ],
   "source": [
    "d={\"phone\":10,\"laptop\":20,\"tab\":30,\"charger\":0,23:0}\n",
    "\n",
    "{key:value for key,value in d.items() if value>0}"
   ]
  },
  {
   "cell_type": "code",
   "execution_count": 22,
   "id": "68c7e685",
   "metadata": {},
   "outputs": [
    {
     "data": {
      "text/plain": [
       "{(3, 30), (4, 0), (23, 0)}"
      ]
     },
     "execution_count": 22,
     "metadata": {},
     "output_type": "execute_result"
    }
   ],
   "source": [
    "d={1:10,2:20,3:30,4:0,23:0}\n",
    "{(key,value) for key,value in d.items() if key>2}"
   ]
  },
  {
   "cell_type": "code",
   "execution_count": 24,
   "id": "b7952833",
   "metadata": {},
   "outputs": [
    {
     "data": {
      "text/plain": [
       "'\\n{\\n2:{1:2,2:4,3:6,4:8.....,10:20}\\n3:{1:3,2:6,3:9,4:16}\\n\\n}\\n'"
      ]
     },
     "execution_count": 24,
     "metadata": {},
     "output_type": "execute_result"
    }
   ],
   "source": [
    "#to print the squares \n",
    "\"\"\"\n",
    "{\n",
    "2:{1:2,2:4,3:6,4:8.....,10:20}\n",
    "3:{1:3,2:6,3:9,4:16}\n",
    "\n",
    "}\n",
    "\"\"\""
   ]
  },
  {
   "cell_type": "code",
   "execution_count": 25,
   "id": "6c2a8d1c",
   "metadata": {},
   "outputs": [
    {
     "data": {
      "text/plain": [
       "{2: {1: 2, 2: 4, 3: 6, 4: 8, 5: 10, 6: 12, 7: 14, 8: 16, 9: 18, 10: 20},\n",
       " 3: {1: 3, 2: 6, 3: 9, 4: 12, 5: 15, 6: 18, 7: 21, 8: 24, 9: 27, 10: 30},\n",
       " 4: {1: 4, 2: 8, 3: 12, 4: 16, 5: 20, 6: 24, 7: 28, 8: 32, 9: 36, 10: 40}}"
      ]
     },
     "execution_count": 25,
     "metadata": {},
     "output_type": "execute_result"
    }
   ],
   "source": [
    "{i:{j:j*i for j in range(1,11)}for i in range(2,5)}"
   ]
  },
  {
   "cell_type": "code",
   "execution_count": 27,
   "id": "3c4d2119",
   "metadata": {},
   "outputs": [
    {
     "data": {
      "text/plain": [
       "{2: {1: 1, 2: 4, 3: 9, 4: 16, 5: 25, 6: 36, 7: 49, 8: 64, 9: 81, 10: 100},\n",
       " 3: {1: 1, 2: 4, 3: 9, 4: 16, 5: 25, 6: 36, 7: 49, 8: 64, 9: 81, 10: 100},\n",
       " 4: {1: 1, 2: 4, 3: 9, 4: 16, 5: 25, 6: 36, 7: 49, 8: 64, 9: 81, 10: 100}}"
      ]
     },
     "execution_count": 27,
     "metadata": {},
     "output_type": "execute_result"
    }
   ],
   "source": [
    "{i:{j:j*j for j in range(1,11)}for i in range(2,5)}"
   ]
  },
  {
   "cell_type": "code",
   "execution_count": 30,
   "id": "fc7de5f6",
   "metadata": {},
   "outputs": [
    {
     "data": {
      "text/plain": [
       "tuple"
      ]
     },
     "execution_count": 30,
     "metadata": {},
     "output_type": "execute_result"
    }
   ],
   "source": [
    "t=(\"purven\",)\n",
    "type(t)"
   ]
  },
  {
   "cell_type": "code",
   "execution_count": 32,
   "id": "a24c2b23",
   "metadata": {},
   "outputs": [
    {
     "data": {
      "text/plain": [
       "{101: 99, 102: 98, 103: 97, 4: 4, 5: 55, 1: 10, 2: 200, 3: 3000}"
      ]
     },
     "execution_count": 32,
     "metadata": {},
     "output_type": "execute_result"
    }
   ],
   "source": [
    "d1={1:10,2:200,3:3000,4:4,5:55}\n",
    "d2={101:99,102:98,103:97,4:55,5:59}\n",
    "d2 | d1"
   ]
  },
  {
   "cell_type": "code",
   "execution_count": 33,
   "id": "9d8dec81",
   "metadata": {},
   "outputs": [],
   "source": [
    "trans = {'a':'n', 'b':'o', 'c':'p', 'd':'q', 'e':'r', 'f':'s', 'g':'t', \n",
    "         'h':'u', 'i':'v', 'j':'w', 'k':'x', 'l':'y', 'm':'z', 'n':'a', \n",
    "         'o':'b', 'p':'c', 'q':'d', 'r':'e', 's':'f', 't':'g', 'u':'h', \n",
    "         'v':'i', 'w':'j', 'x':'k', 'y':'l', 'z':'m', \n",
    "         'A':'N', 'B':'O', 'C':'P', 'D':'Q', 'E':'R', 'F':'S', 'G':'T', \n",
    "         'H':'U', 'I':'V', 'J':'W', 'K':'X', 'L':'Y', 'M':'Z', 'N':'A', \n",
    "         'O':'B', 'P':'C', 'Q':'D', 'R':'E', 'S':'F', 'T':'G', 'U':'H', \n",
    "         'V':'I', 'W':'J', 'X':'K', 'Y':'L', 'Z':'M'}"
   ]
  },
  {
   "cell_type": "code",
   "execution_count": 43,
   "id": "1e0f4f6c",
   "metadata": {},
   "outputs": [
    {
     "ename": "NameError",
     "evalue": "name 'trans' is not defined",
     "output_type": "error",
     "traceback": [
      "\u001b[1;31m---------------------------------------------------------------------------\u001b[0m",
      "\u001b[1;31mNameError\u001b[0m                                 Traceback (most recent call last)",
      "Cell \u001b[1;32mIn[43], line 7\u001b[0m\n\u001b[0;32m      3\u001b[0m \u001b[38;5;28;01mfor\u001b[39;00m char \u001b[38;5;129;01min\u001b[39;00m input_str:\n\u001b[0;32m      4\u001b[0m \u001b[38;5;66;03m#     if char in trans:\u001b[39;00m\n\u001b[0;32m      5\u001b[0m \u001b[38;5;66;03m#     if trans.get(char) != None:\u001b[39;00m\n\u001b[0;32m      6\u001b[0m     \u001b[38;5;28;01mif\u001b[39;00m char\u001b[38;5;241m.\u001b[39misalpha() \u001b[38;5;241m==\u001b[39m \u001b[38;5;28;01mTrue\u001b[39;00m:\n\u001b[1;32m----> 7\u001b[0m         new_char \u001b[38;5;241m=\u001b[39m trans[char]\n\u001b[0;32m      8\u001b[0m     \u001b[38;5;28;01melse\u001b[39;00m:\n\u001b[0;32m      9\u001b[0m         new_char \u001b[38;5;241m=\u001b[39m char\n",
      "\u001b[1;31mNameError\u001b[0m: name 'trans' is not defined"
     ]
    }
   ],
   "source": [
    "input_str=\"abc bnm hjk ! @ # hjh & % ^\"\n",
    "translated_str = \"\"\n",
    "for char in input_str:\n",
    "#     if char in trans:\n",
    "#     if trans.get(char) != None:\n",
    "    if char.isalpha() == True:\n",
    "        new_char = trans[char]\n",
    "    else:\n",
    "        new_char = char\n",
    "  \n",
    "    translated_str = translated_str + new_char\n",
    "print(new_char)    \n",
    "translated_str"
   ]
  },
  {
   "cell_type": "code",
   "execution_count": 36,
   "id": "da37d2fe",
   "metadata": {},
   "outputs": [
    {
     "data": {
      "text/plain": [
       "False"
      ]
     },
     "execution_count": 36,
     "metadata": {},
     "output_type": "execute_result"
    }
   ],
   "source": [
    "st=\"purven1\"\n",
    "st.isalpha()"
   ]
  },
  {
   "cell_type": "markdown",
   "id": "11b0ec3b",
   "metadata": {},
   "source": [
    "2. Given a dictionary of students and their favourite colours:\n",
    "people={'Arham':'Blue','Lisa':'Yellow',''Vinod:'Purple','Jenny':'Pink'}\n",
    "a. Find out how many students are in the list\n",
    "b. Change Lisa’s favourite colour\n",
    "c. Remove 'Jenny' and her favourite colour"
   ]
  },
  {
   "cell_type": "code",
   "execution_count": 38,
   "id": "d30cbe4b",
   "metadata": {},
   "outputs": [
    {
     "name": "stdout",
     "output_type": "stream",
     "text": [
      "dict_keys(['Arham', 'Lisa', 'Vinod', 'Jenny'])\n"
     ]
    }
   ],
   "source": [
    "d={'Arham':'Blue','Lisa':'Yellow','Vinod':'Purple','Jenny':'Pink'}\n",
    "print(d.keys())"
   ]
  },
  {
   "cell_type": "code",
   "execution_count": 39,
   "id": "9d9c5085",
   "metadata": {},
   "outputs": [],
   "source": [
    "d[\"lisa\"]=\"peela\""
   ]
  },
  {
   "cell_type": "code",
   "execution_count": 40,
   "id": "8ceffa86",
   "metadata": {},
   "outputs": [
    {
     "data": {
      "text/plain": [
       "{'Arham': 'Blue',\n",
       " 'Lisa': 'Yellow',\n",
       " 'Vinod': 'Purple',\n",
       " 'Jenny': 'Pink',\n",
       " 'lisa': 'peela'}"
      ]
     },
     "execution_count": 40,
     "metadata": {},
     "output_type": "execute_result"
    }
   ],
   "source": [
    "d"
   ]
  },
  {
   "cell_type": "code",
   "execution_count": 42,
   "id": "b557e77c",
   "metadata": {},
   "outputs": [
    {
     "data": {
      "text/plain": [
       "'Pink'"
      ]
     },
     "execution_count": 42,
     "metadata": {},
     "output_type": "execute_result"
    }
   ],
   "source": [
    "d.pop(\"Jenny\")"
   ]
  },
  {
   "cell_type": "code",
   "execution_count": 43,
   "id": "6d83ce9d",
   "metadata": {},
   "outputs": [
    {
     "data": {
      "text/plain": [
       "{'Arham': 'Blue', 'Lisa': 'Yellow', 'Vinod': 'Purple', 'lisa': 'peela'}"
      ]
     },
     "execution_count": 43,
     "metadata": {},
     "output_type": "execute_result"
    }
   ],
   "source": [
    "d"
   ]
  },
  {
   "cell_type": "code",
   "execution_count": 45,
   "id": "befc8e3b",
   "metadata": {},
   "outputs": [],
   "source": [
    "del d[\"Lisa\"]"
   ]
  },
  {
   "cell_type": "code",
   "execution_count": 46,
   "id": "c8f93724",
   "metadata": {},
   "outputs": [
    {
     "data": {
      "text/plain": [
       "{'Arham': 'Blue', 'Vinod': 'Purple', 'lisa': 'peela'}"
      ]
     },
     "execution_count": 46,
     "metadata": {},
     "output_type": "execute_result"
    }
   ],
   "source": [
    "d"
   ]
  },
  {
   "cell_type": "code",
   "execution_count": null,
   "id": "8dd9ab64",
   "metadata": {},
   "outputs": [],
   "source": []
  },
  {
   "cell_type": "code",
   "execution_count": 1,
   "id": "2f933bc7",
   "metadata": {},
   "outputs": [],
   "source": [
    "d={\"name\":\"purven\",\"college\":\"jspm\",\"sem\":5,\"sub\":{\"dsa\":50,\"maths\":50}}"
   ]
  },
  {
   "cell_type": "code",
   "execution_count": 2,
   "id": "b2764567",
   "metadata": {},
   "outputs": [
    {
     "name": "stdout",
     "output_type": "stream",
     "text": [
      "name purven\n",
      "college jspm\n",
      "sem 5\n",
      "sub {'dsa': 50, 'maths': 50}\n"
     ]
    }
   ],
   "source": [
    "for i in d:\n",
    "    print(i,d[i])"
   ]
  },
  {
   "cell_type": "code",
   "execution_count": 25,
   "id": "c627e6df",
   "metadata": {},
   "outputs": [],
   "source": [
    "dic1={'5':10,'7':20}\n",
    "dic2={'4':30,'9':40}\n",
    "dic3={'-5':50,'-10':60}"
   ]
  },
  {
   "cell_type": "code",
   "execution_count": 28,
   "id": "48166d2c",
   "metadata": {},
   "outputs": [],
   "source": [
    "(dic2.update(dic3))"
   ]
  },
  {
   "cell_type": "code",
   "execution_count": 30,
   "id": "07e4e8a6",
   "metadata": {},
   "outputs": [],
   "source": [
    "dic1.update(dic2)"
   ]
  },
  {
   "cell_type": "code",
   "execution_count": 31,
   "id": "48928895",
   "metadata": {},
   "outputs": [
    {
     "data": {
      "text/plain": [
       "{'5': 10, '7': 20, '4': 30, '9': 40, '-5': 50, '-10': 60}"
      ]
     },
     "execution_count": 31,
     "metadata": {},
     "output_type": "execute_result"
    }
   ],
   "source": [
    "dic1"
   ]
  },
  {
   "cell_type": "code",
   "execution_count": null,
   "id": "b69150ab",
   "metadata": {},
   "outputs": [],
   "source": []
  },
  {
   "cell_type": "code",
   "execution_count": 35,
   "id": "5495753d",
   "metadata": {},
   "outputs": [],
   "source": [
    "d={\"phone\":10,\"laptop\":20,\"tab\":30,\"charger\":0,23:0}\n"
   ]
  },
  {
   "cell_type": "code",
   "execution_count": 37,
   "id": "7b8f1511",
   "metadata": {},
   "outputs": [
    {
     "data": {
      "text/plain": [
       "{'phone': 10, 'laptop': 20, 'tab': 30, 'charger': 0, 23: 0}"
      ]
     },
     "execution_count": 37,
     "metadata": {},
     "output_type": "execute_result"
    }
   ],
   "source": [
    "{i:j for i,j in d.items()}"
   ]
  },
  {
   "cell_type": "code",
   "execution_count": 38,
   "id": "6109fa95",
   "metadata": {},
   "outputs": [],
   "source": [
    "d={\"phone\":10,\"laptop\":20,\"tab\":30,\"charger\":0,23:0}"
   ]
  },
  {
   "cell_type": "code",
   "execution_count": 41,
   "id": "f163ff5a",
   "metadata": {},
   "outputs": [
    {
     "data": {
      "text/plain": [
       "{'phone': 11, 'laptop': 21, 'tab': 31, 'charger': 1, 23: 1}"
      ]
     },
     "execution_count": 41,
     "metadata": {},
     "output_type": "execute_result"
    }
   ],
   "source": [
    "{i:j+1 for i,j in d.items()}"
   ]
  },
  {
   "cell_type": "code",
   "execution_count": null,
   "id": "8b72a290",
   "metadata": {},
   "outputs": [],
   "source": []
  }
 ],
 "metadata": {
  "kernelspec": {
   "display_name": "Python 3 (ipykernel)",
   "language": "python",
   "name": "python3"
  },
  "language_info": {
   "codemirror_mode": {
    "name": "ipython",
    "version": 3
   },
   "file_extension": ".py",
   "mimetype": "text/x-python",
   "name": "python",
   "nbconvert_exporter": "python",
   "pygments_lexer": "ipython3",
   "version": "3.11.4"
  }
 },
 "nbformat": 4,
 "nbformat_minor": 5
}
