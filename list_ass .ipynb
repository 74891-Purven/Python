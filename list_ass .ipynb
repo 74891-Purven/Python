{
 "cells": [
  {
   "cell_type": "code",
   "execution_count": 1,
   "id": "4411d1c0",
   "metadata": {},
   "outputs": [],
   "source": [
    "l1= [100, 200, 300, 400, 500]\n",
    "l1.reverse()"
   ]
  },
  {
   "cell_type": "code",
   "execution_count": 2,
   "id": "8dab4daf",
   "metadata": {},
   "outputs": [
    {
     "data": {
      "text/plain": [
       "[500, 400, 300, 200, 100]"
      ]
     },
     "execution_count": 2,
     "metadata": {},
     "output_type": "execute_result"
    }
   ],
   "source": [
    "l1"
   ]
  },
  {
   "cell_type": "code",
   "execution_count": 11,
   "id": "a8d70ff5",
   "metadata": {},
   "outputs": [
    {
     "name": "stdout",
     "output_type": "stream",
     "text": [
      "51\n"
     ]
    },
    {
     "data": {
      "text/plain": [
       "[152,\n",
       " 156,\n",
       " 160,\n",
       " 164,\n",
       " 168,\n",
       " 172,\n",
       " 176,\n",
       " 180,\n",
       " 184,\n",
       " 188,\n",
       " 192,\n",
       " 196,\n",
       " 200,\n",
       " 204,\n",
       " 208,\n",
       " 212,\n",
       " 216,\n",
       " 220,\n",
       " 224,\n",
       " 228,\n",
       " 232,\n",
       " 236,\n",
       " 240,\n",
       " 244,\n",
       " 248]"
      ]
     },
     "execution_count": 11,
     "metadata": {},
     "output_type": "execute_result"
    }
   ],
   "source": [
    "l1=list(range(150,251,2))\n",
    "print(len(l1))\n",
    "l2=l1.copy()\n",
    "for i in l2:\n",
    "    l2.remove(i)\n",
    "    if i%4==0:\n",
    "        l2.append(i)\n",
    "        \n",
    "l2"
   ]
  },
  {
   "cell_type": "code",
   "execution_count": 15,
   "id": "ee4b84ae",
   "metadata": {},
   "outputs": [
    {
     "data": {
      "text/plain": [
       "[1.0, 2.0, 3.0, 4.0, 5.0, 6.0, 7.0]"
      ]
     },
     "execution_count": 15,
     "metadata": {},
     "output_type": "execute_result"
    }
   ],
   "source": [
    "import math\n",
    "l1 = [1, 4, 9, 16, 25, 36, 49]\n",
    "l2=[]\n",
    "for i in l1:\n",
    "    a=math.sqrt(i)\n",
    "    l2.append(a)\n",
    "    #l2.append(math.sqrt(i))\n",
    "    \n",
    "l2"
   ]
  },
  {
   "cell_type": "code",
   "execution_count": 1,
   "id": "2fb9610c",
   "metadata": {},
   "outputs": [
    {
     "name": "stdout",
     "output_type": "stream",
     "text": [
      "2.0\n"
     ]
    }
   ],
   "source": []
  },
  {
   "cell_type": "code",
   "execution_count": 28,
   "id": "71549c03",
   "metadata": {},
   "outputs": [
    {
     "name": "stdout",
     "output_type": "stream",
     "text": [
      "50,51,60,61,70,71,"
     ]
    }
   ],
   "source": [
    "l1=[5,6,7]\n",
    "l2=[0, 1]\n",
    "\n",
    "# for e1,e2 in zip(l1,l2):\n",
    "#     print(e1,e2)\n",
    "\n",
    "for i in l1:\n",
    "    for j in l2:\n",
    "        print(i,j,end=\",\",sep=\"\")\n",
    "        \n",
    "        \n"
   ]
  },
  {
   "cell_type": "code",
   "execution_count": 23,
   "id": "023f67e3",
   "metadata": {},
   "outputs": [
    {
     "name": "stdout",
     "output_type": "stream",
     "text": [
      "4\n",
      "56\n",
      "75\n",
      "89\n",
      "56\n"
     ]
    }
   ],
   "source": [
    "l1=[4,56,75,89,56]# seperate(sep take every iteration to new line)\n",
    "for i in l1:\n",
    "    print(i,sep=\" \")"
   ]
  },
  {
   "cell_type": "code",
   "execution_count": 24,
   "id": "8b7fa627",
   "metadata": {},
   "outputs": [
    {
     "name": "stdout",
     "output_type": "stream",
     "text": [
      "4 56 75 89 56 "
     ]
    }
   ],
   "source": [
    "l1=[4,56,75,89,56]# end gives spaces after every iteration in single line\n",
    "for i in l1:\n",
    "    print(i,end=\" \")"
   ]
  },
  {
   "cell_type": "markdown",
   "id": "1fb1b9cc",
   "metadata": {},
   "source": [
    "# Q5 "
   ]
  },
  {
   "cell_type": "code",
   "execution_count": 50,
   "id": "c311e07b",
   "metadata": {},
   "outputs": [
    {
     "name": "stdout",
     "output_type": "stream",
     "text": [
      "10 100\n",
      "20 200\n",
      "30 300\n",
      "40 400\n"
     ]
    }
   ],
   "source": [
    "l1 = [10, 20, 30, 40]\n",
    "l2 = [100, 200, 300, 400]\n",
    "\n",
    "# for i in l1:\n",
    "#     print(i,end=\" \")\n",
    "#     for j in l2:\n",
    "#         print(j)\n",
    "#         break\n",
    "\n",
    "for e1,e2 in zip(l1,l2):\n",
    "    print(e1,e2)\n",
    "        \n",
    "        "
   ]
  },
  {
   "cell_type": "markdown",
   "id": "e6aa31e8",
   "metadata": {},
   "source": [
    "# Q6"
   ]
  },
  {
   "cell_type": "code",
   "execution_count": 64,
   "id": "80338c1b",
   "metadata": {},
   "outputs": [
    {
     "name": "stdout",
     "output_type": "stream",
     "text": [
      "['Ashish', 'Atharva', 'Amit', 'Revati']\n"
     ]
    }
   ],
   "source": [
    "l1 = [\"Ashish\", \"\", \"Atharva\", \"Amit\", \"\", \"Revati\"]\n",
    "while(\"\" in l1):\n",
    "    l1.remove(\"\")\n",
    "print(l1)"
   ]
  },
  {
   "cell_type": "code",
   "execution_count": 3,
   "id": "236fddc2",
   "metadata": {},
   "outputs": [
    {
     "name": "stdout",
     "output_type": "stream",
     "text": [
      "['Ashish', 'Atharva', 'Amit', 'Revati']\n"
     ]
    }
   ],
   "source": [
    "for i in range(len(l1)):\n",
    "    if \"\" in l1:\n",
    "        l1.remove(\"\")\n",
    "print(l1)"
   ]
  },
  {
   "cell_type": "code",
   "execution_count": 35,
   "id": "ec386c68",
   "metadata": {},
   "outputs": [
    {
     "data": {
      "text/plain": [
       "[10, 20, [300, 400, [5000, 7000, 6000], 500], 30, 40]"
      ]
     },
     "execution_count": 35,
     "metadata": {},
     "output_type": "execute_result"
    }
   ],
   "source": [
    "l1 = [10, 20, [300, 400, [5000, 6000], 500], 30, 40]\n",
    "temp=6000\n",
    "l1[2][2][1]=7000\n",
    "l1[2][2].append(6000)\n",
    "l1\n",
    "\n"
   ]
  },
  {
   "cell_type": "code",
   "execution_count": null,
   "id": "41e041d8",
   "metadata": {},
   "outputs": [],
   "source": []
  },
  {
   "cell_type": "code",
   "execution_count": 43,
   "id": "0b28e830",
   "metadata": {},
   "outputs": [
    {
     "data": {
      "text/plain": [
       "['a', 'b', ['c', ['d', 'e', ['f', 'g', 'h', 'i', 'j'], 'k'], 'l'], 'm', 'n']"
      ]
     },
     "execution_count": 43,
     "metadata": {},
     "output_type": "execute_result"
    }
   ],
   "source": [
    "l1 = [\"a\", \"b\", [\"c\", [\"d\", \"e\", [\"f\", \"g\"], \"k\"], \"l\"], \"m\", \"n\"]\n",
    "s=[\"h\",\"i\",\"j\"]\n",
    "l1[2][1][2].extend(s)\n",
    "l1"
   ]
  },
  {
   "cell_type": "markdown",
   "id": "bdd23f43",
   "metadata": {},
   "source": [
    "# Q9"
   ]
  },
  {
   "cell_type": "code",
   "execution_count": 24,
   "id": "f7e17bc6",
   "metadata": {},
   "outputs": [
    {
     "data": {
      "text/plain": [
       "[5, 10, 15, 200, 25, 50, 200]"
      ]
     },
     "execution_count": 24,
     "metadata": {},
     "output_type": "execute_result"
    }
   ],
   "source": [
    "l1 = [5, 10, 15, 20, 25, 50, 20]\n",
    "for i,n in enumerate(l1):\n",
    "    if n==20:\n",
    "        l1[i]=200\n",
    "l1\n",
    "   \n",
    "        \n",
    "    \n",
    "      \n",
    "  \n"
   ]
  },
  {
   "cell_type": "code",
   "execution_count": 4,
   "id": "d924d255",
   "metadata": {},
   "outputs": [
    {
     "data": {
      "text/plain": [
       "[5, 10, 15, 200, 25, 50, 20]"
      ]
     },
     "execution_count": 4,
     "metadata": {},
     "output_type": "execute_result"
    }
   ],
   "source": [
    "l1 = [5, 10, 15, 20, 25, 50, 20]\n",
    "index=l1.index(20)\n",
    "for i in range(len(l1)):\n",
    "    if i==index:\n",
    "        l1[i]=200\n",
    "l1"
   ]
  },
  {
   "cell_type": "code",
   "execution_count": 7,
   "id": "78ff528b",
   "metadata": {},
   "outputs": [
    {
     "data": {
      "text/plain": [
       "[5, 10, 15, 200, 25, 50, 200]"
      ]
     },
     "execution_count": 7,
     "metadata": {},
     "output_type": "execute_result"
    }
   ],
   "source": [
    "l1 = [5, 10, 15, 20, 25, 50, 20]\n",
    "for i in range(len(l1)):\n",
    "    if l1[i]==20:\n",
    "        l1[i]=200\n",
    "l1"
   ]
  },
  {
   "cell_type": "code",
   "execution_count": null,
   "id": "d306e83b",
   "metadata": {},
   "outputs": [],
   "source": []
  },
  {
   "cell_type": "markdown",
   "id": "3ce9aaf2",
   "metadata": {},
   "source": [
    "# Q11"
   ]
  },
  {
   "cell_type": "code",
   "execution_count": null,
   "id": "915c423b",
   "metadata": {},
   "outputs": [
    {
     "name": "stdout",
     "output_type": "stream",
     "text": [
      "256\n",
      "256\n"
     ]
    }
   ],
   "source": [
    "num=int(input())\n",
    "l=[]\n",
    "for i in range(num):\n",
    "    l.append(int(input()))\n",
    "l    "
   ]
  },
  {
   "cell_type": "code",
   "execution_count": 5,
   "id": "7470b476",
   "metadata": {},
   "outputs": [
    {
     "name": "stdout",
     "output_type": "stream",
     "text": [
      "enter: 256\n",
      "0\n"
     ]
    }
   ],
   "source": [
    "num=input(\"enter: \").split()\n",
    "for i in range(len(num)):\n",
    "    print(i)"
   ]
  },
  {
   "cell_type": "code",
   "execution_count": 6,
   "id": "a0453a00",
   "metadata": {},
   "outputs": [
    {
     "name": "stdout",
     "output_type": "stream",
     "text": [
      "274\n",
      "['2', '4', '7']\n",
      "min: 247\n",
      "max: 742\n"
     ]
    }
   ],
   "source": [
    "num=input()\n",
    "l=[]\n",
    "for i in num:\n",
    "    l.append(i)\n",
    "l2=sorted(l)\n",
    "print(l2)\n",
    "l2=int(\"\".join(l2))\n",
    "print(\"min:\",l2)\n",
    "\n",
    "\n",
    "\n",
    "\n",
    "l3=sorted(l,reverse=True)\n",
    "l4=int(\"\".join(l3))\n",
    "print(\"max:\",l4)\n"
   ]
  },
  {
   "cell_type": "code",
   "execution_count": null,
   "id": "0b697b69",
   "metadata": {},
   "outputs": [],
   "source": []
  },
  {
   "cell_type": "code",
   "execution_count": 16,
   "id": "332117ba",
   "metadata": {},
   "outputs": [
    {
     "name": "stdout",
     "output_type": "stream",
     "text": [
      "3\n",
      "<class 'str'>\n",
      "4\n",
      "<class 'str'>\n",
      "2\n",
      "<class 'str'>\n",
      "1\n",
      "<class 'str'>\n"
     ]
    }
   ],
   "source": []
  },
  {
   "cell_type": "code",
   "execution_count": null,
   "id": "6e863b89",
   "metadata": {},
   "outputs": [],
   "source": []
  }
 ],
 "metadata": {
  "kernelspec": {
   "display_name": "Python 3 (ipykernel)",
   "language": "python",
   "name": "python3"
  },
  "language_info": {
   "codemirror_mode": {
    "name": "ipython",
    "version": 3
   },
   "file_extension": ".py",
   "mimetype": "text/x-python",
   "name": "python",
   "nbconvert_exporter": "python",
   "pygments_lexer": "ipython3",
   "version": "3.11.4"
  }
 },
 "nbformat": 4,
 "nbformat_minor": 5
}
